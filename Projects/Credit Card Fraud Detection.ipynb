{
 "cells": [
  {
   "cell_type": "markdown",
   "id": "bd99a8c1",
   "metadata": {},
   "source": [
    "pip install pandas numpy scikit-learn seaborn matplotlib imbalanced-learn\n"
   ]
  },
  {
   "cell_type": "markdown",
   "id": "9c66da3a",
   "metadata": {},
   "source": [
    "Download Dataset \n",
    "https://www.kaggle.com/datasets/mlg-ulb/creditcardfraud"
   ]
  },
  {
   "cell_type": "code",
   "execution_count": null,
   "id": "ea4258bb",
   "metadata": {
    "vscode": {
     "languageId": "plaintext"
    }
   },
   "outputs": [],
   "source": [
    "import pandas as pd\n",
    "import numpy as np\n",
    "import matplotlib.pyplot as plt\n",
    "import seaborn as sns\n",
    "\n",
    "from sklearn.model_selection import train_test_split, StratifiedKFold\n",
    "from sklearn.preprocessing import StandardScaler\n",
    "from sklearn.ensemble import RandomForestClassifier\n",
    "from sklearn.linear_model import LogisticRegression\n",
    "from sklearn.metrics import classification_report, confusion_matrix, roc_auc_score, roc_curve\n",
    "\n",
    "from imblearn.over_sampling import SMOTE"
   ]
  },
  {
   "cell_type": "code",
   "execution_count": null,
   "id": "ec6b9466",
   "metadata": {
    "vscode": {
     "languageId": "plaintext"
    }
   },
   "outputs": [],
   "source": [
    "#  1. Load Dataset \n",
    "df = pd.read_csv(\"creditcard.csv\")\n",
    "print(df['Class'].value_counts())  # Class 1 = Fraud, Class 0 = Normal\n",
    "\n",
    "#  2. Visualize Class Distribution \n",
    "sns.countplot(x='Class', data=df)\n",
    "plt.title(\"Class Distribution\")\n",
    "plt.show()\n"
   ]
  },
  {
   "cell_type": "code",
   "execution_count": null,
   "id": "2f76c9de",
   "metadata": {
    "vscode": {
     "languageId": "plaintext"
    }
   },
   "outputs": [],
   "source": [
    "#  3. Feature Scaling \n",
    "scaler = StandardScaler()\n",
    "df['scaled_amount'] = scaler.fit_transform(df['Amount'].values.reshape(-1, 1))\n",
    "df['scaled_time'] = scaler.fit_transform(df['Time'].values.reshape(-1, 1))\n",
    "df.drop(['Amount', 'Time'], axis=1, inplace=True)\n",
    "\n",
    ")"
   ]
<<<<<<< HEAD
  },
  {
   "cell_type": "code",
   "execution_count": null,
   "id": "4f278503",
   "metadata": {
    "vscode": {
     "languageId": "plaintext"
    }
   },
   "outputs": [],
   "source": [
    "\n",
    "#  5. Split Data \n",
    "X_train, X_test, y_train, y_test = train_test_split(\n",
    "    X, y, test_size=0.2, stratify=y, random_state=42"
   ]
=======
  },
  {
   "cell_type": "code",
   "execution_count": null,
   "id": "1364dff7",
   "metadata": {
    "vscode": {
     "languageId": "plaintext"
    }
   },
   "outputs": [],
   "source": [
    "\n",
    "#  4. Feature / Target \n",
    "X = df.drop('Class', axis=1)\n",
    "y = df['Class']\n"
   ]
>>>>>>> 392e09e38962eb0b5bd0c8dff64d199d13519f47
  }
 ],
 "metadata": {
  "language_info": {
   "name": "python"
  }
 },
 "nbformat": 4,
 "nbformat_minor": 5
}
