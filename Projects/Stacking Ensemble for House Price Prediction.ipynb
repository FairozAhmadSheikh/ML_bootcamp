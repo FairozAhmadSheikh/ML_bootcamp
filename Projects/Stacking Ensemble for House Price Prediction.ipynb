{
 "cells": [
  {
   "cell_type": "markdown",
   "id": "0a498d95",
   "metadata": {},
   "source": [
    "pip install pandas numpy scikit-learn seaborn matplotlib xgboost lightgbm\n"
   ]
  },
  {
   "cell_type": "markdown",
   "id": "49ed5b2b",
   "metadata": {},
   "source": [
    "https://www.kaggle.com/datasets/prevek18/ames-housing-dataset\n",
    "download the dataset"
   ]
  },
  {
   "cell_type": "code",
   "execution_count": null,
   "id": "dea4417d",
   "metadata": {
    "vscode": {
     "languageId": "plaintext"
    }
   },
   "outputs": [],
   "source": [
    "import pandas as pd\n",
    "import numpy as np\n",
    "from sklearn.model_selection import train_test_split, cross_val_predict\n",
    "from sklearn.preprocessing import StandardScaler, LabelEncoder\n",
    "from sklearn.ensemble import RandomForestRegressor, GradientBoostingRegressor, StackingRegressor\n",
    "from sklearn.linear_model import LinearRegression, Ridge\n",
    "from sklearn.metrics import mean_squared_error, r2_score\n",
    "import xgboost as xgb\n",
    "import lightgbm as lgb\n",
    "import matplotlib.pyplot as plt\n",
    "import seaborn as sns"
   ]
  },
  {
   "cell_type": "code",
   "execution_count": null,
   "id": "37d21645",
   "metadata": {
    "vscode": {
     "languageId": "plaintext"
    }
   },
   "outputs": [],
   "source": [
    "#  1. Load Dataset \n",
    "df = pd.read_csv(\"AmesHousing.csv\")\n",
    "\n",
    "# Drop columns with too many missing values\n",
    "df = df.dropna(axis=1, thresh=0.8*len(df))\n",
    "\n",
    "# Drop rows with any remaining missing data\n",
    "df = df.dropna()\n"
   ]
  },
  {
   "cell_type": "code",
   "execution_count": null,
   "id": "8bfdfa2a",
   "metadata": {
    "vscode": {
     "languageId": "plaintext"
    }
   },
   "outputs": [],
   "source": [
    "#  2. Encode Categorical Features \n",
    "for col in df.select_dtypes(include='object').columns:\n",
    "    df[col] = LabelEncoder().fit_transform(df[col])"
   ]
  },
  {
   "cell_type": "code",
   "execution_count": null,
   "id": "5495e401",
   "metadata": {
    "vscode": {
     "languageId": "plaintext"
    }
   },
   "outputs": [],
   "source": [
    "#  3. Feature and Target Split \n",
    "X = df.drop(['SalePrice'], axis=1)\n",
    "y = df['SalePrice']"
   ]
  },
  {
   "cell_type": "code",
   "execution_count": null,
   "id": "f1578dc8",
   "metadata": {
    "vscode": {
     "languageId": "plaintext"
    }
   },
   "outputs": [],
   "source": [
    "#  4. Train-Test Split and Scaling \n",
    "X_train, X_test, y_train, y_test = train_test_split(X, y, test_size=0.2, random_state=42)\n",
    "\n",
    "scaler = StandardScaler()\n",
    "X_train = scaler.fit_transform(X_train)\n",
    "X_test = scaler.transform(X_test)\n",
    "\n"
   ]
  },
  {
   "cell_type": "code",
   "execution_count": null,
   "id": "a13ba7a0",
   "metadata": {
    "vscode": {
     "languageId": "plaintext"
    }
   },
   "outputs": [],
   "source": [
    "\n",
    "#  5. Define Base Models \n",
    "model1 = RandomForestRegressor(n_estimators=100, random_state=42)\n",
    "model2 = xgb.XGBRegressor(n_estimators=100, random_state=42)\n",
    "model3 = lgb.LGBMRegressor(n_estimators=100, random_state=42)\n",
    "model4 = GradientBoostingRegressor(n_estimators=100, random_state=42)"
   ]
  }
 ],
 "metadata": {
  "language_info": {
   "name": "python"
  }
 },
 "nbformat": 4,
 "nbformat_minor": 5
}
