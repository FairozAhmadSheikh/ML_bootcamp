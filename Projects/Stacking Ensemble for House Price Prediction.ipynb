{
 "cells": [
  {
   "cell_type": "markdown",
   "id": "0a498d95",
   "metadata": {},
   "source": [
    "pip install pandas numpy scikit-learn seaborn matplotlib xgboost lightgbm\n"
   ]
  },
  {
   "cell_type": "markdown",
   "id": "49ed5b2b",
   "metadata": {},
   "source": [
    "https://www.kaggle.com/datasets/prevek18/ames-housing-dataset\n",
    "download the dataset"
   ]
  },
  {
   "cell_type": "markdown",
   "id": "fd29e70a",
   "metadata": {},
   "source": []
  }
 ],
 "metadata": {
  "language_info": {
   "name": "python"
  }
 },
 "nbformat": 4,
 "nbformat_minor": 5
}
