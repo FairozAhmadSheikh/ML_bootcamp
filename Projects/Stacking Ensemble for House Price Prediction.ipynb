{
 "cells": [
  {
   "cell_type": "markdown",
   "id": "0a498d95",
   "metadata": {},
   "source": [
    "pip install pandas numpy scikit-learn seaborn matplotlib xgboost lightgbm\n"
   ]
  },
  {
   "cell_type": "markdown",
   "id": "49ed5b2b",
   "metadata": {},
   "source": [
    "https://www.kaggle.com/datasets/prevek18/ames-housing-dataset\n",
    "download the dataset"
   ]
  },
  {
   "cell_type": "code",
   "execution_count": null,
   "id": "dea4417d",
   "metadata": {
    "vscode": {
     "languageId": "plaintext"
    }
   },
   "outputs": [],
   "source": [
    "import pandas as pd\n",
    "import numpy as np\n",
    "from sklearn.model_selection import train_test_split, cross_val_predict\n",
    "from sklearn.preprocessing import StandardScaler, LabelEncoder\n",
    "from sklearn.ensemble import RandomForestRegressor, GradientBoostingRegressor, StackingRegressor\n",
    "from sklearn.linear_model import LinearRegression, Ridge\n",
    "from sklearn.metrics import mean_squared_error, r2_score\n",
    "import xgboost as xgb\n",
    "import lightgbm as lgb\n",
    "import matplotlib.pyplot as plt\n",
    "import seaborn as sns"
   ]
  },
  {
   "cell_type": "code",
   "execution_count": null,
   "id": "37d21645",
   "metadata": {
    "vscode": {
     "languageId": "plaintext"
    }
   },
   "outputs": [],
   "source": [
    "#  1. Load Dataset \n",
    "df = pd.read_csv(\"AmesHousing.csv\")\n",
    "\n",
    "# Drop columns with too many missing values\n",
    "df = df.dropna(axis=1, thresh=0.8*len(df))\n",
    "\n",
    "# Drop rows with any remaining missing data\n",
    "df = df.dropna()\n"
   ]
  },
  {
   "cell_type": "code",
   "execution_count": null,
   "id": "8bfdfa2a",
   "metadata": {
    "vscode": {
     "languageId": "plaintext"
    }
   },
   "outputs": [],
   "source": [
    "#  2. Encode Categorical Features \n",
    "for col in df.select_dtypes(include='object').columns:\n",
    "    df[col] = LabelEncoder().fit_transform(df[col])"
   ]
  }
 ],
 "metadata": {
  "language_info": {
   "name": "python"
  }
 },
 "nbformat": 4,
 "nbformat_minor": 5
}
