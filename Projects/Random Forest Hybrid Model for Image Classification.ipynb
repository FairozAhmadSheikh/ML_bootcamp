{
 "cells": [
  {
   "cell_type": "markdown",
   "id": "c7d4c11f",
   "metadata": {},
   "source": [
    "pip install tensorflow scikit-learn"
   ]
  },
  {
   "cell_type": "code",
   "execution_count": null,
   "id": "cadb2e97",
   "metadata": {
    "vscode": {
     "languageId": "plaintext"
    }
   },
   "outputs": [],
   "source": [
    "import numpy as np\n",
    "from tensorflow.keras.datasets import mnist\n",
    "from tensorflow.keras.models import Model\n",
    "from tensorflow.keras.layers import Input, Conv2D, MaxPooling2D, Flatten\n",
    "from sklearn.ensemble import RandomForestClassifier\n",
    "from sklearn.metrics import classification_report, accuracy_score"
   ]
  },
  {
   "cell_type": "code",
   "execution_count": null,
   "id": "2c73a012",
   "metadata": {
    "vscode": {
     "languageId": "plaintext"
    }
   },
   "outputs": [],
   "source": [
    "# Step 1: Load MNIST Data\n",
    "(x_train, y_train), (x_test, y_test) = mnist.load_data()\n",
    "\n",
    "# Normalize and reshape\n",
    "x_train = x_train.astype('float32') / 255.\n",
    "x_test = x_test.astype('float32') / 255.\n",
    "x_train = x_train.reshape(-1, 28, 28, 1)\n",
    "x_test = x_test.reshape(-1, 28, 28, 1)\n"
   ]
  },
  {
   "cell_type": "code",
   "execution_count": null,
   "id": "f0318982",
   "metadata": {
    "vscode": {
     "languageId": "plaintext"
    }
   },
   "outputs": [],
   "source": [
    "# Step 2: Define CNN for feature extraction (without top classification layer)\n",
    "input_layer = Input(shape=(28, 28, 1))\n",
    "x = Conv2D(32, kernel_size=3, activation='relu')(input_layer)\n",
    "x = MaxPooling2D(pool_size=2)(x)\n",
    "x = Conv2D(64, kernel_size=3, activation='relu')(x)\n",
    "x = MaxPooling2D(pool_size=2)(x)\n",
    "x = Flatten()(x)\n",
    "feature_extractor = Model(inputs=input_layer, outputs=x)"
   ]
  },
  {
   "cell_type": "code",
   "execution_count": null,
   "id": "d01aa9ef",
   "metadata": {
    "vscode": {
     "languageId": "plaintext"
    }
   },
   "outputs": [],
   "source": [
    "# Step 3: Extract features\n",
    "train_features = feature_extractor.predict(x_train)\n",
    "test_features = feature_extractor.predict(x_test)\n"
   ]
  },
  {
   "cell_type": "code",
   "execution_count": null,
   "id": "79bf9dbf",
   "metadata": {
    "vscode": {
     "languageId": "plaintext"
    }
   },
   "outputs": [],
   "source": [
    "# Step 4: Train a Machine Learning classifier (Random Forest)\n",
    "clf = RandomForestClassifier(n_estimators=100, random_state=42)\n",
    "clf.fit(train_features, y_train)\n"
   ]
  },
  {
   "cell_type": "code",
   "execution_count": null,
   "id": "c042d9a1",
   "metadata": {
    "vscode": {
     "languageId": "plaintext"
    }
   },
   "outputs": [],
   "source": [
    "# Step 5: Predict and evaluate\n",
    "y_pred = clf.predict(test_features)\n",
    "print(\"Accuracy:\", accuracy_score(y_test, y_pred))\n",
    "print(\"Classification Report:\\n\", classification_report(y_test, y_pred))"
   ]
  },
  {
   "cell_type": "markdown",
   "id": "f23c16d8",
   "metadata": {},
   "source": [
    "Or "
   ]
  },
  {
   "cell_type": "code",
   "execution_count": null,
   "id": "cfc30502",
   "metadata": {
    "vscode": {
     "languageId": "plaintext"
    }
   },
   "outputs": [],
   "source": [
    "import numpy as np\n",
    "import matplotlib.pyplot as plt\n",
    "import seaborn as sns\n",
    "from sklearn.ensemble import RandomForestClassifier\n",
    "from sklearn.decomposition import PCA\n",
    "from sklearn.manifold import TSNE\n",
    "from sklearn.metrics import classification_report, accuracy_score, confusion_matrix\n",
    "\n",
    "import tensorflow as tf\n",
    "from tensorflow.keras.datasets import mnist\n",
    "from tensorflow.keras.models import Model\n",
    "from tensorflow.keras.layers import Input, Conv2D, MaxPooling2D, Flatten\n",
    "from tensorflow.keras.callbacks import EarlyStopping\n",
    "\n",
    "# -----------------------------\n",
    "# Block 1: Load and preprocess data\n",
    "# -----------------------------\n",
    "def load_data():\n",
    "    (x_train, y_train), (x_test, y_test) = mnist.load_data()\n",
    "    x_train = x_train.astype('float32') / 255.\n",
    "    x_test = x_test.astype('float32') / 255.\n",
    "    x_train = x_train.reshape(-1, 28, 28, 1)\n",
    "    x_test = x_test.reshape(-1, 28, 28, 1)\n",
    "    return x_train, y_train, x_test, y_test\n",
    "\n",
    "# -----------------------------\n",
    "# Block 2: Build CNN feature extractor\n",
    "# -----------------------------\n",
    "def build_cnn_feature_extractor():\n",
    "    input_layer = Input(shape=(28, 28, 1))\n",
    "    x = Conv2D(32, kernel_size=3, activation='relu')(input_layer)\n",
    "    x = MaxPooling2D(pool_size=2)(x)\n",
    "    x = Conv2D(64, kernel_size=3, activation='relu')(x)\n",
    "    x = MaxPooling2D(pool_size=2)(x)\n",
    "    x = Flatten()(x)\n",
    "    model = Model(inputs=input_layer, outputs=x)\n",
    "    return model\n",
    "\n",
    "# -----------------------------\n",
    "# Block 3: Visualize extracted features using PCA or t-SNE\n",
    "# -----------------------------\n",
    "def visualize_features(features, labels, method='pca'):\n",
    "    if method == 'pca':\n",
    "        reducer = PCA(n_components=2)\n",
    "    else:\n",
    "        reducer = TSNE(n_components=2, perplexity=30, n_iter=300)\n",
    "\n",
    "    reduced = reducer.fit_transform(features)\n",
    "    plt.figure(figsize=(8, 6))\n",
    "    sns.scatterplot(x=reduced[:, 0], y=reduced[:, 1], hue=labels, palette='tab10', legend='full', s=30)\n",
    "    plt.title(f'{method.upper()} Visualization of Features')\n",
    "    plt.show()\n",
    "\n",
    "# -----------------------------\n",
    "# Block 4: Plot confusion matrix\n",
    "# -----------------------------\n",
    "def plot_confusion_matrix(y_true, y_pred):\n",
    "    cm = confusion_matrix(y_true, y_pred)\n",
    "    plt.figure(figsize=(8, 6))\n",
    "    sns.heatmap(cm, annot=True, fmt='d', cmap='Blues', xticklabels=range(10), yticklabels=range(10))\n",
    "    plt.xlabel(\"Predicted\")\n",
    "    plt.ylabel(\"Actual\")\n",
    "    plt.title(\"Confusion Matrix\")\n",
    "    plt.show()\n",
    "\n"
   ]
  },
  {
   "cell_type": "code",
   "execution_count": null,
   "id": "6f51347d",
   "metadata": {
    "vscode": {
     "languageId": "plaintext"
    }
   },
   "outputs": [],
   "source": [
    "# -----------------------------\n",
    "# Block 5: Main Execution\n",
    "# -----------------------------\n",
    "def main():\n",
    "    # Load data\n",
    "    x_train, y_train, x_test, y_test = load_data()\n",
    "\n",
    "    # Build CNN encoder\n",
    "    feature_extractor = build_cnn_feature_extractor()\n",
    "    \n",
    "    # Optional: compile and train CNN for feature learning (unsupervised use case may skip this)\n",
    "    feature_extractor.compile(optimizer='adam', loss='mse')\n",
    "    # For now, skip training and directly extract features\n",
    "    train_features = feature_extractor.predict(x_train)\n",
    "    test_features = feature_extractor.predict(x_test)\n",
    "\n",
    "    # Visualize features\n",
    "    visualize_features(train_features[:2000], y_train[:2000], method='pca')\n",
    "\n",
    "    # ML classifier: Random Forest\n",
    "    clf = RandomForestClassifier(n_estimators=100, random_state=42)\n",
    "    clf.fit(train_features, y_train)\n",
    "    y_pred = clf.predict(test_features)\n",
    "\n",
    "    # Evaluation\n",
    "    print(\"Accuracy:\", accuracy_score(y_test, y_pred))\n",
    "    print(\"Classification Report:\\n\", classification_report(y_test, y_pred))\n",
    "    plot_confusion_matrix(y_test, y_pred)\n",
    "\n",
    "# Run everything\n",
    "main()\n"
   ]
  },
  {
   "cell_type": "markdown",
   "id": "7c7b2dbc",
   "metadata": {},
   "source": [
    "Completes Sucessfully"
   ]
  }
 ],
 "metadata": {
  "language_info": {
   "name": "python"
  }
 },
 "nbformat": 4,
 "nbformat_minor": 5
}
