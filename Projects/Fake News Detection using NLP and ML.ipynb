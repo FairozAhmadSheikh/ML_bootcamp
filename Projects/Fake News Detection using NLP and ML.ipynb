{
 "cells": [
  {
   "cell_type": "markdown",
   "id": "5563dddc",
   "metadata": {},
   "source": [
    "Fake News Detection using NLP and ML"
   ]
  },
  {
   "cell_type": "markdown",
   "id": "46990f03",
   "metadata": {},
   "source": [
    "https://www.kaggle.com/datasets/clmentbisaillon/fake-and-real-news-dataset\n",
    "After downloading, extract and use True.csv and Fake.csv."
   ]
  },
  {
   "cell_type": "code",
   "execution_count": null,
   "id": "a0b79989",
   "metadata": {
    "vscode": {
     "languageId": "plaintext"
    }
   },
   "outputs": [],
   "source": [
    "import pandas as pd\n",
    "import numpy as np\n",
    "import matplotlib.pyplot as plt\n",
    "import seaborn as sns\n",
    "\n",
    "from sklearn.model_selection import train_test_split\n",
    "from sklearn.feature_extraction.text import TfidfVectorizer\n",
    "from sklearn.naive_bayes import PassiveAggressiveClassifier\n",
    "from sklearn.metrics import accuracy_score, confusion_matrix, classification_report"
   ]
  },
  {
   "cell_type": "code",
   "execution_count": null,
   "id": "2cf7a224",
   "metadata": {
    "vscode": {
     "languageId": "plaintext"
    }
   },
   "outputs": [],
   "source": [
    "#  1. Load Dataset \n",
    "true_df = pd.read_csv('True.csv')\n",
    "fake_df = pd.read_csv('Fake.csv')\n",
    "\n",
    "true_df['label'] = 1  # Real news\n",
    "fake_df['label'] = 0  # Fake news\n",
    "\n",
    "df = pd.concat([true_df, fake_df], ignore_index=True)\n",
    "df = df.sample(frac=1).reset_index(drop=True)  # Shuffle dataset"
   ]
  },
  {
   "cell_type": "code",
   "execution_count": null,
   "id": "72ad1220",
   "metadata": {
    "vscode": {
     "languageId": "plaintext"
    }
   },
   "outputs": [],
   "source": [
    "#  2. Preprocessing \n",
    "X = df['text']\n",
    "y = df['label']\n",
    "\n",
    "# Train-test split\n",
    "X_train, X_test, y_train, y_test = train_test_split(X, y, test_size=0.2, random_state=42)\n",
    "\n",
    "# TF-IDF Vectorization\n",
    "vectorizer = TfidfVectorizer(stop_words='english', max_df=0.7)\n",
    "X_train_tfidf = vectorizer.fit_transform(X_train)\n",
    "X_test_tfidf = vectorizer.transform(X_test)"
   ]
  },
  {
   "cell_type": "code",
   "execution_count": null,
   "id": "632c7695",
   "metadata": {
    "vscode": {
     "languageId": "plaintext"
    }
   },
   "outputs": [],
   "source": [
    "#  3. Train Model \n",
    "model = PassiveAggressiveClassifier(max_iter=1000)\n",
    "model.fit(X_train_tfidf, y_train)\n",
    "\n",
    "#  4. Evaluate \n",
    "y_pred = model.predict(X_test_tfidf)"
   ]
  },
  {
   "cell_type": "code",
   "execution_count": null,
   "id": "42cc44bb",
   "metadata": {
    "vscode": {
     "languageId": "plaintext"
    }
   },
   "outputs": [],
   "source": [
    "print(\"Accuracy:\", accuracy_score(y_test, y_pred))\n",
    "print(\"\\nClassification Report:\\n\", classification_report(y_test, y_pred))"
   ]
  }
 ],
 "metadata": {
  "language_info": {
   "name": "python"
  }
 },
 "nbformat": 4,
 "nbformat_minor": 5
}
