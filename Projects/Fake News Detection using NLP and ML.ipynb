{
 "cells": [
  {
   "cell_type": "markdown",
   "id": "5563dddc",
   "metadata": {},
   "source": [
    "Fake News Detection using NLP and ML"
   ]
  },
  {
   "cell_type": "markdown",
   "id": "46990f03",
   "metadata": {},
   "source": [
    "https://www.kaggle.com/datasets/clmentbisaillon/fake-and-real-news-dataset\n",
    "After downloading, extract and use True.csv and Fake.csv."
   ]
  }
 ],
 "metadata": {
  "language_info": {
   "name": "python"
  }
 },
 "nbformat": 4,
 "nbformat_minor": 5
}
