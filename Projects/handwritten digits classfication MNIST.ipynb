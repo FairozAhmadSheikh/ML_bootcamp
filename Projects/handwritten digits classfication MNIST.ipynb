{
 "cells": [
  {
   "cell_type": "code",
   "execution_count": null,
   "id": "7ec5a4ed",
   "metadata": {
    "vscode": {
     "languageId": "plaintext"
    }
   },
   "outputs": [],
   "source": [
    "# --- 1. Import necessary libraries ---\n",
    "# TensorFlow is the core library for building and training neural networks.\n",
    "import tensorflow as tf"
   ]
  },
  {
   "cell_type": "code",
   "execution_count": null,
   "id": "99761e32",
   "metadata": {
    "vscode": {
     "languageId": "plaintext"
    }
   },
   "outputs": [],
   "source": [
    "# numpy is used for numerical operations, especially with arrays.\n",
    "import numpy as np\n",
    "\n",
    "# matplotlib is used to visualize the image for our prediction.\n",
    "import matplotlib.pyplot as plt\n",
    "\n",
    "print(\"--- TensorFlow and Libraries Loaded ---\")\n",
    "print(f\"TensorFlow version: {tf.__version__}\")\n",
    "print(\"-\" * 35)"
   ]
  }
 ],
 "metadata": {
  "language_info": {
   "name": "python"
  }
 },
 "nbformat": 4,
 "nbformat_minor": 5
}
