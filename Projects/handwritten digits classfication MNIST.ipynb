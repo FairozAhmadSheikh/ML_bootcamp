{
 "cells": [
  {
   "cell_type": "code",
   "execution_count": null,
   "id": "7ec5a4ed",
   "metadata": {
    "vscode": {
     "languageId": "plaintext"
    }
   },
   "outputs": [],
   "source": [
    "# --- 1. Import necessary libraries ---\n",
    "# TensorFlow is the core library for building and training neural networks.\n",
    "import tensorflow as tf"
   ]
  },
  {
   "cell_type": "code",
   "execution_count": null,
   "id": "99761e32",
   "metadata": {
    "vscode": {
     "languageId": "plaintext"
    }
   },
   "outputs": [],
   "source": [
    "# numpy is used for numerical operations, especially with arrays.\n",
    "import numpy as np\n",
    "\n",
    "# matplotlib is used to visualize the image for our prediction.\n",
    "import matplotlib.pyplot as plt\n",
    "\n",
    "print(\"--- TensorFlow and Libraries Loaded ---\")\n",
    "print(f\"TensorFlow version: {tf.__version__}\")\n",
    "print(\"-\" * 35)"
   ]
  },
  {
   "cell_type": "code",
   "execution_count": null,
   "id": "ead46153",
   "metadata": {
    "vscode": {
     "languageId": "plaintext"
    }
   },
   "outputs": [],
   "source": [
    "# --- 2. Load the MNIST dataset ---\n",
    "# The dataset is conveniently available within Keras and is split into\n",
    "# training and testing sets automatically.\n",
    "(x_train, y_train), (x_test, y_test) = tf.keras.datasets.mnist.load_data()\n",
    "\n",
    "print(\"\\n--- Dataset Loaded ---\")\n",
    "print(f\"Training data shape (images): {x_train.shape}\")\n",
    "print(f\"Training data shape (labels): {y_train.shape}\")\n",
    "print(f\"Testing data shape (images):  {x_test.shape}\")\n",
    "print(f\"Testing data shape (labels):  {y_test.shape}\")\n",
    "print(\"-\" * 35)"
   ]
  },
  {
   "cell_type": "code",
   "execution_count": null,
   "id": "f9b93c69",
   "metadata": {
    "vscode": {
     "languageId": "plaintext"
    }
   },
   "outputs": [],
   "source": [
    "# --- 3. Preprocess the data ---\n",
    "# Deep learning models work best with normalized data.\n",
    "# We'll normalize the pixel values from the range [0, 255] to [0, 1].\n",
    "x_train = x_train / 255.0\n",
    "x_test = x_test / 255.0"
   ]
  }
 ],
 "metadata": {
  "language_info": {
   "name": "python"
  }
 },
 "nbformat": 4,
 "nbformat_minor": 5
}
