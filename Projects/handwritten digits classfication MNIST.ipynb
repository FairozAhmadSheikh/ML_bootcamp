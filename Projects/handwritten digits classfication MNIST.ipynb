{
 "cells": [
  {
   "cell_type": "code",
   "execution_count": null,
   "id": "7ec5a4ed",
   "metadata": {
    "vscode": {
     "languageId": "plaintext"
    }
   },
   "outputs": [],
   "source": [
    "# --- 1. Import necessary libraries ---\n",
    "# TensorFlow is the core library for building and training neural networks.\n",
    "import tensorflow as tf"
   ]
  },
  {
   "cell_type": "code",
   "execution_count": null,
   "id": "99761e32",
   "metadata": {
    "vscode": {
     "languageId": "plaintext"
    }
   },
   "outputs": [],
   "source": [
    "# numpy is used for numerical operations, especially with arrays.\n",
    "import numpy as np\n",
    "\n",
    "# matplotlib is used to visualize the image for our prediction.\n",
    "import matplotlib.pyplot as plt\n",
    "\n",
    "print(\"--- TensorFlow and Libraries Loaded ---\")\n",
    "print(f\"TensorFlow version: {tf.__version__}\")\n",
    "print(\"-\" * 35)"
   ]
  },
  {
   "cell_type": "code",
   "execution_count": null,
   "id": "ead46153",
   "metadata": {
    "vscode": {
     "languageId": "plaintext"
    }
   },
   "outputs": [],
   "source": [
    "# --- 2. Load the MNIST dataset ---\n",
    "# The dataset is conveniently available within Keras and is split into\n",
    "# training and testing sets automatically.\n",
    "(x_train, y_train), (x_test, y_test) = tf.keras.datasets.mnist.load_data()\n",
    "\n",
    "print(\"\\n--- Dataset Loaded ---\")\n",
    "print(f\"Training data shape (images): {x_train.shape}\")\n",
    "print(f\"Training data shape (labels): {y_train.shape}\")\n",
    "print(f\"Testing data shape (images):  {x_test.shape}\")\n",
    "print(f\"Testing data shape (labels):  {y_test.shape}\")\n",
    "print(\"-\" * 35)"
   ]
  },
  {
   "cell_type": "code",
   "execution_count": null,
   "id": "f9b93c69",
   "metadata": {
    "vscode": {
     "languageId": "plaintext"
    }
   },
   "outputs": [],
   "source": [
    "# --- 3. Preprocess the data ---\n",
    "# Deep learning models work best with normalized data.\n",
    "# We'll normalize the pixel values from the range [0, 255] to [0, 1].\n",
    "x_train = x_train / 255.0\n",
    "x_test = x_test / 255.0"
   ]
  },
  {
   "cell_type": "code",
   "execution_count": null,
   "id": "8231476c",
   "metadata": {
    "vscode": {
     "languageId": "plaintext"
    }
   },
   "outputs": [],
   "source": [
    "# CNNs expect a 4-dimensional input: (samples, height, width, channels).\n",
    "# Our images are currently 3D: (samples, height, width).\n",
    "# We'll add a channel dimension for grayscale (1 channel).\n",
    "x_train = np.expand_dims(x_train, axis=-1)\n",
    "x_test = np.expand_dims(x_test, axis=-1)"
   ]
  },
  {
   "cell_type": "code",
   "execution_count": null,
   "id": "e92f4097",
   "metadata": {
    "vscode": {
     "languageId": "plaintext"
    }
   },
   "outputs": [],
   "source": [
    "# The labels (y_train, y_test) are single integers (e.g., 5).\n",
    "# We need to one-hot encode them for multi-class classification.\n",
    "# For example, the digit 5 becomes a vector [0, 0, 0, 0, 0, 1, 0, 0, 0, 0].\n",
    "y_train = tf.keras.utils.to_categorical(y_train, num_classes=10)\n",
    "y_test = tf.keras.utils.to_categorical(y_test, num_classes=10)\n",
    "\n",
    "print(\"\\n--- Data Preprocessing Complete ---\")\n",
    "print(f\"Reshaped training images shape: {x_train.shape}\")\n",
    "print(f\"One-hot encoded training labels shape: {y_train.shape}\")\n",
    "print(\"-\" * 35)"
   ]
  }
 ],
 "metadata": {
  "language_info": {
   "name": "python"
  }
 },
 "nbformat": 4,
 "nbformat_minor": 5
}
