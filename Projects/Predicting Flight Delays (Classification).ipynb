{
 "cells": [
  {
   "cell_type": "markdown",
   "id": "07c140ee",
   "metadata": {},
   "source": [
    "pip install pandas scikit-learn xgboost lightgbm matplotlib seaborn\n"
   ]
  },
  {
   "cell_type": "code",
   "execution_count": null,
   "id": "24239629",
   "metadata": {
    "vscode": {
     "languageId": "plaintext"
    }
   },
   "outputs": [],
   "source": [
    "import pandas as pd\n",
    "import numpy as np\n",
    "import seaborn as sns\n",
    "import matplotlib.pyplot as plt\n",
    "\n",
    "from sklearn.model_selection import train_test_split, GridSearchCV\n",
    "from sklearn.preprocessing import StandardScaler, LabelEncoder\n",
    "from sklearn.ensemble import RandomForestClassifier, GradientBoostingClassifier, StackingClassifier\n",
    "from sklearn.linear_model import LogisticRegression\n",
    "from sklearn.metrics import classification_report, confusion_matrix\n",
    "from xgboost import XGBClassifier\n",
    "from lightgbm import LGBMClassifier\n",
    "from sklearn.pipeline import Pipeline\n",
    "from sklearn.compose import ColumnTransformer\n",
    "from sklearn.impute import SimpleImputer"
   ]
  },
  {
   "cell_type": "code",
   "execution_count": null,
   "id": "4b0402b6",
   "metadata": {
    "vscode": {
     "languageId": "plaintext"
    }
   },
   "outputs": [],
   "source": [
    "# ========== 1. Load Dataset ==========\n",
    "df = pd.read_csv(\"2015.csv\")  # Use a single year for simplicity"
   ]
  },
  {
   "cell_type": "code",
   "execution_count": null,
   "id": "9267404b",
   "metadata": {
    "vscode": {
     "languageId": "plaintext"
    }
   },
   "outputs": [],
   "source": [
    "# ========== 2. Select Useful Columns ==========\n",
    "df = df[[\n",
    "    'MONTH', 'DAY_OF_WEEK', 'OP_UNIQUE_CARRIER', 'ORIGIN', 'DEST', 'CRS_DEP_TIME',\n",
    "    'DISTANCE', 'DEP_DELAY', 'ARR_DELAY'\n",
    "]]"
   ]
  },
  {
   "cell_type": "code",
   "execution_count": null,
   "id": "3ad6c8b8",
   "metadata": {
    "vscode": {
     "languageId": "plaintext"
    }
   },
   "outputs": [],
   "source": [
    "# ========== 3. Target Creation ==========\n",
    "df = df.dropna(subset=['DEP_DELAY', 'ARR_DELAY'])  # Drop rows with missing delay\n",
    "df['Delayed'] = (df['ARR_DELAY'] > 15).astype(int)  # Delayed if arrival delay > 15 mins"
   ]
  }
 ],
 "metadata": {
  "language_info": {
   "name": "python"
  }
 },
 "nbformat": 4,
 "nbformat_minor": 5
}
