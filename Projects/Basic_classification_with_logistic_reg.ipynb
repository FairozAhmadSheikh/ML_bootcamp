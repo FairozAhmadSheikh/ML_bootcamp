{
 "cells": [
  {
   "cell_type": "code",
   "execution_count": null,
   "id": "8a5fa055",
   "metadata": {},
   "outputs": [],
   "source": [
    "import numpy as np\n",
    "from sklearn.datasets import fetch_openml\n",
    "from sklearn.model_selection import train_test_split\n",
    "from sklearn.linear_model import LogisticRegression\n",
    "from sklearn.metrics import accuracy_score, classification_report"
   ]
  },
  {
   "cell_type": "code",
   "execution_count": null,
   "id": "6dd34b55",
   "metadata": {},
   "outputs": [],
   "source": [
    "# Load CIFAR-10 (10-class image dataset)\n",
    "X, y = fetch_openml('CIFAR_10_small', version=1, return_X_y=True, as_frame=False)"
   ]
  },
  {
   "cell_type": "code",
   "execution_count": null,
   "id": "deabff54",
   "metadata": {},
   "outputs": [],
   "source": [
    "X = X / 255.0  # Normalize pixel values"
   ]
  },
  {
   "cell_type": "code",
   "execution_count": null,
   "id": "5f0bfaa8",
   "metadata": {},
   "outputs": [],
   "source": [
    "# Flatten images for classic ML models\n",
    "X_flat = X.reshape(X.shape, -1)\n",
    "y = y.astype(int)"
   ]
  },
  {
   "cell_type": "code",
   "execution_count": null,
   "id": "c3d179e5",
   "metadata": {},
   "outputs": [],
   "source": [
    "X_train, X_test, y_train, y_test = train_test_split(X_flat, y, test_size=0.2, random_state=42)\n"
   ]
  },
  {
   "cell_type": "code",
   "execution_count": null,
   "id": "e57b203f",
   "metadata": {},
   "outputs": [],
   "source": [
    "# Logistic Regression\n",
    "lr = LogisticRegression(max_iter=100, solver='lbfgs', multi_class='multinomial')\n",
    "lr.fit(X_train, y_train)\n",
    "pred = lr.predict(X_test)"
   ]
  },
  {
   "cell_type": "code",
   "execution_count": null,
   "id": "aaf7d9be",
   "metadata": {},
   "outputs": [],
   "source": [
    "print(\"Logistic Regression Accuracy:\", accuracy_score(y_test, pred))\n",
    "print(classification_report(y_test, pred))"
   ]
  },
  {
   "cell_type": "markdown",
   "id": "9e881e59",
   "metadata": {},
   "source": [
    "Enhanced: Random Forest Classifier"
   ]
  },
  {
   "cell_type": "code",
   "execution_count": null,
   "id": "75ee611f",
   "metadata": {},
   "outputs": [],
   "source": [
    "from sklearn.ensemble import RandomForestClassifier"
   ]
  },
  {
   "cell_type": "code",
   "execution_count": null,
   "id": "bf1f25a7",
   "metadata": {},
   "outputs": [],
   "source": [
    "# Random Forests can handle non-linear patterns and noisy features\n",
    "rf = RandomForestClassifier(n_estimators=100, max_depth=20, random_state=42, n_jobs=-1)\n",
    "rf.fit(X_train, y_train)"
   ]
  }
 ],
 "metadata": {
  "language_info": {
   "name": "python"
  }
 },
 "nbformat": 4,
 "nbformat_minor": 5
}
