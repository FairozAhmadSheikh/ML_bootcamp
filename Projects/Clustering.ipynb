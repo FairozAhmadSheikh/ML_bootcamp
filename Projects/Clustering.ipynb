{
 "cells": [
  {
   "cell_type": "code",
   "execution_count": null,
   "id": "ddb9afea",
   "metadata": {},
   "outputs": [],
   "source": [
    "import numpy as np\n",
    "from sklearn.datasets import fetch_openml\n",
    "from sklearn.cluster import KMeans\n",
    "from sklearn.metrics import adjusted_rand_score"
   ]
  },
  {
   "cell_type": "code",
   "execution_count": null,
   "id": "ab38483f",
   "metadata": {},
   "outputs": [],
   "source": [
    "# Load MNIST (handwritten digits)\n",
    "X, y = fetch_openml(\"mnist_784\", version=1, return_X_y=True, as_frame=False)"
   ]
  },
  {
   "cell_type": "code",
   "execution_count": null,
   "id": "30cd0f4e",
   "metadata": {},
   "outputs": [],
   "source": [
    "# Basic KMeans Clustering\n",
    "kmeans = KMeans(n_clusters=10, n_init=10, verbose=1, random_state=42)\n",
    "clusters = kmeans.fit_predict(X)"
   ]
  },
  {
   "cell_type": "code",
   "execution_count": null,
   "id": "122e7cb0",
   "metadata": {},
   "outputs": [],
   "source": [
    "# Evaluation\n",
    "score = adjusted_rand_score(y, clusters)\n",
    "print(\"KMeans Adjusted Rand Score:\", score)\n"
   ]
  },
  {
   "cell_type": "markdown",
   "id": "c8ca3f38",
   "metadata": {},
   "source": [
    "Improved: Gaussian Mixture Model (GMM)"
   ]
  },
  {
   "cell_type": "code",
   "execution_count": null,
   "id": "011b79ad",
   "metadata": {},
   "outputs": [],
   "source": [
    "from sklearn.mixture import GaussianMixture\n",
    "# Gaussian Mixture Model clustering\n",
    "gmm = GaussianMixture(n_components=10, covariance_type='full', random_state=42)\n",
    "gmm_labels = gmm.fit_predict(X)"
   ]
  },
  {
   "cell_type": "code",
   "execution_count": null,
   "id": "9887c3af",
   "metadata": {},
   "outputs": [],
   "source": [
    "# Evaluation\n",
    "score_gmm = adjusted_rand_score(y, gmm_labels)\n",
    "print(\"Gaussian Mixture Model Adjusted Rand Score:\", score_gmm)"
   ]
  },
  {
   "cell_type": "markdown",
   "id": "885367d1",
   "metadata": {},
   "source": [
    "Next: Spectral Clustering"
   ]
  },
  {
   "cell_type": "code",
   "execution_count": null,
   "id": "9afe5af8",
   "metadata": {},
   "outputs": [],
   "source": [
    "from sklearn.preprocessing import StandardScaler\n",
    "from sklearn.cluster import SpectralClustering"
   ]
  },
  {
   "cell_type": "code",
   "execution_count": null,
   "id": "152bb3eb",
   "metadata": {},
   "outputs": [],
   "source": [
    "# Standardize data for spectral clustering\n",
    "X_scaled = StandardScaler().fit_transform(X)"
   ]
  },
  {
   "cell_type": "code",
   "execution_count": null,
   "id": "2facf347",
   "metadata": {},
   "outputs": [],
   "source": [
    "# Due to computational limits, pick a subset for Spectral Clustering\n",
    "subset = 2000  # otherwise, it's too slow\n",
    "X_small, y_small = X_scaled[:subset], y[:subset]\n"
   ]
  },
  {
   "cell_type": "code",
   "execution_count": null,
   "id": "72a2fddb",
   "metadata": {},
   "outputs": [],
   "source": [
    "sc = SpectralClustering(n_clusters=10, affinity='nearest_neighbors', n_neighbors=10, random_state=42)\n",
    "sc_labels = sc.fit_predict(X_small)"
   ]
  },
  {
   "cell_type": "code",
   "execution_count": null,
   "id": "48ac22be",
   "metadata": {},
   "outputs": [],
   "source": [
    "score_sc = adjusted_rand_score(y_small, sc_labels)\n",
    "print(\"Spectral Clustering Adjusted Rand Score:\", score_sc)"
   ]
  },
  {
   "cell_type": "markdown",
   "id": "66bedc52",
   "metadata": {},
   "source": [
    "Advanced: Deep Learning with Autoencoder + Clustering"
   ]
  },
  {
   "cell_type": "code",
   "execution_count": null,
   "id": "3d002cb3",
   "metadata": {},
   "outputs": [],
   "source": [
    "import tensorflow as tf\n",
    "from tensorflow.keras import layers, models"
   ]
  },
  {
   "cell_type": "code",
   "execution_count": null,
   "id": "bbc9bd9b",
   "metadata": {},
   "outputs": [],
   "source": [
    "# Reduce the dataset size to avoid memory issues\n",
    "X_train = X[:10000] / 255.0"
   ]
  },
  {
   "cell_type": "code",
   "execution_count": null,
   "id": "336bafbf",
   "metadata": {},
   "outputs": [],
   "source": [
    "# Build a deep autoencoder\n",
    "input_dim = X_train.shape[1]\n",
    "encoding_dim = 64"
   ]
  },
  {
   "cell_type": "code",
   "execution_count": null,
   "id": "8704c0c2",
   "metadata": {},
   "outputs": [],
   "source": [
    "autoencoder = models.Sequential([\n",
    "    layers.Input(shape=(input_dim,)),\n",
    "    layers.Dense(512, activation='relu'),\n",
    "    layers.Dense(256, activation='relu'),\n",
    "    layers.Dense(encoding_dim, activation='relu'),\n",
    "    layers.Dense(256, activation='relu'),\n",
    "    layers.Dense(512, activation='relu'),\n",
    "    layers.Dense(input_dim, activation='sigmoid')\n",
    "])"
   ]
  },
  {
   "cell_type": "code",
   "execution_count": null,
   "id": "811ab68c",
   "metadata": {},
   "outputs": [],
   "source": [
    "autoencoder.compile(optimizer='adam', loss='mse')\n",
    "autoencoder.fit(X_train, X_train, epochs=10, batch_size=256, verbose=2)\n"
   ]
  },
  {
   "cell_type": "code",
   "execution_count": null,
   "id": "c5858904",
   "metadata": {},
   "outputs": [],
   "source": [
    "\n",
    "# Encoder for dimensionality reduction\n",
    "encoder = models.Sequential(autoencoder.layers[:3])\n",
    "X_encoded = encoder.predict(X_train)"
   ]
  },
  {
   "cell_type": "code",
   "execution_count": null,
   "id": "9cfbb0c5",
   "metadata": {},
   "outputs": [],
   "source": [
    "# KMeans in reduced space\n",
    "kmeans_ae = KMeans(n_clusters=10, n_init=10, random_state=42)\n",
    "clusters_ae = kmeans_ae.fit_predict(X_encoded)"
   ]
  },
  {
   "cell_type": "code",
   "execution_count": null,
   "id": "1a0441bb",
   "metadata": {},
   "outputs": [],
   "source": [
    "# Evaluate clustering\n",
    "score_ae = adjusted_rand_score(y[:10000], clusters_ae)\n",
    "print(\"Autoencoder + KMeans Adjusted Rand Score:\", score_ae)"
   ]
  }
 ],
 "metadata": {
  "language_info": {
   "name": "python"
  }
 },
 "nbformat": 4,
 "nbformat_minor": 5
}
