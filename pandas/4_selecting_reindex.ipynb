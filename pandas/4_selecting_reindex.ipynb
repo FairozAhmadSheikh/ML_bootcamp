{
 "cells": [
  {
   "cell_type": "code",
   "execution_count": 1,
   "metadata": {},
   "outputs": [],
   "source": [
    "import pandas as pd"
   ]
  },
  {
   "cell_type": "code",
   "execution_count": null,
   "metadata": {},
   "outputs": [],
   "source": [
    "technologies=({\n",
    "    \"Courses\":[\"spark\",\"pyspark\",\"hadoop\",\"pandas\"],\n",
    "    \"Fee\":[\"28000\",\"19000\",\"21000\",\"25000\"],\n",
    "    \"Duration\":[\"30days\",\"40days\",\"50days\",\"60days\"],\n",
    "    \"Duration\":[\"300\",\"400\",\"1500\",\"1000\"],\n",
    "})"
   ]
  }
 ],
 "metadata": {
  "kernelspec": {
   "display_name": "base",
   "language": "python",
   "name": "python3"
  },
  "language_info": {
   "codemirror_mode": {
    "name": "ipython",
    "version": 3
   },
   "file_extension": ".py",
   "mimetype": "text/x-python",
   "name": "python",
   "nbconvert_exporter": "python",
   "pygments_lexer": "ipython3",
   "version": "3.12.7"
  }
 },
 "nbformat": 4,
 "nbformat_minor": 2
}
