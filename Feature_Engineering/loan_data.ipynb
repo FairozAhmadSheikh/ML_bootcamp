{
 "cells": [
  {
   "cell_type": "code",
   "execution_count": null,
   "id": "6b01e84a",
   "metadata": {
    "vscode": {
     "languageId": "plaintext"
    }
   },
   "outputs": [],
   "source": [
    "import pandas as pd\n",
    "import numpy as np\n",
    "from sklearn.preprocessing import LabelEncoder, OneHotEncoder, StandardScaler\n",
    "from sklearn.model_selection import train_test_split\n",
    "from sklearn.impute import SimpleImputer\n",
    "import re\n",
    "\n",
    "# Load data\n",
    "df = pd.read_csv(\"loan_data.csv\", low_memory=False)"
   ]
  },
  {
   "cell_type": "code",
   "execution_count": null,
   "id": "cfb77eeb",
   "metadata": {
    "vscode": {
     "languageId": "plaintext"
    }
   },
   "outputs": [],
   "source": [
    "# Drop irrelevant columns \n",
    "df = df[[\n",
    "    'loan_amnt', 'term', 'int_rate', 'emp_length', 'home_ownership',\n",
    "    'annual_inc', 'purpose', 'issue_d', 'loan_status', 'dti',\n",
    "    'revol_util', 'open_acc', 'pub_rec', 'total_acc'\n",
    "]]\n"
   ]
  },
  {
   "cell_type": "code",
   "execution_count": null,
   "id": "9f4bdb24",
   "metadata": {
    "vscode": {
     "languageId": "plaintext"
    }
   },
   "outputs": [],
   "source": [
    "#  Target Encoding\n",
    "df = df[df[\"loan_status\"].isin([\"Fully Paid\", \"Charged Off\"])]  # Binary classification\n",
    "df[\"target\"] = df[\"loan_status\"].map({\"Fully Paid\": 0, \"Charged Off\": 1})\n",
    "df.drop(\"loan_status\", axis=1, inplace=True)"
   ]
  },
  {
   "cell_type": "code",
   "execution_count": null,
   "id": "d7b103e4",
   "metadata": {
    "vscode": {
     "languageId": "plaintext"
    }
   },
   "outputs": [],
   "source": [
    "#  Clean and Convert Columns \n",
    "df[\"int_rate\"] = df[\"int_rate\"].str.replace('%', '').astype(float)\n",
    "df[\"revol_util\"] = df[\"revol_util\"].str.replace('%', '').astype(float)\n",
    "df[\"term\"] = df[\"term\"].str.extract('(\\d+)').astype(int)"
   ]
  },
  {
   "cell_type": "code",
   "execution_count": null,
   "id": "b247dfe0",
   "metadata": {
    "vscode": {
     "languageId": "plaintext"
    }
   },
   "outputs": [],
   "source": [
    "\n",
    "# Extract year/month from issue_d\n",
    "df[\"issue_d\"] = pd.to_datetime(df[\"issue_d\"])\n",
    "df[\"issue_year\"] = df[\"issue_d\"].dt.year\n",
    "df[\"issue_month\"] = df[\"issue_d\"].dt.month\n",
    "df.drop(\"issue_d\", axis=1, inplace=True)"
   ]
  },
  {
   "cell_type": "code",
   "execution_count": null,
   "id": "b949146e",
   "metadata": {
    "vscode": {
     "languageId": "plaintext"
    }
   },
   "outputs": [],
   "source": [
    "# Clean emp_length\n",
    "def clean_emp_length(val):\n",
    "    if pd.isnull(val): return np.nan\n",
    "    if \"< 1 year\" in val: return 0\n",
    "    if \"10+\" in val: return 10\n",
    "    return int(re.search(r'\\d+', val).group())\n",
    "\n",
    "df[\"emp_length\"] = df[\"emp_length\"].apply(clean_emp_length)"
   ]
  },
  {
   "cell_type": "code",
   "execution_count": null,
   "id": "dbf14524",
   "metadata": {
    "vscode": {
     "languageId": "plaintext"
    }
   },
   "outputs": [],
   "source": [
    "# Missing Values \n",
    "imputer = SimpleImputer(strategy='median')\n",
    "num_cols = df.select_dtypes(include=['float64', 'int64']).columns\n",
    "df[num_cols] = imputer.fit_transform(df[num_cols])"
   ]
  },
  {
   "cell_type": "code",
   "execution_count": null,
   "id": "357480c6",
   "metadata": {
    "vscode": {
     "languageId": "plaintext"
    }
   },
   "outputs": [],
   "source": [
    "#   5. Feature Engineering \n",
    "df[\"loan_to_income\"] = df[\"loan_amnt\"] / (df[\"annual_inc\"] + 1)\n",
    "df[\"installment_rate\"] = df[\"loan_amnt\"] * (df[\"int_rate\"] / 100)\n",
    "\n"
   ]
  },
  {
   "cell_type": "code",
   "execution_count": null,
   "id": "e135b9de",
   "metadata": {
    "vscode": {
     "languageId": "plaintext"
    }
   },
   "outputs": [],
   "source": [
    "#   6. Categorical Encoding  \n",
    "df = pd.get_dummies(df, columns=[\"purpose\", \"home_ownership\"], drop_first=True)\n",
    "\n"
   ]
  },
  {
   "cell_type": "code",
   "execution_count": null,
   "id": "c1ddd48e",
   "metadata": {
    "vscode": {
     "languageId": "plaintext"
    }
   },
   "outputs": [],
   "source": [
    "#   7. Scale Features  \n",
    "features = df.drop(\"target\", axis=1)\n",
    "scaler = StandardScaler()\n",
    "X_scaled = scaler.fit_transform(features)\n",
    "X = pd.DataFrame(X_scaled, columns=features.columns)\n",
    "y = df[\"target\"]"
   ]
  }
 ],
 "metadata": {
  "language_info": {
   "name": "python"
  }
 },
 "nbformat": 4,
 "nbformat_minor": 5
}
