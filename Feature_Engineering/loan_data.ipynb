{
 "cells": [
  {
   "cell_type": "code",
   "execution_count": null,
   "id": "6b01e84a",
   "metadata": {
    "vscode": {
     "languageId": "plaintext"
    }
   },
   "outputs": [],
   "source": [
    "import pandas as pd\n",
    "import numpy as np\n",
    "from sklearn.preprocessing import LabelEncoder, OneHotEncoder, StandardScaler\n",
    "from sklearn.model_selection import train_test_split\n",
    "from sklearn.impute import SimpleImputer\n",
    "import re\n",
    "\n",
    "# Load data\n",
    "df = pd.read_csv(\"loan_data.csv\", low_memory=False)"
   ]
  },
  {
   "cell_type": "code",
   "execution_count": null,
   "id": "cfb77eeb",
   "metadata": {
    "vscode": {
     "languageId": "plaintext"
    }
   },
   "outputs": [],
   "source": [
    "# Drop irrelevant columns \n",
    "df = df[[\n",
    "    'loan_amnt', 'term', 'int_rate', 'emp_length', 'home_ownership',\n",
    "    'annual_inc', 'purpose', 'issue_d', 'loan_status', 'dti',\n",
    "    'revol_util', 'open_acc', 'pub_rec', 'total_acc'\n",
    "]]\n"
   ]
  },
  {
   "cell_type": "code",
   "execution_count": null,
   "id": "9f4bdb24",
   "metadata": {
    "vscode": {
     "languageId": "plaintext"
    }
   },
   "outputs": [],
   "source": [
    "#  Target Encoding\n",
    "df = df[df[\"loan_status\"].isin([\"Fully Paid\", \"Charged Off\"])]  # Binary classification\n",
    "df[\"target\"] = df[\"loan_status\"].map({\"Fully Paid\": 0, \"Charged Off\": 1})\n",
    "df.drop(\"loan_status\", axis=1, inplace=True)"
   ]
  },
  {
   "cell_type": "code",
   "execution_count": null,
   "id": "d7b103e4",
   "metadata": {
    "vscode": {
     "languageId": "plaintext"
    }
   },
   "outputs": [],
   "source": [
    "#  Clean and Convert Columns \n",
    "df[\"int_rate\"] = df[\"int_rate\"].str.replace('%', '').astype(float)\n",
    "df[\"revol_util\"] = df[\"revol_util\"].str.replace('%', '').astype(float)\n",
    "df[\"term\"] = df[\"term\"].str.extract('(\\d+)').astype(int)"
   ]
  }
 ],
 "metadata": {
  "language_info": {
   "name": "python"
  }
 },
 "nbformat": 4,
 "nbformat_minor": 5
}
