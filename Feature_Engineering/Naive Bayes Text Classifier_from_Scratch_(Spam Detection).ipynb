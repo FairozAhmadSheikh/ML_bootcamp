{
 "cells": [
  {
   "cell_type": "code",
   "execution_count": null,
   "id": "0bbc3b79",
   "metadata": {
    "vscode": {
     "languageId": "plaintext"
    }
   },
   "outputs": [],
   "source": [
    "import numpy as np\n",
    "import re\n",
    "from collections import defaultdict\n",
    "from sklearn.model_selection import train_test_split\n",
    "\n",
    "\n",
    "data = [\n",
    "    (\"buy cheap meds now\", \"spam\"),\n",
    "    (\"limited offer, click now\", \"spam\"),\n",
    "    (\"win money instantly\", \"spam\"),\n",
    "    (\"meeting at noon\", \"ham\"),\n",
    "    (\"schedule the call\", \"ham\"),\n",
    "    (\"let's have lunch tomorrow\", \"ham\"),\n",
    "]\n"
   ]
  },
  {
   "cell_type": "code",
   "execution_count": null,
   "id": "20fbf475",
   "metadata": {
    "vscode": {
     "languageId": "plaintext"
    }
   },
   "outputs": [],
   "source": [
    "texts, labels = zip(*data)\n",
    "X_train, X_test, y_train, y_test = train_test_split(texts, labels, test_size=0.33, random_state=42)\n",
    "\n",
    "\n",
    "def tokenize(text):\n",
    "    text = text.lower()\n",
    "    words = re.findall(r'\\b\\w+\\b', text)\n",
    "    return words"
   ]
  },
  {
   "cell_type": "code",
   "execution_count": null,
   "id": "bf36cf94",
   "metadata": {
    "vscode": {
     "languageId": "plaintext"
    }
   },
   "outputs": [],
   "source": [
    "class NaiveBayesClassifier:\n",
    "    def __init__(self):\n",
    "        self.classes = None\n",
    "        self.vocab = set()\n",
    "        self.word_freq = {}\n",
    "        self.class_counts = {}\n",
    "        self.total_words = {}\n",
    "    \n",
    "  "
   ]
  },
  {
   "cell_type": "code",
   "execution_count": null,
   "id": "86bb2579",
   "metadata": {
    "vscode": {
     "languageId": "plaintext"
    }
   },
   "outputs": [],
   "source": [
    "  def fit(self, X, y):\n",
    "        self.classes = set(y)\n",
    "        self.class_counts = defaultdict(int)\n",
    "        self.word_freq = {c: defaultdict(int) for c in self.classes}\n",
    "        self.total_words = defaultdict(int)\n",
    "        \n",
    "        for text, label in zip(X, y):\n",
    "            self.class_counts[label] += 1\n",
    "            words = tokenize(text)\n",
    "            for word in words:\n",
    "                self.vocab.add(word)\n",
    "                self.word_freq[label][word] += 1\n",
    "                self.total_words[label] += 1"
   ]
  }
 ],
 "metadata": {
  "language_info": {
   "name": "python"
  }
 },
 "nbformat": 4,
 "nbformat_minor": 5
}
