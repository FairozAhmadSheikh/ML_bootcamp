{
 "cells": [
  {
   "cell_type": "code",
   "execution_count": null,
   "id": "0bbc3b79",
   "metadata": {
    "vscode": {
     "languageId": "plaintext"
    }
   },
   "outputs": [],
   "source": [
    "import numpy as np\n",
    "import re\n",
    "from collections import defaultdict\n",
    "from sklearn.model_selection import train_test_split\n",
    "\n",
    "# ========== 1. Sample Dataset ==========\n",
    "data = [\n",
    "    (\"buy cheap meds now\", \"spam\"),\n",
    "    (\"limited offer, click now\", \"spam\"),\n",
    "    (\"win money instantly\", \"spam\"),\n",
    "    (\"meeting at noon\", \"ham\"),\n",
    "    (\"schedule the call\", \"ham\"),\n",
    "    (\"let's have lunch tomorrow\", \"ham\"),\n",
    "]\n"
   ]
  }
 ],
 "metadata": {
  "language_info": {
   "name": "python"
  }
 },
 "nbformat": 4,
 "nbformat_minor": 5
}
