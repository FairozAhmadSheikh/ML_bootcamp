{
 "cells": [
  {
   "cell_type": "code",
   "execution_count": null,
   "id": "3ce51341",
   "metadata": {
    "vscode": {
     "languageId": "plaintext"
    }
   },
   "outputs": [],
   "source": [
    "import numpy as np\n",
    "import matplotlib.pyplot as plt\n",
    "from sklearn.datasets import make_blobs\n",
    "\n",
    "\n"
   ]
  },
  {
   "cell_type": "code",
   "execution_count": null,
   "id": "1199f9cc",
   "metadata": {
    "vscode": {
     "languageId": "plaintext"
    }
   },
   "outputs": [],
   "source": [
    "X, _ = make_blobs(n_samples=300, centers=4, cluster_std=1.0, random_state=42)"
   ]
  },
  {
   "cell_type": "code",
   "execution_count": null,
   "id": "3f198ad3",
   "metadata": {
    "vscode": {
     "languageId": "plaintext"
    }
   },
   "outputs": [],
   "source": [
    "def initialize_centroids(X, k):\n",
    "    np.random.seed(42)\n",
    "    indices = np.random.choice(X.shape[0], k, replace=False)\n",
    "    return X[indices]"
   ]
  },
  {
   "cell_type": "code",
   "execution_count": null,
   "id": "147ec2de",
   "metadata": {
    "vscode": {
     "languageId": "plaintext"
    }
   },
   "outputs": [],
   "source": [
    "def assign_clusters(X, centroids):\n",
    "    distances = np.linalg.norm(X[:, np.newaxis] - centroids, axis=2)\n",
    "    return np.argmin(distances, axis=1)"
   ]
  },
  {
   "cell_type": "code",
   "execution_count": null,
   "id": "10a16120",
   "metadata": {
    "vscode": {
     "languageId": "plaintext"
    }
   },
   "outputs": [],
   "source": [
    "def update_centroids(X, labels, k):\n",
    "    new_centroids = np.zeros((k, X.shape[1]))\n",
    "    for i in range(k):\n",
    "        new_centroids[i] = np.mean(X[labels == i], axis=0)\n",
    "    return new_centroids"
   ]
  },
  {
   "cell_type": "code",
   "execution_count": null,
   "id": "02db0060",
   "metadata": {
    "vscode": {
     "languageId": "plaintext"
    }
   },
   "outputs": [],
   "source": [
    "def kmeans(X, k, max_iters=100, tol=1e-4):\n",
    "    centroids = initialize_centroids(X, k)\n",
    "    \n",
    "    for i in range(max_iters):\n",
    "        labels = assign_clusters(X, centroids)\n",
    "        new_centroids = update_centroids(X, labels, k)\n",
    "        \n",
    "        # Check for convergence\n",
    "        if np.allclose(centroids, new_centroids, atol=tol):\n",
    "            print(f\"✅ Converged at iteration {i}\")\n",
    "            break\n",
    "        centroids = new_centroids\n",
    "    \n",
    "    return centroids, labels"
   ]
  }
 ],
 "metadata": {
  "language_info": {
   "name": "python"
  }
 },
 "nbformat": 4,
 "nbformat_minor": 5
}
