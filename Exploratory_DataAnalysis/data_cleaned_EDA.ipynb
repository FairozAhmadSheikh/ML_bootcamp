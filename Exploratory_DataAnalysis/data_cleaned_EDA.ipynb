{
 "cells": [
  {
   "cell_type": "code",
   "execution_count": 1,
   "metadata": {},
   "outputs": [],
   "source": [
    "import pandas as pd"
   ]
  },
  {
   "cell_type": "code",
   "execution_count": 2,
   "metadata": {},
   "outputs": [],
   "source": [
    "data=pd.read_csv('Cleaned_PlayStore_Data.csv')\n",
    "datacopy=data.copy()"
   ]
  },
  {
   "cell_type": "code",
   "execution_count": 13,
   "metadata": {},
   "outputs": [
    {
     "name": "stdout",
     "output_type": "stream",
     "text": [
      "Number of Duplicates in Unnamed: 0 : 0 \n",
      "Number of Duplicates in App : 698 \n",
      "Number of Duplicates in Category : 10324 \n",
      "Number of Duplicates in Rating : 10317 \n",
      "Number of Duplicates in Reviews : 4356 \n",
      "Number of Duplicates in Size : 9897 \n",
      "Number of Duplicates in Installs : 10337 \n",
      "Number of Duplicates in Type : 10354 \n",
      "Number of Duplicates in Price : 10265 \n",
      "Number of Duplicates in Content Rating : 10351 \n",
      "Number of Duplicates in Genres : 10238 \n",
      "Number of Duplicates in Last Updated : 8980 \n",
      "Number of Duplicates in Current Ver : 7526 \n",
      "Number of Duplicates in Android Ver : 10324 \n",
      "Number of Duplicates in Day : 10326 \n",
      "Number of Duplicates in Month : 10345 \n",
      "Number of Duplicates in Year : 10348 \n"
     ]
    }
   ],
   "source": [
    "# Find Number of Duplicates\n",
    "for column in datacopy.columns:\n",
    "    print(f'Number of Duplicates in {column} : {len(datacopy[datacopy[column].duplicated()])} ')"
   ]
  },
  {
   "cell_type": "code",
   "execution_count": null,
   "metadata": {},
   "outputs": [],
   "source": []
  }
 ],
 "metadata": {
  "kernelspec": {
   "display_name": "Python 3",
   "language": "python",
   "name": "python3"
  },
  "language_info": {
   "codemirror_mode": {
    "name": "ipython",
    "version": 3
   },
   "file_extension": ".py",
   "mimetype": "text/x-python",
   "name": "python",
   "nbconvert_exporter": "python",
   "pygments_lexer": "ipython3",
   "version": "3.13.1"
  }
 },
 "nbformat": 4,
 "nbformat_minor": 2
}
