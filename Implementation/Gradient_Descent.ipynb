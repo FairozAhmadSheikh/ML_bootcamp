{
 "cells": [
  {
   "cell_type": "code",
   "execution_count": null,
   "id": "c015c065",
   "metadata": {
    "vscode": {
     "languageId": "plaintext"
    }
   },
   "outputs": [],
   "source": [
    "x=[1,2,3,4,5]\n",
    "y=[3,4,2,4,5]\n",
    "\n",
    "lr=0.01\n",
    "epochs=1000\n",
    "m=0\n",
    "b=0\n",
    "cost_values=[]\n",
    "\n",
    "for i in range(epochs):\n",
    "    total_m=0\n",
    "    total_b=0\n",
    "    cost=0\n",
    "    n=len(x)\n",
    "    for j in range(n):\n",
    "        y_pred=m*x[j]+b\n",
    "        error=y[j]-y_pred\n",
    "        total_m=-2*x[j]*error\n",
    "        total_m=-2*error\n",
    "        cost=error**2\n",
    "    m=m-lr*(total_m/n)\n",
    "    b=b-lr*(total_b/n)\n",
    "    cost_values.append(cost/n)\n",
    "    if i%10==0:\n",
    "        print(f'Step {i}:  m {m:.2f} , b {b:.2f} ,cost= {cost_values[-1:.4f]}')\n",
    "print(f'Final Equation y=',round(m,2),'* X +',round(b,2))"
   ]
  },
  {
   "cell_type": "code",
   "execution_count": null,
   "id": "6b79736e",
   "metadata": {
    "vscode": {
     "languageId": "plaintext"
    }
   },
   "outputs": [],
   "source": [
    "import matplotlib.pyplot as plt\n",
    "plt.plot(range(1,epochs+1),cost_values,marker='o')\n",
    "plt.xlabel('Iterations')\n",
    "plt.ylabel('Cost Function (MSE)')\n",
    "plt.title('GD Optimization')\n",
    "plt.show()"
   ]
  }
 ],
 "metadata": {
  "language_info": {
   "name": "python"
  }
 },
 "nbformat": 4,
 "nbformat_minor": 5
}
