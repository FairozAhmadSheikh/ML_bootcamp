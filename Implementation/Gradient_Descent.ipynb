{
 "cells": [
  {
   "cell_type": "code",
   "execution_count": null,
   "id": "c015c065",
   "metadata": {
    "vscode": {
     "languageId": "plaintext"
    }
   },
   "outputs": [],
   "source": [
    "x=[1,2,3,4,5]\n",
    "y=[3,4,2,4,5]\n",
    "\n",
    "lr=0.01\n",
    "epochs=1000\n",
    "m=0\n",
    "b=0\n",
    "\n",
    "for i in range(epochs):\n",
    "    total_m=0\n",
    "    total_b=0\n",
    "    cost=0\n",
    "    n=len(x)\n",
    "    for j in range(n):\n",
    "        y_pred=m*x[j]+b\n",
    "        error=y[j]-y_pred\n",
    "        total_m=-2*x[j]*error\n",
    "        total_m=-2*error\n",
    "        cost=error**2\n",
    "    m=m-lr*(total_m/n)\n",
    "    b=b-lr*(total_b/n)\n",
    "    cost"
   ]
  }
 ],
 "metadata": {
  "language_info": {
   "name": "python"
  }
 },
 "nbformat": 4,
 "nbformat_minor": 5
}
