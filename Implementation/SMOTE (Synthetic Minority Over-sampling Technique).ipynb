{
 "cells": [
  {
   "cell_type": "code",
   "execution_count": null,
   "id": "75b3ec6e",
   "metadata": {},
   "outputs": [],
   "source": [
    "from sklearn.datasets import load_digits\n",
    "from sklearn.model_selection import train_test_split, GridSearchCV\n",
    "from sklearn.preprocessing import StandardScaler\n",
    "from sklearn.decomposition import PCA\n",
    "from sklearn.feature_selection import SelectKBest, mutual_info_classif\n",
    "from sklearn.ensemble import RandomForestClassifier\n",
    "from sklearn.pipeline import Pipeline\n",
    "from sklearn.metrics import classification_report\n",
    "from imblearn.pipeline import Pipeline as ImbPipeline\n",
    "from imblearn.over_sampling import SMOTE\n",
    "import numpy as np"
   ]
  },
  {
   "cell_type": "code",
   "execution_count": null,
   "id": "e67b822f",
   "metadata": {},
   "outputs": [],
   "source": [
    "# Load data\n",
    "digits = load_digits()\n",
    "X, y = digits.data, digits.target\n",
    "# For demonstration, artificially create imbalance by reducing class 0 samples\n",
    "indices_class_0 = np.where(y == 0)[:int(len(np.where(y == 0)) * 0.1)]\n",
    "indices_other = np.where(y != 0)\n",
    "idxs = np.concatenate([indices_class_0, indices_other])\n",
    "X, y = X[idxs], y[idxs]"
   ]
  },
  {
   "cell_type": "code",
   "execution_count": null,
   "id": "814c9b0f",
   "metadata": {},
   "outputs": [],
   "source": [
    "X_train, X_test, y_train, y_test = train_test_split(\n",
    "    X, y, test_size=0.3, random_state=42, stratify=y)"
   ]
  },
  {
   "cell_type": "code",
   "execution_count": null,
   "id": "533d3c52",
   "metadata": {},
   "outputs": [],
   "source": [
    "# Pipeline including SMOTE for balancing and class weights for RandomForest\n",
    "pipe = ImbPipeline([\n",
    "    ('scaler', StandardScaler()),\n",
    "    ('smote', SMOTE(random_state=42)),                # Handle imbalance\n",
    "    ('pca', PCA(n_components=30)),\n",
    "    ('selectkbest', SelectKBest(mutual_info_classif, k=15)),\n",
    "    ('classifier', RandomForestClassifier(class_weight='balanced', random_state=42))\n",
    "])"
   ]
  },
  {
   "cell_type": "code",
   "execution_count": null,
   "id": "a4a99f5e",
   "metadata": {},
   "outputs": [],
   "source": [
    "param_grid = {\n",
    "    'pca__n_components': [20, 30, 40],\n",
    "    'selectkbest__k': [10, 15, 20],\n",
    "    'classifier__n_estimators': [50, 100],\n",
    "    'classifier__max_depth': [10, 20, None]\n",
    "}"
   ]
  },
  {
   "cell_type": "code",
   "execution_count": null,
   "id": "c083beb9",
   "metadata": {},
   "outputs": [],
   "source": [
    "search = GridSearchCV(pipe, param_grid, cv=3, scoring='accuracy', verbose=2)\n",
    "search.fit(X_train, y_train)\n"
   ]
  },
  {
   "cell_type": "code",
   "execution_count": null,
   "id": "45951773",
   "metadata": {},
   "outputs": [],
   "source": [
    "\n",
    "best_pipe = search.best_estimator_\n",
    "pred = best_pipe.predict(X_test)"
   ]
  },
  {
   "cell_type": "code",
   "execution_count": null,
   "id": "420677ba",
   "metadata": {},
   "outputs": [],
   "source": [
    "print(\"Best Pipeline Parameters:\", search.best_params_)\n",
    "print(classification_report(y_test, pred))"
   ]
  }
 ],
 "metadata": {
  "language_info": {
   "name": "python"
  }
 },
 "nbformat": 4,
 "nbformat_minor": 5
}
