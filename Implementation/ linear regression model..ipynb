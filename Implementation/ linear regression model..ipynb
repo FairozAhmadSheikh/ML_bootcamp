{
 "cells": [
  {
   "cell_type": "code",
   "execution_count": null,
   "id": "59ca2274",
   "metadata": {
    "vscode": {
     "languageId": "plaintext"
    }
   },
   "outputs": [],
   "source": [
    "import numpy as np\n",
    "import matplotlib.pyplot as plt\n",
    "from sklearn.linear_model import LinearRegression\n"
   ]
  },
  {
   "cell_type": "code",
   "execution_count": null,
   "id": "95dc76bb",
   "metadata": {
    "vscode": {
     "languageId": "plaintext"
    }
   },
   "outputs": [],
   "source": [
    "# 1. Create some data to learn from.\n",
    "# The data is a simple line with some random noise.\n",
    "X = np.array([5, 15, 25, 35, 45, 55]).reshape(-1, 1) # Features (the x-values)\n",
    "y = np.array([5, 20, 14, 32, 22, 38]) # Target (the y-values)\n"
   ]
  },
  {
   "cell_type": "code",
   "execution_count": null,
   "id": "029ee8da",
   "metadata": {
    "vscode": {
     "languageId": "plaintext"
    }
   },
   "outputs": [],
   "source": [
    "# 2. The magic happens here!\n",
    "# Create our model and tell it to learn the pattern.\n",
    "model = LinearRegression()\n",
    "model.fit(X, y)"
   ]
  }
 ],
 "metadata": {
  "language_info": {
   "name": "python"
  }
 },
 "nbformat": 4,
 "nbformat_minor": 5
}
