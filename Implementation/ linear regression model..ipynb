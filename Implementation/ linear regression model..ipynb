{
 "cells": [
  {
   "cell_type": "code",
   "execution_count": null,
   "id": "59ca2274",
   "metadata": {
    "vscode": {
     "languageId": "plaintext"
    }
   },
   "outputs": [],
   "source": [
    "import numpy as np\n",
    "import matplotlib.pyplot as plt\n",
    "from sklearn.linear_model import LinearRegression\n"
   ]
  },
  {
   "cell_type": "code",
   "execution_count": null,
   "id": "95dc76bb",
   "metadata": {
    "vscode": {
     "languageId": "plaintext"
    }
   },
   "outputs": [],
   "source": [
    "# 1. Create some data to learn from.\n",
    "# The data is a simple line with some random noise.\n",
    "X = np.array([5, 15, 25, 35, 45, 55]).reshape(-1, 1) # Features (the x-values)\n",
    "y = np.array([5, 20, 14, 32, 22, 38]) # Target (the y-values)\n"
   ]
  },
  {
   "cell_type": "code",
   "execution_count": null,
   "id": "029ee8da",
   "metadata": {
    "vscode": {
     "languageId": "plaintext"
    }
   },
   "outputs": [],
   "source": [
    "# 2. The magic happens here!\n",
    "# Create our model and tell it to learn the pattern.\n",
    "model = LinearRegression()\n",
    "model.fit(X, y)"
   ]
  },
  {
   "cell_type": "code",
   "execution_count": null,
   "id": "2de97708",
   "metadata": {
    "vscode": {
     "languageId": "plaintext"
    }
   },
   "outputs": [],
   "source": [
    "# 3. Predict the future!\n",
    "# What's the value when X is 60?\n",
    "X_new = np.array([60]).reshape(-1, 1)\n",
    "y_pred = model.predict(X_new)"
   ]
  },
  {
   "cell_type": "code",
   "execution_count": null,
   "id": "790df052",
   "metadata": {
    "vscode": {
     "languageId": "plaintext"
    }
   },
   "outputs": [],
   "source": [
    "print(f\"The model predicts the value at X=60 will be: {y_pred[0]:.2f}\")\n",
    "print(f\"The model's formula is: y = {model.coef_[0]:.2f}x + {model.intercept_:.2f}\")\n"
   ]
  },
  {
   "cell_type": "code",
   "execution_count": null,
   "id": "e05d98d5",
   "metadata": {
    "vscode": {
     "languageId": "plaintext"
    }
   },
   "outputs": [],
   "source": [
    "# 4. Make it visual. Because cool programs show their work.\n",
    "# Plot the original points and the line our model came up with.\n",
    "plt.scatter(X, y, color='blue', label='Original Data')\n",
    "plt.plot(X, model.predict(X), color='red', linewidth=2, label='Linear Regression Line')\n",
    "plt.title('ML in Action: Predicting a Linear Trend')\n",
    "plt.xlabel('X')\n",
    "plt.ylabel('Y')\n",
    "plt.legend()"
   ]
  }
 ],
 "metadata": {
  "language_info": {
   "name": "python"
  }
 },
 "nbformat": 4,
 "nbformat_minor": 5
}
