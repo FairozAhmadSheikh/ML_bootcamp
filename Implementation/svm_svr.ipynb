{
 "cells": [
  {
   "cell_type": "code",
   "execution_count": null,
   "metadata": {
    "vscode": {
     "languageId": "plaintext"
    }
   },
   "outputs": [],
   "source": [
    "\n",
    "import numpy as np             \n",
    "import matplotlib.pyplot as plt \n",
    "from sklearn.svm import SVR     \n",
    "from sklearn.model_selection import train_test_split  \n",
    "from sklearn.preprocessing import StandardScaler      \n",
    "from sklearn.metrics import mean_squared_error, mean_absolute_error, r2_score  \n",
    "\n"
   ]
  },
  {
   "cell_type": "code",
   "execution_count": null,
   "id": "59099f42",
   "metadata": {
    "vscode": {
     "languageId": "plaintext"
    }
   },
   "outputs": [],
   "source": [
    "\n",
    "np.random.seed(0)\n",
    "X = np.sort(5 * np.random.rand(100, 1), axis=0)  \n",
    "y = np.sin(X).ravel()  \n",
    "# noise added\n",
    "y[::5] += 3 * (0.5 - np.random.rand(20))  "
   ]
  },
  {
   "cell_type": "code",
   "execution_count": null,
   "id": "3b731331",
   "metadata": {
    "vscode": {
     "languageId": "plaintext"
    }
   },
   "outputs": [],
   "source": [
    "# Split data \n",
    "X_train, X_test, y_train, y_test = train_test_split(\n",
    "    X, y, test_size=0.2, random_state=42)\n"
   ]
  },
  {
   "cell_type": "code",
   "execution_count": null,
   "id": "f66ea508",
   "metadata": {
    "vscode": {
     "languageId": "plaintext"
    }
   },
   "outputs": [],
   "source": [
    "# SVR requires features in similar scale\n",
    "sc_X = StandardScaler()\n",
    "sc_y = StandardScaler()"
   ]
  },
  {
   "cell_type": "code",
   "execution_count": null,
   "id": "20aa85fc",
   "metadata": {
    "vscode": {
     "languageId": "plaintext"
    }
   },
   "outputs": [],
   "source": [
    "# Fit and transform training data\n",
    "X_train_scaled = sc_X.fit_transform(X_train)\n",
    "y_train_scaled = sc_y.fit_transform(y_train.reshape(-1, 1)).ravel()  # y must be 2D for scaling\n",
    "\n",
    "# Transform test data\n",
    "X_test_scaled = sc_X.transform(X_test)"
   ]
  }
 ],
 "metadata": {
  "language_info": {
   "name": "python"
  }
 },
 "nbformat": 4,
 "nbformat_minor": 5
}
