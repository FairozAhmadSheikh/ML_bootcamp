{
 "cells": [
  {
   "cell_type": "code",
   "execution_count": null,
   "metadata": {
    "vscode": {
     "languageId": "plaintext"
    }
   },
   "outputs": [],
   "source": [
    "\n",
    "import numpy as np             \n",
    "import matplotlib.pyplot as plt \n",
    "from sklearn.svm import SVR     \n",
    "from sklearn.model_selection import train_test_split  \n",
    "from sklearn.preprocessing import StandardScaler      \n",
    "from sklearn.metrics import mean_squared_error, mean_absolute_error, r2_score  \n",
    "\n"
   ]
  },
  {
   "cell_type": "code",
   "execution_count": null,
   "id": "59099f42",
   "metadata": {
    "vscode": {
     "languageId": "plaintext"
    }
   },
   "outputs": [],
   "source": [
    "\n",
    "np.random.seed(0)\n",
    "X = np.sort(5 * np.random.rand(100, 1), axis=0)  \n",
    "y = np.sin(X).ravel()  \n",
    "# Add noise\n",
    "y[::5] += 3 * (0.5 - np.random.rand(20))  "
   ]
  }
 ],
 "metadata": {
  "language_info": {
   "name": "python"
  }
 },
 "nbformat": 4,
 "nbformat_minor": 5
}
