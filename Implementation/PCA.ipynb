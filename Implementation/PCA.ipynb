{
 "cells": [
  {
   "cell_type": "code",
   "execution_count": 2,
   "id": "b0b47003",
   "metadata": {},
   "outputs": [],
   "source": [
    "import pandas as pd \n",
    "import numpy as np \n",
    "import matplotlib.pyplot as plt \n",
    "from scipy.linalg import eig"
   ]
  },
  {
   "cell_type": "code",
   "execution_count": 3,
   "id": "6c94749b",
   "metadata": {},
   "outputs": [
    {
     "data": {
      "text/plain": [
       "array([[ 3,  4],\n",
       "       [ 2,  8],\n",
       "       [ 6,  9],\n",
       "       [10, 12]])"
      ]
     },
     "execution_count": 3,
     "metadata": {},
     "output_type": "execute_result"
    }
   ],
   "source": [
    "data=np.array([[3,4],[2,8],[6,9],[10,12]])\n",
    "data"
   ]
  },
  {
   "cell_type": "code",
   "execution_count": 6,
   "id": "77db7deb",
   "metadata": {},
   "outputs": [
    {
     "data": {
      "text/plain": [
       "array([5.25, 8.25])"
      ]
     },
     "execution_count": 6,
     "metadata": {},
     "output_type": "execute_result"
    }
   ],
   "source": [
    "meanbycol=np.mean(data,axis=0)\n",
    "meanbycol"
   ]
  },
  {
   "cell_type": "code",
   "execution_count": 8,
   "id": "86ee89c5",
   "metadata": {},
   "outputs": [
    {
     "data": {
      "text/plain": [
       "array([3.1124749 , 2.86138079])"
      ]
     },
     "execution_count": 8,
     "metadata": {},
     "output_type": "execute_result"
    }
   ],
   "source": [
    "stdbycol=np.std(data,axis=0)\n",
    "stdbycol"
   ]
  },
  {
   "cell_type": "code",
   "execution_count": 9,
   "id": "46a0ea58",
   "metadata": {},
   "outputs": [
    {
     "data": {
      "text/plain": [
       "array([[-0.7228974 , -1.4852969 ],\n",
       "       [-1.04418513, -0.08737041],\n",
       "       [ 0.2409658 ,  0.26211122],\n",
       "       [ 1.52611672,  1.31055608]])"
      ]
     },
     "execution_count": 9,
     "metadata": {},
     "output_type": "execute_result"
    }
   ],
   "source": [
    "scaled_data=(data-meanbycol)/stdbycol\n",
    "scaled_data"
   ]
  },
  {
   "cell_type": "code",
   "execution_count": 10,
   "id": "3c6be497",
   "metadata": {},
   "outputs": [
    {
     "data": {
      "text/plain": [
       "array([[-0.7228974 , -1.4852969 ],\n",
       "       [-1.04418513, -0.08737041],\n",
       "       [ 0.2409658 ,  0.26211122],\n",
       "       [ 1.52611672,  1.31055608]])"
      ]
     },
     "execution_count": 10,
     "metadata": {},
     "output_type": "execute_result"
    }
   ],
   "source": [
    "from sklearn.preprocessing import StandardScaler\n",
    "sc=StandardScaler()\n",
    "sc.fit_transform(data)"
   ]
  },
  {
   "cell_type": "markdown",
   "id": "5f36fb37",
   "metadata": {},
   "source": [
    "Calc Covariance"
   ]
  },
  {
   "cell_type": "code",
   "execution_count": 11,
   "id": "df528437",
   "metadata": {},
   "outputs": [
    {
     "data": {
      "text/plain": [
       "array([[ 2.90626499e-01, -3.64737533e-01, -8.06062818e-03,\n",
       "         8.21716621e-02],\n",
       "       [-3.64737533e-01,  4.57747206e-01,  1.01161238e-02,\n",
       "        -1.03125797e-01],\n",
       "       [-8.06062818e-03,  1.01161238e-02,  2.23564358e-04,\n",
       "        -2.27905995e-03],\n",
       "       [ 8.21716621e-02, -1.03125797e-01, -2.27905995e-03,\n",
       "         2.32331947e-02]])"
      ]
     },
     "execution_count": 11,
     "metadata": {},
     "output_type": "execute_result"
    }
   ],
   "source": [
    "np.cov(scaled_data)"
   ]
  },
  {
   "cell_type": "code",
   "execution_count": 15,
   "id": "bfc7e245",
   "metadata": {},
   "outputs": [
    {
     "data": {
      "text/plain": [
       "array([[1.33333333, 1.07605651],\n",
       "       [1.07605651, 1.33333333]])"
      ]
     },
     "execution_count": 15,
     "metadata": {},
     "output_type": "execute_result"
    }
   ],
   "source": [
    "cov_mat=np.cov(scaled_data.T)\n",
    "cov_mat"
   ]
  },
  {
   "cell_type": "code",
   "execution_count": 16,
   "id": "d9c710d7",
   "metadata": {},
   "outputs": [],
   "source": [
    "eig_val,eig_vec=eig(cov_mat)"
   ]
  },
  {
   "cell_type": "code",
   "execution_count": 17,
   "id": "705a399d",
   "metadata": {},
   "outputs": [
    {
     "data": {
      "text/plain": [
       "array([[-1.56142916, -0.53909786],\n",
       "       [-0.80013059,  0.67657018],\n",
       "       [ 0.35572917,  0.01495207],\n",
       "       [ 2.00583058, -0.15242439]])"
      ]
     },
     "execution_count": 17,
     "metadata": {},
     "output_type": "execute_result"
    }
   ],
   "source": [
    "eig_vec.T.dot(scaled_data.T).T"
   ]
  },
  {
   "cell_type": "markdown",
   "id": "833a30e6",
   "metadata": {},
   "source": [
    "Also can be done using sklearn"
   ]
  },
  {
   "cell_type": "code",
   "execution_count": 18,
   "id": "df26ae08",
   "metadata": {},
   "outputs": [],
   "source": [
    "from sklearn.decomposition import PCA"
   ]
  },
  {
   "cell_type": "code",
   "execution_count": 20,
   "id": "f18e4037",
   "metadata": {},
   "outputs": [
    {
     "data": {
      "text/plain": [
       "array([[-1.56142916, -0.53909786],\n",
       "       [-0.80013059,  0.67657018],\n",
       "       [ 0.35572917,  0.01495207],\n",
       "       [ 2.00583058, -0.15242439]])"
      ]
     },
     "execution_count": 20,
     "metadata": {},
     "output_type": "execute_result"
    }
   ],
   "source": [
    "pca=PCA()\n",
    "pd_df=pca.fit_transform(scaled_data)\n",
    "pd_df"
   ]
  },
  {
   "cell_type": "code",
   "execution_count": 24,
   "id": "8055b8d0",
   "metadata": {},
   "outputs": [
    {
     "data": {
      "text/html": [
       "<div>\n",
       "<style scoped>\n",
       "    .dataframe tbody tr th:only-of-type {\n",
       "        vertical-align: middle;\n",
       "    }\n",
       "\n",
       "    .dataframe tbody tr th {\n",
       "        vertical-align: top;\n",
       "    }\n",
       "\n",
       "    .dataframe thead th {\n",
       "        text-align: right;\n",
       "    }\n",
       "</style>\n",
       "<table border=\"1\" class=\"dataframe\">\n",
       "  <thead>\n",
       "    <tr style=\"text-align: right;\">\n",
       "      <th></th>\n",
       "      <th>0</th>\n",
       "      <th>1</th>\n",
       "    </tr>\n",
       "  </thead>\n",
       "  <tbody>\n",
       "    <tr>\n",
       "      <th>0</th>\n",
       "      <td>-1.561429</td>\n",
       "      <td>-0.539098</td>\n",
       "    </tr>\n",
       "    <tr>\n",
       "      <th>1</th>\n",
       "      <td>-0.800131</td>\n",
       "      <td>0.676570</td>\n",
       "    </tr>\n",
       "    <tr>\n",
       "      <th>2</th>\n",
       "      <td>0.355729</td>\n",
       "      <td>0.014952</td>\n",
       "    </tr>\n",
       "    <tr>\n",
       "      <th>3</th>\n",
       "      <td>2.005831</td>\n",
       "      <td>-0.152424</td>\n",
       "    </tr>\n",
       "  </tbody>\n",
       "</table>\n",
       "</div>"
      ],
      "text/plain": [
       "          0         1\n",
       "0 -1.561429 -0.539098\n",
       "1 -0.800131  0.676570\n",
       "2  0.355729  0.014952\n",
       "3  2.005831 -0.152424"
      ]
     },
     "execution_count": 24,
     "metadata": {},
     "output_type": "execute_result"
    }
   ],
   "source": [
    "pd_df=pd.DataFrame(data=pd_df)\n",
    "pd_df"
   ]
  },
  {
   "cell_type": "code",
   "execution_count": 26,
   "id": "eea77ad1",
   "metadata": {},
   "outputs": [
    {
     "data": {
      "text/plain": [
       "array([0.90352119, 0.09647881])"
      ]
     },
     "execution_count": 26,
     "metadata": {},
     "output_type": "execute_result"
    }
   ],
   "source": [
    "var=pca.explained_variance_ratio_\n",
    "var"
   ]
  },
  {
   "cell_type": "code",
   "execution_count": 27,
   "id": "1728971a",
   "metadata": {},
   "outputs": [
    {
     "data": {
      "text/plain": [
       "np.float64(100.0)"
      ]
     },
     "execution_count": 27,
     "metadata": {},
     "output_type": "execute_result"
    }
   ],
   "source": [
    "sum(var)*100"
   ]
  },
  {
   "cell_type": "code",
   "execution_count": 28,
   "id": "7e78280e",
   "metadata": {},
   "outputs": [
    {
     "data": {
      "text/plain": [
       "[np.float64(0.0964788080208649), np.float64(0.9035211919791352)]"
      ]
     },
     "execution_count": 28,
     "metadata": {},
     "output_type": "execute_result"
    }
   ],
   "source": [
    "sorted(var)"
   ]
  }
 ],
 "metadata": {
  "kernelspec": {
   "display_name": "Python 3",
   "language": "python",
   "name": "python3"
  },
  "language_info": {
   "codemirror_mode": {
    "name": "ipython",
    "version": 3
   },
   "file_extension": ".py",
   "mimetype": "text/x-python",
   "name": "python",
   "nbconvert_exporter": "python",
   "pygments_lexer": "ipython3",
   "version": "3.13.1"
  }
 },
 "nbformat": 4,
 "nbformat_minor": 5
}
