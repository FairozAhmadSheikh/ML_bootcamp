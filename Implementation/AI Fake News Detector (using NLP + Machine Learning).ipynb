{
 "cells": [
  {
   "cell_type": "markdown",
   "id": "3ef4b19a",
   "metadata": {},
   "source": [
    "pip install pandas scikit-learn numpy\n"
   ]
  }
 ],
 "metadata": {
  "language_info": {
   "name": "python"
  }
 },
 "nbformat": 4,
 "nbformat_minor": 5
}
