{
 "cells": [
  {
   "cell_type": "markdown",
   "id": "3ef4b19a",
   "metadata": {},
   "source": [
    "pip install pandas scikit-learn numpy\n"
   ]
  },
  {
   "cell_type": "code",
   "execution_count": null,
   "id": "d59a45f1",
   "metadata": {
    "vscode": {
     "languageId": "plaintext"
    }
   },
   "outputs": [],
   "source": [
    "import pandas as pd\n",
    "from sklearn.model_selection import train_test_split\n",
    "from sklearn.feature_extraction.text import TfidfVectorizer\n",
    "from sklearn.linear_model import PassiveAggressiveClassifier\n",
    "from sklearn.metrics import accuracy_score\n"
   ]
  },
  {
   "cell_type": "code",
   "execution_count": null,
   "id": "d4340ba0",
   "metadata": {
    "vscode": {
     "languageId": "plaintext"
    }
   },
   "outputs": [],
   "source": [
    "# Step 1: Load dataset\n",
    "url = \"https://raw.githubusercontent.com/saurabhrathi/Fake-News-Detection-ML/master/news.csv\"\n",
    "df = pd.read_csv(url)\n"
   ]
  }
 ],
 "metadata": {
  "language_info": {
   "name": "python"
  }
 },
 "nbformat": 4,
 "nbformat_minor": 5
}
