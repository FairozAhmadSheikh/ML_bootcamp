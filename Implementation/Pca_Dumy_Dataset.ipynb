{
 "cells": [
  {
   "cell_type": "code",
   "execution_count": null,
   "id": "fc65c644",
   "metadata": {
    "vscode": {
     "languageId": "plaintext"
    }
   },
   "outputs": [],
   "source": [
    "# 1. Import Libraries\n",
    "import numpy as np\n",
    "import pandas as pd\n",
    "import matplotlib.pyplot as plt\n",
    "from sklearn.preprocessing import StandardScaler\n",
    "from sklearn.decomposition import PCA\n"
   ]
  },
  {
   "cell_type": "code",
   "execution_count": null,
   "id": "3027b33a",
   "metadata": {
    "vscode": {
     "languageId": "plaintext"
    }
   },
   "outputs": [],
   "source": [
    "# Manually Create Dataset\n",
    "# samples with 3 features\n",
    "data = np.array([\n",
    "    [2.5, 2.4, 0.5],\n",
    "    [0.5, 0.7, 0.2],\n",
    "    [2.2, 2.9, 0.4],\n",
    "    [1.9, 2.2, 0.3],\n",
    "    [3.1, 3.0, 0.9],\n",
    "    [2.3, 2.7, 0.6]\n",
    "])"
   ]
  },
  {
   "cell_type": "code",
   "execution_count": null,
   "id": "9320a890",
   "metadata": {
    "vscode": {
     "languageId": "plaintext"
    }
   },
   "outputs": [],
   "source": [
    "labels = np.array([0, 1, 0, 1, 0, 1])  # dummy labels for visualization\n",
    "\n",
    "df = pd.DataFrame(data, columns=['Feature_1', 'Feature_2', 'Feature_3'])\n",
    "df['Label'] = labels\n",
    "print(\"Original Dataset:\\n\", df)\n",
    "\n",
    "# 3. Standardize the Features\n",
    "scaler = StandardScaler()\n",
    "X_scaled = scaler.fit_transform(df.drop('Label', axis=1))\n",
    "\n",
    "# 4. Apply PCA to reduce to 2 components\n",
    "pca = PCA(n_components=2)\n",
    "X_pca = pca.fit_transform(X_scaled)\n",
    "\n",
    "# 5. Create a new DataFrame for PCA output\n",
    "pca_df = pd.DataFrame(X_pca, columns=['PC1', 'PC2'])\n",
    "pca_df['Label'] = labels\n",
    "\n",
    "# 6. Visualize Original vs PCA-reduced Data\n",
    "plt.figure(figsize=(12, 5))\n"
   ]
  }
 ],
 "metadata": {
  "language_info": {
   "name": "python"
  }
 },
 "nbformat": 4,
 "nbformat_minor": 5
}
