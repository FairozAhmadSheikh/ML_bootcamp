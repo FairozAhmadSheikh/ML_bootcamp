{
 "cells": [
  {
   "cell_type": "code",
   "execution_count": null,
   "id": "fc65c644",
   "metadata": {
    "vscode": {
     "languageId": "plaintext"
    }
   },
   "outputs": [],
   "source": [
    "# 1. Import Libraries\n",
    "import numpy as np\n",
    "import pandas as pd\n",
    "import matplotlib.pyplot as plt\n",
    "from sklearn.preprocessing import StandardScaler\n",
    "from sklearn.decomposition import PCA\n"
   ]
  },
  {
   "cell_type": "code",
   "execution_count": null,
   "id": "3027b33a",
   "metadata": {
    "vscode": {
     "languageId": "plaintext"
    }
   },
   "outputs": [],
   "source": [
    "# Manually Create Dataset\n",
    "# samples with 3 features\n",
    "data = np.array([\n",
    "    [2.5, 2.4, 0.5],\n",
    "    [0.5, 0.7, 0.2],\n",
    "    [2.2, 2.9, 0.4],\n",
    "    [1.9, 2.2, 0.3],\n",
    "    [3.1, 3.0, 0.9],\n",
    "    [2.3, 2.7, 0.6]\n",
    "])"
   ]
  }
 ],
 "metadata": {
  "language_info": {
   "name": "python"
  }
 },
 "nbformat": 4,
 "nbformat_minor": 5
}
