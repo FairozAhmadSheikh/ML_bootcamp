{
 "cells": [
  {
   "cell_type": "code",
   "execution_count": 1,
   "id": "bcf7fdde",
   "metadata": {},
   "outputs": [],
   "source": [
    "import numpy as np\n",
    "import matplotlib.pyplot as plt"
   ]
  },
  {
   "cell_type": "code",
   "execution_count": 2,
   "id": "53513906",
   "metadata": {},
   "outputs": [],
   "source": [
    "X=np.random.rand(100,1)-0.5\n",
    "y=3*X[:,0]**2+0.05*np.random.rand(100)"
   ]
  },
  {
   "cell_type": "code",
   "execution_count": 4,
   "id": "f7976422",
   "metadata": {},
   "outputs": [],
   "source": [
    "import pandas as pd\n",
    "df=pd.DataFrame()\n",
    "df['X']=X.reshape(100)\n",
    "df['y']=y"
   ]
  },
  {
   "cell_type": "code",
   "execution_count": 5,
   "id": "f280fc0e",
   "metadata": {},
   "outputs": [
    {
     "data": {
      "text/plain": [
       "Text(0.5, 1.0, 'X vs y')"
      ]
     },
     "execution_count": 5,
     "metadata": {},
     "output_type": "execute_result"
    },
    {
     "data": {
      "image/png": "[encoded data removed]",
      "text/plain": [
       "<Figure size 640x480 with 1 Axes>"
      ]
     },
     "metadata": {},
     "output_type": "display_data"
    }
   ],
   "source": [
    "plt.scatter(df['X'],df['y'])\n",
    "plt.title('X vs y')"
   ]
  },
  {
   "cell_type": "markdown",
   "id": "6dd31bd9",
   "metadata": {},
   "source": [
    "Base Model Creation"
   ]
  },
  {
   "cell_type": "code",
   "execution_count": 11,
   "id": "323449dd",
   "metadata": {},
   "outputs": [
    {
     "data": {
      "text/html": [
       "<div>\n",
       "<style scoped>\n",
       "    .dataframe tbody tr th:only-of-type {\n",
       "        vertical-align: middle;\n",
       "    }\n",
       "\n",
       "    .dataframe tbody tr th {\n",
       "        vertical-align: top;\n",
       "    }\n",
       "\n",
       "    .dataframe thead th {\n",
       "        text-align: right;\n",
       "    }\n",
       "</style>\n",
       "<table border=\"1\" class=\"dataframe\">\n",
       "  <thead>\n",
       "    <tr style=\"text-align: right;\">\n",
       "      <th></th>\n",
       "      <th>X</th>\n",
       "      <th>y</th>\n",
       "      <th>pred</th>\n",
       "      <th>pred1</th>\n",
       "      <th>res1</th>\n",
       "    </tr>\n",
       "  </thead>\n",
       "  <tbody>\n",
       "    <tr>\n",
       "      <th>0</th>\n",
       "      <td>0.026089</td>\n",
       "      <td>0.030708</td>\n",
       "      <td>0.25269</td>\n",
       "      <td>0.25269</td>\n",
       "      <td>-0.221983</td>\n",
       "    </tr>\n",
       "    <tr>\n",
       "      <th>1</th>\n",
       "      <td>0.446168</td>\n",
       "      <td>0.609416</td>\n",
       "      <td>0.25269</td>\n",
       "      <td>0.25269</td>\n",
       "      <td>0.356726</td>\n",
       "    </tr>\n",
       "    <tr>\n",
       "      <th>2</th>\n",
       "      <td>0.222697</td>\n",
       "      <td>0.194943</td>\n",
       "      <td>0.25269</td>\n",
       "      <td>0.25269</td>\n",
       "      <td>-0.057747</td>\n",
       "    </tr>\n",
       "    <tr>\n",
       "      <th>3</th>\n",
       "      <td>0.313193</td>\n",
       "      <td>0.298590</td>\n",
       "      <td>0.25269</td>\n",
       "      <td>0.25269</td>\n",
       "      <td>0.045900</td>\n",
       "    </tr>\n",
       "    <tr>\n",
       "      <th>4</th>\n",
       "      <td>-0.253036</td>\n",
       "      <td>0.234336</td>\n",
       "      <td>0.25269</td>\n",
       "      <td>0.25269</td>\n",
       "      <td>-0.018354</td>\n",
       "    </tr>\n",
       "    <tr>\n",
       "      <th>...</th>\n",
       "      <td>...</td>\n",
       "      <td>...</td>\n",
       "      <td>...</td>\n",
       "      <td>...</td>\n",
       "      <td>...</td>\n",
       "    </tr>\n",
       "    <tr>\n",
       "      <th>95</th>\n",
       "      <td>0.266948</td>\n",
       "      <td>0.255724</td>\n",
       "      <td>0.25269</td>\n",
       "      <td>0.25269</td>\n",
       "      <td>0.003034</td>\n",
       "    </tr>\n",
       "    <tr>\n",
       "      <th>96</th>\n",
       "      <td>0.174281</td>\n",
       "      <td>0.135531</td>\n",
       "      <td>0.25269</td>\n",
       "      <td>0.25269</td>\n",
       "      <td>-0.117160</td>\n",
       "    </tr>\n",
       "    <tr>\n",
       "      <th>97</th>\n",
       "      <td>-0.255691</td>\n",
       "      <td>0.232770</td>\n",
       "      <td>0.25269</td>\n",
       "      <td>0.25269</td>\n",
       "      <td>-0.019920</td>\n",
       "    </tr>\n",
       "    <tr>\n",
       "      <th>98</th>\n",
       "      <td>-0.465593</td>\n",
       "      <td>0.685566</td>\n",
       "      <td>0.25269</td>\n",
       "      <td>0.25269</td>\n",
       "      <td>0.432876</td>\n",
       "    </tr>\n",
       "    <tr>\n",
       "      <th>99</th>\n",
       "      <td>0.494297</td>\n",
       "      <td>0.755473</td>\n",
       "      <td>0.25269</td>\n",
       "      <td>0.25269</td>\n",
       "      <td>0.502783</td>\n",
       "    </tr>\n",
       "  </tbody>\n",
       "</table>\n",
       "<p>100 rows × 5 columns</p>\n",
       "</div>"
      ],
      "text/plain": [
       "           X         y     pred    pred1      res1\n",
       "0   0.026089  0.030708  0.25269  0.25269 -0.221983\n",
       "1   0.446168  0.609416  0.25269  0.25269  0.356726\n",
       "2   0.222697  0.194943  0.25269  0.25269 -0.057747\n",
       "3   0.313193  0.298590  0.25269  0.25269  0.045900\n",
       "4  -0.253036  0.234336  0.25269  0.25269 -0.018354\n",
       "..       ...       ...      ...      ...       ...\n",
       "95  0.266948  0.255724  0.25269  0.25269  0.003034\n",
       "96  0.174281  0.135531  0.25269  0.25269 -0.117160\n",
       "97 -0.255691  0.232770  0.25269  0.25269 -0.019920\n",
       "98 -0.465593  0.685566  0.25269  0.25269  0.432876\n",
       "99  0.494297  0.755473  0.25269  0.25269  0.502783\n",
       "\n",
       "[100 rows x 5 columns]"
      ]
     },
     "execution_count": 11,
     "metadata": {},
     "output_type": "execute_result"
    }
   ],
   "source": [
    "df['pred1']=df['y'].mean()\n",
    "df['res1']=df['y']-df['pred1']\n",
    "df"
   ]
  },
  {
   "cell_type": "code",
   "execution_count": 12,
   "id": "05004b9b",
   "metadata": {},
   "outputs": [
    {
     "data": {
      "text/plain": [
       "[<matplotlib.lines.Line2D at 0x1c1227e7ed0>]"
      ]
     },
     "execution_count": 12,
     "metadata": {},
     "output_type": "execute_result"
    },
    {
     "data": {
      "image/png": "[encoded data removed]",
      "text/plain": [
       "<Figure size 640x480 with 1 Axes>"
      ]
     },
     "metadata": {},
     "output_type": "display_data"
    }
   ],
   "source": [
    "plt.scatter(df['X'],df['y'])\n",
    "plt.plot(df['X'],df['pred1'],color='red')"
   ]
  }
 ],
 "metadata": {
  "kernelspec": {
   "display_name": "Python 3",
   "language": "python",
   "name": "python3"
  },
  "language_info": {
   "codemirror_mode": {
    "name": "ipython",
    "version": 3
   },
   "file_extension": ".py",
   "mimetype": "text/x-python",
   "name": "python",
   "nbconvert_exporter": "python",
   "pygments_lexer": "ipython3",
   "version": "3.13.1"
  }
 },
 "nbformat": 4,
 "nbformat_minor": 5
}
