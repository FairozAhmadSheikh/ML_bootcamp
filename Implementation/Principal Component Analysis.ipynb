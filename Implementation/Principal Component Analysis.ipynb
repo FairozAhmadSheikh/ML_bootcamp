{
 "cells": [
  {
   "cell_type": "code",
   "execution_count": null,
   "id": "a1573876",
   "metadata": {
    "vscode": {
     "languageId": "plaintext"
    }
   },
   "outputs": [],
   "source": [
    "import numpy as np\n",
    "import matplotlib.pyplot as plt\n",
    "from sklearn.datasets import load_iris\n",
    "\n",
    "data = load_iris()\n",
    "X = data.data\n",
    "y = data.target\n",
    "labels = data.target_names\n"
   ]
  },
  {
   "cell_type": "code",
   "execution_count": null,
   "id": "8921d34a",
   "metadata": {
    "vscode": {
     "languageId": "plaintext"
    }
   },
   "outputs": [],
   "source": [
    "\n",
    "X_meaned = X - np.mean(X, axis=0)\n",
    "\n",
    "\n",
    "cov_mat = np.cov(X_meaned, rowvar=False)\n",
    "\n",
    "\n",
    "eigen_values, eigen_vectors = np.linalg.eigh(cov_mat)\n",
    "\n",
    "\n",
    "sorted_index = np.argsort(eigen_values)[::-1]\n",
    "sorted_eigenvalues = eigen_values[sorted_index]\n",
    "sorted_eigenvectors = eigen_vectors[:, sorted_index]"
   ]
  },
  {
   "cell_type": "code",
   "execution_count": null,
   "id": "a87d9a44",
   "metadata": {
    "vscode": {
     "languageId": "plaintext"
    }
   },
   "outputs": [],
   "source": [
    "\n",
    "k = 2\n",
    "eigenvector_subset = sorted_eigenvectors[:, :k]\n",
    "\n",
    "\n",
    "X_reduced = np.dot(X_meaned, eigenvector_subset)"
   ]
  },
  {
   "cell_type": "code",
   "execution_count": null,
   "id": "3f285e8d",
   "metadata": {
    "vscode": {
     "languageId": "plaintext"
    }
   },
   "outputs": [],
   "source": [
    "plt.figure(figsize=(8, 6))\n",
    "for target in np.unique(y):\n",
    "    plt.scatter(X_reduced[y == target, 0], X_reduced[y == target, 1], label=labels[target])\n",
    "plt.xlabel('Principal Component 1')\n",
    "plt.ylabel('Principal Component 2')\n",
    "plt.title('PCA on Iris Dataset (from scratch)')\n",
    "plt.legend()\n",
    "plt.grid(True)\n",
    "plt.show()"
   ]
  }
 ],
 "metadata": {
  "language_info": {
   "name": "python"
  }
 },
 "nbformat": 4,
 "nbformat_minor": 5
}
