{
 "cells": [
  {
   "cell_type": "code",
   "execution_count": 1,
   "metadata": {},
   "outputs": [],
   "source": [
    "import pandas as pd"
   ]
  },
  {
   "cell_type": "code",
   "execution_count": 2,
   "metadata": {},
   "outputs": [],
   "source": [
    "df=pd.read_csv(\"employees.csv\")"
   ]
  },
  {
   "cell_type": "code",
   "execution_count": 3,
   "metadata": {},
   "outputs": [
    {
     "data": {
      "text/plain": [
       "550"
      ]
     },
     "execution_count": 3,
     "metadata": {},
     "output_type": "execute_result"
    }
   ],
   "source": [
    "df.size  # Gives rows X columns i.e number of elements"
   ]
  },
  {
   "cell_type": "code",
   "execution_count": null,
   "metadata": {},
   "outputs": [
    {
     "data": {
      "text/plain": [
       "2"
      ]
     },
     "execution_count": 4,
     "metadata": {},
     "output_type": "execute_result"
    }
   ],
   "source": [
    "df.ndim # Gives Dimension"
   ]
  },
  {
   "cell_type": "code",
   "execution_count": 5,
   "metadata": {},
   "outputs": [
    {
     "data": {
      "text/plain": [
       "(50, 11)"
      ]
     },
     "execution_count": 5,
     "metadata": {},
     "output_type": "execute_result"
    }
   ],
   "source": [
    "df.shape  # gives shape i.e rows and columns"
   ]
  },
  {
   "cell_type": "code",
   "execution_count": null,
   "metadata": {},
   "outputs": [
    {
     "data": {
      "text/plain": [
       "EMPLOYEE_ID        int64\n",
       "FIRST_NAME        object\n",
       "LAST_NAME         object\n",
       "EMAIL             object\n",
       "PHONE_NUMBER      object\n",
       "HIRE_DATE         object\n",
       "JOB_ID            object\n",
       "SALARY             int64\n",
       "COMMISSION_PCT    object\n",
       "MANAGER_ID        object\n",
       "DEPARTMENT_ID      int64\n",
       "dtype: object"
      ]
     },
     "execution_count": 6,
     "metadata": {},
     "output_type": "execute_result"
    }
   ],
   "source": [
    "df.dtypes  # Gives datatypes "
   ]
  },
  {
   "cell_type": "code",
   "execution_count": 8,
   "metadata": {},
   "outputs": [
    {
     "data": {
      "text/html": [
       "<div>\n",
       "<style scoped>\n",
       "    .dataframe tbody tr th:only-of-type {\n",
       "        vertical-align: middle;\n",
       "    }\n",
       "\n",
       "    .dataframe tbody tr th {\n",
       "        vertical-align: top;\n",
       "    }\n",
       "\n",
       "    .dataframe thead th {\n",
       "        text-align: right;\n",
       "    }\n",
       "</style>\n",
       "<table border=\"1\" class=\"dataframe\">\n",
       "  <thead>\n",
       "    <tr style=\"text-align: right;\">\n",
       "      <th></th>\n",
       "      <th>EMPLOYEE_ID</th>\n",
       "      <th>FIRST_NAME</th>\n",
       "      <th>LAST_NAME</th>\n",
       "      <th>EMAIL</th>\n",
       "      <th>PHONE_NUMBER</th>\n",
       "      <th>HIRE_DATE</th>\n",
       "      <th>JOB_ID</th>\n",
       "      <th>SALARY</th>\n",
       "      <th>COMMISSION_PCT</th>\n",
       "      <th>MANAGER_ID</th>\n",
       "      <th>DEPARTMENT_ID</th>\n",
       "    </tr>\n",
       "  </thead>\n",
       "  <tbody>\n",
       "    <tr>\n",
       "      <th>0</th>\n",
       "      <td>198</td>\n",
       "      <td>Donald</td>\n",
       "      <td>OConnell</td>\n",
       "      <td>DOCONNEL</td>\n",
       "      <td>650.507.9833</td>\n",
       "      <td>21-JUN-07</td>\n",
       "      <td>SH_CLERK</td>\n",
       "      <td>2600</td>\n",
       "      <td>-</td>\n",
       "      <td>124</td>\n",
       "      <td>50</td>\n",
       "    </tr>\n",
       "    <tr>\n",
       "      <th>1</th>\n",
       "      <td>199</td>\n",
       "      <td>Douglas</td>\n",
       "      <td>Grant</td>\n",
       "      <td>DGRANT</td>\n",
       "      <td>650.507.9844</td>\n",
       "      <td>13-JAN-08</td>\n",
       "      <td>SH_CLERK</td>\n",
       "      <td>2600</td>\n",
       "      <td>-</td>\n",
       "      <td>124</td>\n",
       "      <td>50</td>\n",
       "    </tr>\n",
       "  </tbody>\n",
       "</table>\n",
       "</div>"
      ],
      "text/plain": [
       "   EMPLOYEE_ID FIRST_NAME LAST_NAME     EMAIL  PHONE_NUMBER  HIRE_DATE  \\\n",
       "0          198     Donald  OConnell  DOCONNEL  650.507.9833  21-JUN-07   \n",
       "1          199    Douglas     Grant    DGRANT  650.507.9844  13-JAN-08   \n",
       "\n",
       "     JOB_ID  SALARY COMMISSION_PCT MANAGER_ID  DEPARTMENT_ID  \n",
       "0  SH_CLERK    2600             -         124             50  \n",
       "1  SH_CLERK    2600             -         124             50  "
      ]
     },
     "execution_count": 8,
     "metadata": {},
     "output_type": "execute_result"
    }
   ],
   "source": [
    "df.head(2)  # Displays first two rows\n"
   ]
  },
  {
   "cell_type": "code",
   "execution_count": 9,
   "metadata": {},
   "outputs": [
    {
     "data": {
      "text/html": [
       "<div>\n",
       "<style scoped>\n",
       "    .dataframe tbody tr th:only-of-type {\n",
       "        vertical-align: middle;\n",
       "    }\n",
       "\n",
       "    .dataframe tbody tr th {\n",
       "        vertical-align: top;\n",
       "    }\n",
       "\n",
       "    .dataframe thead th {\n",
       "        text-align: right;\n",
       "    }\n",
       "</style>\n",
       "<table border=\"1\" class=\"dataframe\">\n",
       "  <thead>\n",
       "    <tr style=\"text-align: right;\">\n",
       "      <th></th>\n",
       "      <th>EMPLOYEE_ID</th>\n",
       "      <th>FIRST_NAME</th>\n",
       "      <th>LAST_NAME</th>\n",
       "      <th>EMAIL</th>\n",
       "      <th>PHONE_NUMBER</th>\n",
       "      <th>HIRE_DATE</th>\n",
       "      <th>JOB_ID</th>\n",
       "      <th>SALARY</th>\n",
       "      <th>COMMISSION_PCT</th>\n",
       "      <th>MANAGER_ID</th>\n",
       "      <th>DEPARTMENT_ID</th>\n",
       "    </tr>\n",
       "  </thead>\n",
       "  <tbody>\n",
       "    <tr>\n",
       "      <th>48</th>\n",
       "      <td>139</td>\n",
       "      <td>John</td>\n",
       "      <td>Seo</td>\n",
       "      <td>JSEO</td>\n",
       "      <td>650.121.2019</td>\n",
       "      <td>12-FEB-06</td>\n",
       "      <td>ST_CLERK</td>\n",
       "      <td>2700</td>\n",
       "      <td>-</td>\n",
       "      <td>123</td>\n",
       "      <td>50</td>\n",
       "    </tr>\n",
       "    <tr>\n",
       "      <th>49</th>\n",
       "      <td>140</td>\n",
       "      <td>Joshua</td>\n",
       "      <td>Patel</td>\n",
       "      <td>JPATEL</td>\n",
       "      <td>650.121.1834</td>\n",
       "      <td>06-APR-06</td>\n",
       "      <td>ST_CLERK</td>\n",
       "      <td>2500</td>\n",
       "      <td>-</td>\n",
       "      <td>123</td>\n",
       "      <td>50</td>\n",
       "    </tr>\n",
       "  </tbody>\n",
       "</table>\n",
       "</div>"
      ],
      "text/plain": [
       "    EMPLOYEE_ID FIRST_NAME LAST_NAME   EMAIL  PHONE_NUMBER  HIRE_DATE  \\\n",
       "48          139       John       Seo    JSEO  650.121.2019  12-FEB-06   \n",
       "49          140     Joshua     Patel  JPATEL  650.121.1834  06-APR-06   \n",
       "\n",
       "      JOB_ID  SALARY COMMISSION_PCT MANAGER_ID  DEPARTMENT_ID  \n",
       "48  ST_CLERK    2700             -         123             50  \n",
       "49  ST_CLERK    2500             -         123             50  "
      ]
     },
     "execution_count": 9,
     "metadata": {},
     "output_type": "execute_result"
    }
   ],
   "source": [
    "df.tail(2)   # Displays last two row"
   ]
  },
  {
   "cell_type": "code",
   "execution_count": null,
   "metadata": {},
   "outputs": [
    {
     "data": {
      "text/html": [
       "<div>\n",
       "<style scoped>\n",
       "    .dataframe tbody tr th:only-of-type {\n",
       "        vertical-align: middle;\n",
       "    }\n",
       "\n",
       "    .dataframe tbody tr th {\n",
       "        vertical-align: top;\n",
       "    }\n",
       "\n",
       "    .dataframe thead th {\n",
       "        text-align: right;\n",
       "    }\n",
       "</style>\n",
       "<table border=\"1\" class=\"dataframe\">\n",
       "  <thead>\n",
       "    <tr style=\"text-align: right;\">\n",
       "      <th></th>\n",
       "      <th>EMPLOYEE_ID</th>\n",
       "      <th>FIRST_NAME</th>\n",
       "      <th>LAST_NAME</th>\n",
       "      <th>EMAIL</th>\n",
       "      <th>PHONE_NUMBER</th>\n",
       "      <th>HIRE_DATE</th>\n",
       "      <th>JOB_ID</th>\n",
       "      <th>SALARY</th>\n",
       "      <th>COMMISSION_PCT</th>\n",
       "      <th>MANAGER_ID</th>\n",
       "      <th>DEPARTMENT_ID</th>\n",
       "    </tr>\n",
       "  </thead>\n",
       "  <tbody>\n",
       "    <tr>\n",
       "      <th>33</th>\n",
       "      <td>124</td>\n",
       "      <td>Kevin</td>\n",
       "      <td>Mourgos</td>\n",
       "      <td>KMOURGOS</td>\n",
       "      <td>650.123.5234</td>\n",
       "      <td>16-NOV-07</td>\n",
       "      <td>ST_MAN</td>\n",
       "      <td>5800</td>\n",
       "      <td>-</td>\n",
       "      <td>100</td>\n",
       "      <td>50</td>\n",
       "    </tr>\n",
       "  </tbody>\n",
       "</table>\n",
       "</div>"
      ],
      "text/plain": [
       "    EMPLOYEE_ID FIRST_NAME LAST_NAME     EMAIL  PHONE_NUMBER  HIRE_DATE  \\\n",
       "33          124      Kevin   Mourgos  KMOURGOS  650.123.5234  16-NOV-07   \n",
       "\n",
       "    JOB_ID  SALARY COMMISSION_PCT MANAGER_ID  DEPARTMENT_ID  \n",
       "33  ST_MAN    5800             -         100             50  "
      ]
     },
     "execution_count": 10,
     "metadata": {},
     "output_type": "execute_result"
    }
   ],
   "source": [
    "df.sample()  # gives a sample at random "
   ]
  },
  {
   "cell_type": "code",
   "execution_count": 11,
   "metadata": {},
   "outputs": [
    {
     "data": {
      "text/html": [
       "<div>\n",
       "<style scoped>\n",
       "    .dataframe tbody tr th:only-of-type {\n",
       "        vertical-align: middle;\n",
       "    }\n",
       "\n",
       "    .dataframe tbody tr th {\n",
       "        vertical-align: top;\n",
       "    }\n",
       "\n",
       "    .dataframe thead th {\n",
       "        text-align: right;\n",
       "    }\n",
       "</style>\n",
       "<table border=\"1\" class=\"dataframe\">\n",
       "  <thead>\n",
       "    <tr style=\"text-align: right;\">\n",
       "      <th></th>\n",
       "      <th>EMPLOYEE_ID</th>\n",
       "      <th>FIRST_NAME</th>\n",
       "      <th>LAST_NAME</th>\n",
       "      <th>EMAIL</th>\n",
       "      <th>PHONE_NUMBER</th>\n",
       "      <th>HIRE_DATE</th>\n",
       "      <th>JOB_ID</th>\n",
       "      <th>SALARY</th>\n",
       "      <th>COMMISSION_PCT</th>\n",
       "      <th>MANAGER_ID</th>\n",
       "      <th>DEPARTMENT_ID</th>\n",
       "    </tr>\n",
       "  </thead>\n",
       "  <tbody>\n",
       "    <tr>\n",
       "      <th>18</th>\n",
       "      <td>109</td>\n",
       "      <td>Daniel</td>\n",
       "      <td>Faviet</td>\n",
       "      <td>DFAVIET</td>\n",
       "      <td>515.124.4169</td>\n",
       "      <td>16-AUG-02</td>\n",
       "      <td>FI_ACCOUNT</td>\n",
       "      <td>9000</td>\n",
       "      <td>-</td>\n",
       "      <td>108</td>\n",
       "      <td>100</td>\n",
       "    </tr>\n",
       "    <tr>\n",
       "      <th>40</th>\n",
       "      <td>131</td>\n",
       "      <td>James</td>\n",
       "      <td>Marlow</td>\n",
       "      <td>JAMRLOW</td>\n",
       "      <td>650.124.7234</td>\n",
       "      <td>16-FEB-05</td>\n",
       "      <td>ST_CLERK</td>\n",
       "      <td>2500</td>\n",
       "      <td>-</td>\n",
       "      <td>121</td>\n",
       "      <td>50</td>\n",
       "    </tr>\n",
       "    <tr>\n",
       "      <th>0</th>\n",
       "      <td>198</td>\n",
       "      <td>Donald</td>\n",
       "      <td>OConnell</td>\n",
       "      <td>DOCONNEL</td>\n",
       "      <td>650.507.9833</td>\n",
       "      <td>21-JUN-07</td>\n",
       "      <td>SH_CLERK</td>\n",
       "      <td>2600</td>\n",
       "      <td>-</td>\n",
       "      <td>124</td>\n",
       "      <td>50</td>\n",
       "    </tr>\n",
       "    <tr>\n",
       "      <th>28</th>\n",
       "      <td>119</td>\n",
       "      <td>Karen</td>\n",
       "      <td>Colmenares</td>\n",
       "      <td>KCOLMENA</td>\n",
       "      <td>515.127.4566</td>\n",
       "      <td>10-AUG-07</td>\n",
       "      <td>PU_CLERK</td>\n",
       "      <td>2500</td>\n",
       "      <td>-</td>\n",
       "      <td>114</td>\n",
       "      <td>30</td>\n",
       "    </tr>\n",
       "  </tbody>\n",
       "</table>\n",
       "</div>"
      ],
      "text/plain": [
       "    EMPLOYEE_ID FIRST_NAME   LAST_NAME     EMAIL  PHONE_NUMBER  HIRE_DATE  \\\n",
       "18          109     Daniel      Faviet   DFAVIET  515.124.4169  16-AUG-02   \n",
       "40          131      James      Marlow   JAMRLOW  650.124.7234  16-FEB-05   \n",
       "0           198     Donald    OConnell  DOCONNEL  650.507.9833  21-JUN-07   \n",
       "28          119      Karen  Colmenares  KCOLMENA  515.127.4566  10-AUG-07   \n",
       "\n",
       "        JOB_ID  SALARY COMMISSION_PCT MANAGER_ID  DEPARTMENT_ID  \n",
       "18  FI_ACCOUNT    9000             -         108            100  \n",
       "40    ST_CLERK    2500             -         121             50  \n",
       "0     SH_CLERK    2600             -         124             50  \n",
       "28    PU_CLERK    2500             -         114             30  "
      ]
     },
     "execution_count": 11,
     "metadata": {},
     "output_type": "execute_result"
    }
   ],
   "source": [
    "df.sample(n=4) # gives a 4 samples at random"
   ]
  },
  {
   "cell_type": "code",
   "execution_count": null,
   "metadata": {},
   "outputs": [],
   "source": [
    "df.values  # coverts dataframe into Numpy array"
   ]
  },
  {
   "cell_type": "code",
   "execution_count": null,
   "metadata": {},
   "outputs": [
    {
     "data": {
      "text/plain": [
       "[RangeIndex(start=0, stop=50, step=1),\n",
       " Index(['EMPLOYEE_ID', 'FIRST_NAME', 'LAST_NAME', 'EMAIL', 'PHONE_NUMBER',\n",
       "        'HIRE_DATE', 'JOB_ID', 'SALARY', 'COMMISSION_PCT', 'MANAGER_ID',\n",
       "        'DEPARTMENT_ID'],\n",
       "       dtype='object')]"
      ]
     },
     "execution_count": 13,
     "metadata": {},
     "output_type": "execute_result"
    }
   ],
   "source": [
    "df.axes  # Gives Range as well as information about DataFrame"
   ]
  },
  {
   "cell_type": "code",
   "execution_count": null,
   "metadata": {},
   "outputs": [
    {
     "data": {
      "text/plain": [
       "False"
      ]
     },
     "execution_count": 15,
     "metadata": {},
     "output_type": "execute_result"
    }
   ],
   "source": [
    "df.empty # Tells if  a Dataframe is empty"
   ]
  },
  {
   "cell_type": "code",
   "execution_count": null,
   "metadata": {},
   "outputs": [
    {
     "data": {
      "text/html": [
       "<div>\n",
       "<style scoped>\n",
       "    .dataframe tbody tr th:only-of-type {\n",
       "        vertical-align: middle;\n",
       "    }\n",
       "\n",
       "    .dataframe tbody tr th {\n",
       "        vertical-align: top;\n",
       "    }\n",
       "\n",
       "    .dataframe thead th {\n",
       "        text-align: right;\n",
       "    }\n",
       "</style>\n",
       "<table border=\"1\" class=\"dataframe\">\n",
       "  <thead>\n",
       "    <tr style=\"text-align: right;\">\n",
       "      <th></th>\n",
       "      <th>0</th>\n",
       "      <th>1</th>\n",
       "      <th>2</th>\n",
       "      <th>3</th>\n",
       "      <th>4</th>\n",
       "      <th>5</th>\n",
       "      <th>6</th>\n",
       "      <th>7</th>\n",
       "      <th>8</th>\n",
       "      <th>9</th>\n",
       "      <th>...</th>\n",
       "      <th>40</th>\n",
       "      <th>41</th>\n",
       "      <th>42</th>\n",
       "      <th>43</th>\n",
       "      <th>44</th>\n",
       "      <th>45</th>\n",
       "      <th>46</th>\n",
       "      <th>47</th>\n",
       "      <th>48</th>\n",
       "      <th>49</th>\n",
       "    </tr>\n",
       "  </thead>\n",
       "  <tbody>\n",
       "    <tr>\n",
       "      <th>EMPLOYEE_ID</th>\n",
       "      <td>198</td>\n",
       "      <td>199</td>\n",
       "      <td>200</td>\n",
       "      <td>201</td>\n",
       "      <td>202</td>\n",
       "      <td>203</td>\n",
       "      <td>204</td>\n",
       "      <td>205</td>\n",
       "      <td>206</td>\n",
       "      <td>100</td>\n",
       "      <td>...</td>\n",
       "      <td>131</td>\n",
       "      <td>132</td>\n",
       "      <td>133</td>\n",
       "      <td>134</td>\n",
       "      <td>135</td>\n",
       "      <td>136</td>\n",
       "      <td>137</td>\n",
       "      <td>138</td>\n",
       "      <td>139</td>\n",
       "      <td>140</td>\n",
       "    </tr>\n",
       "    <tr>\n",
       "      <th>FIRST_NAME</th>\n",
       "      <td>Donald</td>\n",
       "      <td>Douglas</td>\n",
       "      <td>Jennifer</td>\n",
       "      <td>Michael</td>\n",
       "      <td>Pat</td>\n",
       "      <td>Susan</td>\n",
       "      <td>Hermann</td>\n",
       "      <td>Shelley</td>\n",
       "      <td>William</td>\n",
       "      <td>Steven</td>\n",
       "      <td>...</td>\n",
       "      <td>James</td>\n",
       "      <td>TJ</td>\n",
       "      <td>Jason</td>\n",
       "      <td>Michael</td>\n",
       "      <td>Ki</td>\n",
       "      <td>Hazel</td>\n",
       "      <td>Renske</td>\n",
       "      <td>Stephen</td>\n",
       "      <td>John</td>\n",
       "      <td>Joshua</td>\n",
       "    </tr>\n",
       "    <tr>\n",
       "      <th>LAST_NAME</th>\n",
       "      <td>OConnell</td>\n",
       "      <td>Grant</td>\n",
       "      <td>Whalen</td>\n",
       "      <td>Hartstein</td>\n",
       "      <td>Fay</td>\n",
       "      <td>Mavris</td>\n",
       "      <td>Baer</td>\n",
       "      <td>Higgins</td>\n",
       "      <td>Gietz</td>\n",
       "      <td>King</td>\n",
       "      <td>...</td>\n",
       "      <td>Marlow</td>\n",
       "      <td>Olson</td>\n",
       "      <td>Mallin</td>\n",
       "      <td>Rogers</td>\n",
       "      <td>Gee</td>\n",
       "      <td>Philtanker</td>\n",
       "      <td>Ladwig</td>\n",
       "      <td>Stiles</td>\n",
       "      <td>Seo</td>\n",
       "      <td>Patel</td>\n",
       "    </tr>\n",
       "    <tr>\n",
       "      <th>EMAIL</th>\n",
       "      <td>DOCONNEL</td>\n",
       "      <td>DGRANT</td>\n",
       "      <td>JWHALEN</td>\n",
       "      <td>MHARTSTE</td>\n",
       "      <td>PFAY</td>\n",
       "      <td>SMAVRIS</td>\n",
       "      <td>HBAER</td>\n",
       "      <td>SHIGGINS</td>\n",
       "      <td>WGIETZ</td>\n",
       "      <td>SKING</td>\n",
       "      <td>...</td>\n",
       "      <td>JAMRLOW</td>\n",
       "      <td>TJOLSON</td>\n",
       "      <td>JMALLIN</td>\n",
       "      <td>MROGERS</td>\n",
       "      <td>KGEE</td>\n",
       "      <td>HPHILTAN</td>\n",
       "      <td>RLADWIG</td>\n",
       "      <td>SSTILES</td>\n",
       "      <td>JSEO</td>\n",
       "      <td>JPATEL</td>\n",
       "    </tr>\n",
       "    <tr>\n",
       "      <th>PHONE_NUMBER</th>\n",
       "      <td>650.507.9833</td>\n",
       "      <td>650.507.9844</td>\n",
       "      <td>515.123.4444</td>\n",
       "      <td>515.123.5555</td>\n",
       "      <td>603.123.6666</td>\n",
       "      <td>515.123.7777</td>\n",
       "      <td>515.123.8888</td>\n",
       "      <td>515.123.8080</td>\n",
       "      <td>515.123.8181</td>\n",
       "      <td>515.123.4567</td>\n",
       "      <td>...</td>\n",
       "      <td>650.124.7234</td>\n",
       "      <td>650.124.8234</td>\n",
       "      <td>650.127.1934</td>\n",
       "      <td>650.127.1834</td>\n",
       "      <td>650.127.1734</td>\n",
       "      <td>650.127.1634</td>\n",
       "      <td>650.121.1234</td>\n",
       "      <td>650.121.2034</td>\n",
       "      <td>650.121.2019</td>\n",
       "      <td>650.121.1834</td>\n",
       "    </tr>\n",
       "    <tr>\n",
       "      <th>HIRE_DATE</th>\n",
       "      <td>21-JUN-07</td>\n",
       "      <td>13-JAN-08</td>\n",
       "      <td>17-SEP-03</td>\n",
       "      <td>17-FEB-04</td>\n",
       "      <td>17-AUG-05</td>\n",
       "      <td>07-JUN-02</td>\n",
       "      <td>07-JUN-02</td>\n",
       "      <td>07-JUN-02</td>\n",
       "      <td>07-JUN-02</td>\n",
       "      <td>17-JUN-03</td>\n",
       "      <td>...</td>\n",
       "      <td>16-FEB-05</td>\n",
       "      <td>10-APR-07</td>\n",
       "      <td>14-JUN-04</td>\n",
       "      <td>26-AUG-06</td>\n",
       "      <td>12-DEC-07</td>\n",
       "      <td>06-FEB-08</td>\n",
       "      <td>14-JUL-03</td>\n",
       "      <td>26-OCT-05</td>\n",
       "      <td>12-FEB-06</td>\n",
       "      <td>06-APR-06</td>\n",
       "    </tr>\n",
       "    <tr>\n",
       "      <th>JOB_ID</th>\n",
       "      <td>SH_CLERK</td>\n",
       "      <td>SH_CLERK</td>\n",
       "      <td>AD_ASST</td>\n",
       "      <td>MK_MAN</td>\n",
       "      <td>MK_REP</td>\n",
       "      <td>HR_REP</td>\n",
       "      <td>PR_REP</td>\n",
       "      <td>AC_MGR</td>\n",
       "      <td>AC_ACCOUNT</td>\n",
       "      <td>AD_PRES</td>\n",
       "      <td>...</td>\n",
       "      <td>ST_CLERK</td>\n",
       "      <td>ST_CLERK</td>\n",
       "      <td>ST_CLERK</td>\n",
       "      <td>ST_CLERK</td>\n",
       "      <td>ST_CLERK</td>\n",
       "      <td>ST_CLERK</td>\n",
       "      <td>ST_CLERK</td>\n",
       "      <td>ST_CLERK</td>\n",
       "      <td>ST_CLERK</td>\n",
       "      <td>ST_CLERK</td>\n",
       "    </tr>\n",
       "    <tr>\n",
       "      <th>SALARY</th>\n",
       "      <td>2600</td>\n",
       "      <td>2600</td>\n",
       "      <td>4400</td>\n",
       "      <td>13000</td>\n",
       "      <td>6000</td>\n",
       "      <td>6500</td>\n",
       "      <td>10000</td>\n",
       "      <td>12008</td>\n",
       "      <td>8300</td>\n",
       "      <td>24000</td>\n",
       "      <td>...</td>\n",
       "      <td>2500</td>\n",
       "      <td>2100</td>\n",
       "      <td>3300</td>\n",
       "      <td>2900</td>\n",
       "      <td>2400</td>\n",
       "      <td>2200</td>\n",
       "      <td>3600</td>\n",
       "      <td>3200</td>\n",
       "      <td>2700</td>\n",
       "      <td>2500</td>\n",
       "    </tr>\n",
       "    <tr>\n",
       "      <th>COMMISSION_PCT</th>\n",
       "      <td>-</td>\n",
       "      <td>-</td>\n",
       "      <td>-</td>\n",
       "      <td>-</td>\n",
       "      <td>-</td>\n",
       "      <td>-</td>\n",
       "      <td>-</td>\n",
       "      <td>-</td>\n",
       "      <td>-</td>\n",
       "      <td>-</td>\n",
       "      <td>...</td>\n",
       "      <td>-</td>\n",
       "      <td>-</td>\n",
       "      <td>-</td>\n",
       "      <td>-</td>\n",
       "      <td>-</td>\n",
       "      <td>-</td>\n",
       "      <td>-</td>\n",
       "      <td>-</td>\n",
       "      <td>-</td>\n",
       "      <td>-</td>\n",
       "    </tr>\n",
       "    <tr>\n",
       "      <th>MANAGER_ID</th>\n",
       "      <td>124</td>\n",
       "      <td>124</td>\n",
       "      <td>101</td>\n",
       "      <td>100</td>\n",
       "      <td>201</td>\n",
       "      <td>101</td>\n",
       "      <td>101</td>\n",
       "      <td>101</td>\n",
       "      <td>205</td>\n",
       "      <td>-</td>\n",
       "      <td>...</td>\n",
       "      <td>121</td>\n",
       "      <td>121</td>\n",
       "      <td>122</td>\n",
       "      <td>122</td>\n",
       "      <td>122</td>\n",
       "      <td>122</td>\n",
       "      <td>123</td>\n",
       "      <td>123</td>\n",
       "      <td>123</td>\n",
       "      <td>123</td>\n",
       "    </tr>\n",
       "    <tr>\n",
       "      <th>DEPARTMENT_ID</th>\n",
       "      <td>50</td>\n",
       "      <td>50</td>\n",
       "      <td>10</td>\n",
       "      <td>20</td>\n",
       "      <td>20</td>\n",
       "      <td>40</td>\n",
       "      <td>70</td>\n",
       "      <td>110</td>\n",
       "      <td>110</td>\n",
       "      <td>90</td>\n",
       "      <td>...</td>\n",
       "      <td>50</td>\n",
       "      <td>50</td>\n",
       "      <td>50</td>\n",
       "      <td>50</td>\n",
       "      <td>50</td>\n",
       "      <td>50</td>\n",
       "      <td>50</td>\n",
       "      <td>50</td>\n",
       "      <td>50</td>\n",
       "      <td>50</td>\n",
       "    </tr>\n",
       "  </tbody>\n",
       "</table>\n",
       "<p>11 rows × 50 columns</p>\n",
       "</div>"
      ],
      "text/plain": [
       "                          0             1             2             3   \\\n",
       "EMPLOYEE_ID              198           199           200           201   \n",
       "FIRST_NAME            Donald       Douglas      Jennifer       Michael   \n",
       "LAST_NAME           OConnell         Grant        Whalen     Hartstein   \n",
       "EMAIL               DOCONNEL        DGRANT       JWHALEN      MHARTSTE   \n",
       "PHONE_NUMBER    650.507.9833  650.507.9844  515.123.4444  515.123.5555   \n",
       "HIRE_DATE          21-JUN-07     13-JAN-08     17-SEP-03     17-FEB-04   \n",
       "JOB_ID              SH_CLERK      SH_CLERK       AD_ASST        MK_MAN   \n",
       "SALARY                  2600          2600          4400         13000   \n",
       "COMMISSION_PCT            -             -             -             -    \n",
       "MANAGER_ID               124           124           101           100   \n",
       "DEPARTMENT_ID             50            50            10            20   \n",
       "\n",
       "                          4             5             6             7   \\\n",
       "EMPLOYEE_ID              202           203           204           205   \n",
       "FIRST_NAME               Pat         Susan       Hermann       Shelley   \n",
       "LAST_NAME                Fay        Mavris          Baer       Higgins   \n",
       "EMAIL                   PFAY       SMAVRIS         HBAER      SHIGGINS   \n",
       "PHONE_NUMBER    603.123.6666  515.123.7777  515.123.8888  515.123.8080   \n",
       "HIRE_DATE          17-AUG-05     07-JUN-02     07-JUN-02     07-JUN-02   \n",
       "JOB_ID                MK_REP        HR_REP        PR_REP        AC_MGR   \n",
       "SALARY                  6000          6500         10000         12008   \n",
       "COMMISSION_PCT            -             -             -             -    \n",
       "MANAGER_ID               201           101           101           101   \n",
       "DEPARTMENT_ID             20            40            70           110   \n",
       "\n",
       "                          8             9   ...            40            41  \\\n",
       "EMPLOYEE_ID              206           100  ...           131           132   \n",
       "FIRST_NAME           William        Steven  ...         James            TJ   \n",
       "LAST_NAME              Gietz          King  ...        Marlow         Olson   \n",
       "EMAIL                 WGIETZ         SKING  ...       JAMRLOW       TJOLSON   \n",
       "PHONE_NUMBER    515.123.8181  515.123.4567  ...  650.124.7234  650.124.8234   \n",
       "HIRE_DATE          07-JUN-02     17-JUN-03  ...     16-FEB-05     10-APR-07   \n",
       "JOB_ID            AC_ACCOUNT       AD_PRES  ...      ST_CLERK      ST_CLERK   \n",
       "SALARY                  8300         24000  ...          2500          2100   \n",
       "COMMISSION_PCT            -             -   ...            -             -    \n",
       "MANAGER_ID               205            -   ...           121           121   \n",
       "DEPARTMENT_ID            110            90  ...            50            50   \n",
       "\n",
       "                          42            43            44            45  \\\n",
       "EMPLOYEE_ID              133           134           135           136   \n",
       "FIRST_NAME             Jason       Michael            Ki         Hazel   \n",
       "LAST_NAME             Mallin        Rogers           Gee    Philtanker   \n",
       "EMAIL                JMALLIN       MROGERS          KGEE      HPHILTAN   \n",
       "PHONE_NUMBER    650.127.1934  650.127.1834  650.127.1734  650.127.1634   \n",
       "HIRE_DATE          14-JUN-04     26-AUG-06     12-DEC-07     06-FEB-08   \n",
       "JOB_ID              ST_CLERK      ST_CLERK      ST_CLERK      ST_CLERK   \n",
       "SALARY                  3300          2900          2400          2200   \n",
       "COMMISSION_PCT            -             -             -             -    \n",
       "MANAGER_ID               122           122           122           122   \n",
       "DEPARTMENT_ID             50            50            50            50   \n",
       "\n",
       "                          46            47            48            49  \n",
       "EMPLOYEE_ID              137           138           139           140  \n",
       "FIRST_NAME            Renske       Stephen          John        Joshua  \n",
       "LAST_NAME             Ladwig        Stiles           Seo         Patel  \n",
       "EMAIL                RLADWIG       SSTILES          JSEO        JPATEL  \n",
       "PHONE_NUMBER    650.121.1234  650.121.2034  650.121.2019  650.121.1834  \n",
       "HIRE_DATE          14-JUL-03     26-OCT-05     12-FEB-06     06-APR-06  \n",
       "JOB_ID              ST_CLERK      ST_CLERK      ST_CLERK      ST_CLERK  \n",
       "SALARY                  3600          3200          2700          2500  \n",
       "COMMISSION_PCT            -             -             -             -   \n",
       "MANAGER_ID               123           123           123           123  \n",
       "DEPARTMENT_ID             50            50            50            50  \n",
       "\n",
       "[11 rows x 50 columns]"
      ]
     },
     "execution_count": 16,
     "metadata": {},
     "output_type": "execute_result"
    }
   ],
   "source": [
    "df.T    # Gives Transpose of data  rows get converted to columns and cols to rows"
   ]
  },
  {
   "cell_type": "code",
   "execution_count": 20,
   "metadata": {},
   "outputs": [
    {
     "data": {
      "text/html": [
       "<div>\n",
       "<style scoped>\n",
       "    .dataframe tbody tr th:only-of-type {\n",
       "        vertical-align: middle;\n",
       "    }\n",
       "\n",
       "    .dataframe tbody tr th {\n",
       "        vertical-align: top;\n",
       "    }\n",
       "\n",
       "    .dataframe thead th {\n",
       "        text-align: right;\n",
       "    }\n",
       "</style>\n",
       "<table border=\"1\" class=\"dataframe\">\n",
       "  <thead>\n",
       "    <tr style=\"text-align: right;\">\n",
       "      <th></th>\n",
       "      <th>0</th>\n",
       "      <th>1</th>\n",
       "      <th>2</th>\n",
       "    </tr>\n",
       "  </thead>\n",
       "  <tbody>\n",
       "    <tr>\n",
       "      <th>0</th>\n",
       "      <td>0.575284</td>\n",
       "      <td>0.324349</td>\n",
       "      <td>0.577709</td>\n",
       "    </tr>\n",
       "    <tr>\n",
       "      <th>1</th>\n",
       "      <td>0.869379</td>\n",
       "      <td>0.258355</td>\n",
       "      <td>0.248888</td>\n",
       "    </tr>\n",
       "    <tr>\n",
       "      <th>2</th>\n",
       "      <td>0.055578</td>\n",
       "      <td>0.234352</td>\n",
       "      <td>0.798240</td>\n",
       "    </tr>\n",
       "    <tr>\n",
       "      <th>3</th>\n",
       "      <td>0.748061</td>\n",
       "      <td>0.955845</td>\n",
       "      <td>0.084682</td>\n",
       "    </tr>\n",
       "    <tr>\n",
       "      <th>4</th>\n",
       "      <td>0.172862</td>\n",
       "      <td>0.227385</td>\n",
       "      <td>0.629662</td>\n",
       "    </tr>\n",
       "  </tbody>\n",
       "</table>\n",
       "</div>"
      ],
      "text/plain": [
       "          0         1         2\n",
       "0  0.575284  0.324349  0.577709\n",
       "1  0.869379  0.258355  0.248888\n",
       "2  0.055578  0.234352  0.798240\n",
       "3  0.748061  0.955845  0.084682\n",
       "4  0.172862  0.227385  0.629662"
      ]
     },
     "execution_count": 20,
     "metadata": {},
     "output_type": "execute_result"
    }
   ],
   "source": [
    "# creating a DataFrame and using apply function\n",
    "import numpy as np\n",
    "df1=pd.DataFrame(np.random.rand(5,3))\n",
    "df1"
   ]
  },
  {
   "cell_type": "code",
   "execution_count": null,
   "metadata": {},
   "outputs": [
    {
     "data": {
      "text/plain": [
       "0    0.869379\n",
       "1    0.955845\n",
       "2    0.798240\n",
       "dtype: float64"
      ]
     },
     "execution_count": 21,
     "metadata": {},
     "output_type": "execute_result"
    }
   ],
   "source": [
    "# apply fucntion take argument a function and applies that on top of a DATAFRAME    \n",
    "df1.apply(lambda x:max(x))"
   ]
  },
  {
   "cell_type": "code",
   "execution_count": 22,
   "metadata": {},
   "outputs": [
    {
     "data": {
      "text/plain": [
       "0    0.055578\n",
       "1    0.227385\n",
       "2    0.084682\n",
       "dtype: float64"
      ]
     },
     "execution_count": 22,
     "metadata": {},
     "output_type": "execute_result"
    }
   ],
   "source": [
    "df1.apply(lambda x:min(x))"
   ]
  },
  {
   "cell_type": "code",
   "execution_count": 23,
   "metadata": {},
   "outputs": [
    {
     "data": {
      "text/plain": [
       "0    0.813800\n",
       "1    0.728459\n",
       "2    0.713558\n",
       "dtype: float64"
      ]
     },
     "execution_count": 23,
     "metadata": {},
     "output_type": "execute_result"
    }
   ],
   "source": [
    "df1.apply(lambda x: max(x)-min(x))"
   ]
  },
  {
   "cell_type": "code",
   "execution_count": 25,
   "metadata": {},
   "outputs": [
    {
     "data": {
      "text/plain": [
       "0    0.484233\n",
       "1    0.400057\n",
       "2    0.467836\n",
       "dtype: float64"
      ]
     },
     "execution_count": 25,
     "metadata": {},
     "output_type": "execute_result"
    }
   ],
   "source": [
    "df1.apply(np.mean)"
   ]
  },
  {
   "cell_type": "code",
   "execution_count": 39,
   "metadata": {},
   "outputs": [
    {
     "data": {
      "text/html": [
       "<div>\n",
       "<style scoped>\n",
       "    .dataframe tbody tr th:only-of-type {\n",
       "        vertical-align: middle;\n",
       "    }\n",
       "\n",
       "    .dataframe tbody tr th {\n",
       "        vertical-align: top;\n",
       "    }\n",
       "\n",
       "    .dataframe thead th {\n",
       "        text-align: right;\n",
       "    }\n",
       "</style>\n",
       "<table border=\"1\" class=\"dataframe\">\n",
       "  <thead>\n",
       "    <tr style=\"text-align: right;\">\n",
       "      <th></th>\n",
       "      <th>0</th>\n",
       "      <th>1</th>\n",
       "      <th>2</th>\n",
       "    </tr>\n",
       "  </thead>\n",
       "  <tbody>\n",
       "    <tr>\n",
       "      <th>0</th>\n",
       "      <td>3.575284</td>\n",
       "      <td>0.324349</td>\n",
       "      <td>0.577709</td>\n",
       "    </tr>\n",
       "    <tr>\n",
       "      <th>1</th>\n",
       "      <td>3.869379</td>\n",
       "      <td>0.258355</td>\n",
       "      <td>0.248888</td>\n",
       "    </tr>\n",
       "    <tr>\n",
       "      <th>2</th>\n",
       "      <td>3.055578</td>\n",
       "      <td>0.234352</td>\n",
       "      <td>0.798240</td>\n",
       "    </tr>\n",
       "    <tr>\n",
       "      <th>3</th>\n",
       "      <td>3.748061</td>\n",
       "      <td>0.955845</td>\n",
       "      <td>0.084682</td>\n",
       "    </tr>\n",
       "    <tr>\n",
       "      <th>4</th>\n",
       "      <td>3.172862</td>\n",
       "      <td>0.227385</td>\n",
       "      <td>0.629662</td>\n",
       "    </tr>\n",
       "  </tbody>\n",
       "</table>\n",
       "</div>"
      ],
      "text/plain": [
       "          0         1         2\n",
       "0  3.575284  0.324349  0.577709\n",
       "1  3.869379  0.258355  0.248888\n",
       "2  3.055578  0.234352  0.798240\n",
       "3  3.748061  0.955845  0.084682\n",
       "4  3.172862  0.227385  0.629662"
      ]
     },
     "execution_count": 39,
     "metadata": {},
     "output_type": "execute_result"
    }
   ],
   "source": [
    "df1[0].apply(lambda x: x+3)\n",
    "df1"
   ]
  },
  {
   "cell_type": "code",
   "execution_count": 47,
   "metadata": {},
   "outputs": [
    {
     "data": {
      "text/plain": [
       "0    357.528372\n",
       "1    386.937878\n",
       "2    305.557850\n",
       "3    374.806139\n",
       "4    317.286219\n",
       "Name: 0, dtype: float64"
      ]
     },
     "execution_count": 47,
     "metadata": {},
     "output_type": "execute_result"
    }
   ],
   "source": [
    "df=df1[0].map(lambda x:x*100)\n",
    "df"
   ]
  },
  {
   "cell_type": "code",
   "execution_count": null,
   "metadata": {},
   "outputs": [],
   "source": []
  }
 ],
 "metadata": {
  "kernelspec": {
   "display_name": "base",
   "language": "python",
   "name": "python3"
  },
  "language_info": {
   "codemirror_mode": {
    "name": "ipython",
    "version": 3
   },
   "file_extension": ".py",
   "mimetype": "text/x-python",
   "name": "python",
   "nbconvert_exporter": "python",
   "pygments_lexer": "ipython3",
   "version": "3.12.7"
  }
 },
 "nbformat": 4,
 "nbformat_minor": 2
}
