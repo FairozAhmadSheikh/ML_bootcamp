{
 "cells": [
  {
   "cell_type": "markdown",
   "metadata": {},
   "source": [
    "A school claims that the students studing in their school have more  IQ than the  students of other school, a team went and took a sample of 50 students from the population of 100 students and found average IQ for  the sample was 110, The Total Population had a Standard Deviation of 15  , consider confidence level as 95%?"
   ]
  },
  {
   "cell_type": "markdown",
   "metadata": {},
   "source": [
    "Suedocode:\n",
    "confidence_level=95%\n",
    "significance=5% ==0.05%\n",
    "if p<=0.05 reject null hypothesis else accept\n",
    "null_hypothesis=100=mean(mew)\n",
    "alternate_hypothesis =mean(mew)>100\n",
    "\n",
    "\n",
    "z-score=sample mean - population mean / standard deviation /square root (sample size)  = 110-100/15/underroot(50)\n",
    "z-score=4.7"
   ]
  },
  {
   "cell_type": "code",
   "execution_count": 3,
   "metadata": {},
   "outputs": [],
   "source": [
    "import math \n",
    "import numpy as np\n",
    "from statsmodels.stats.weightstats import ztest"
   ]
  },
  {
   "cell_type": "code",
   "execution_count": 4,
   "metadata": {},
   "outputs": [],
   "source": [
    "mean_iq=110\n",
    "sd_id=15/math.sqrt(50)\n",
    "alpha=0.05\n",
    "null_hypothesis=100"
   ]
  },
  {
   "cell_type": "code",
   "execution_count": null,
   "metadata": {},
   "outputs": [
    {
     "data": {
      "text/plain": [
       "array([109.89307054, 109.84678217, 109.76119986, 111.07836344,\n",
       "       109.24661311, 109.65620207, 110.53421085, 109.91157464,\n",
       "       110.50104863, 109.02998476, 110.05013642, 108.68614313,\n",
       "       111.41164868, 111.53248491, 109.91242666, 109.64339657,\n",
       "       110.68806663, 110.65021   , 110.2346067 , 109.68609141,\n",
       "       110.13020102, 111.34872841, 110.2266208 , 108.6557832 ,\n",
       "       110.26361208, 110.97627984, 110.90228151, 110.12975293,\n",
       "       110.19158209, 111.06565036, 111.9848771 , 110.10694261,\n",
       "       110.61852685, 109.05635919, 109.77835439, 111.31320854,\n",
       "       109.49060089, 109.61190166, 112.17933257, 109.71027647,\n",
       "       112.09229652, 110.54588302, 108.65421587, 110.32530661,\n",
       "       109.75871536, 110.24481535, 109.27240233, 111.25430203,\n",
       "       108.59315233, 109.70054263])"
      ]
     },
     "execution_count": 6,
     "metadata": {},
     "output_type": "execute_result"
    }
   ],
   "source": [
    "data=(np.random.randn(50)+mean_iq)  "
   ]
  }
 ],
 "metadata": {
  "kernelspec": {
   "display_name": "Python 3",
   "language": "python",
   "name": "python3"
  },
  "language_info": {
   "codemirror_mode": {
    "name": "ipython",
    "version": 3
   },
   "file_extension": ".py",
   "mimetype": "text/x-python",
   "name": "python",
   "nbconvert_exporter": "python",
   "pygments_lexer": "ipython3",
   "version": "3.13.1"
  }
 },
 "nbformat": 4,
 "nbformat_minor": 2
}
