{
 "cells": [
  {
   "cell_type": "markdown",
   "metadata": {},
   "source": [
    "A school claims that the students studing in their school have more  IQ than the  students of other school, a team went and took a sample of 50 students from the population of 100 students and found average IQ for  the sample was 110, The Total Population had a Standard Deviation of 15  , consider confidence level as 95%?"
   ]
  },
  {
   "cell_type": "markdown",
   "metadata": {},
   "source": [
    "Suedocode:\n",
    "confidence_level=95%\n",
    "significance=5% ==0.05%\n",
    "if p<=0.05 reject null hypothesis else accept\n",
    "null_hypothesis=100=mean(mew)\n",
    "alternate_hypothesis =mean(mew)>100\n",
    "\n",
    "\n",
    "z-score=sample mean - population mean / standard deviation /square root (sample size)  = 110-100/15/underroot(50)\n",
    "z-score=4.7"
   ]
  },
  {
   "cell_type": "code",
   "execution_count": 3,
   "metadata": {},
   "outputs": [],
   "source": [
    "import math \n",
    "import numpy as np\n",
    "from statsmodels.stats.weightstats import ztest"
   ]
  },
  {
   "cell_type": "code",
   "execution_count": 4,
   "metadata": {},
   "outputs": [],
   "source": [
    "mean_iq=110\n",
    "sd_id=15/math.sqrt(50)\n",
    "alpha=0.05\n",
    "null_hypothesis=100"
   ]
  },
  {
   "cell_type": "code",
   "execution_count": null,
   "metadata": {},
   "outputs": [
    {
     "data": {
      "text/plain": [
       "array([109.89307054, 109.84678217, 109.76119986, 111.07836344,\n",
       "       109.24661311, 109.65620207, 110.53421085, 109.91157464,\n",
       "       110.50104863, 109.02998476, 110.05013642, 108.68614313,\n",
       "       111.41164868, 111.53248491, 109.91242666, 109.64339657,\n",
       "       110.68806663, 110.65021   , 110.2346067 , 109.68609141,\n",
       "       110.13020102, 111.34872841, 110.2266208 , 108.6557832 ,\n",
       "       110.26361208, 110.97627984, 110.90228151, 110.12975293,\n",
       "       110.19158209, 111.06565036, 111.9848771 , 110.10694261,\n",
       "       110.61852685, 109.05635919, 109.77835439, 111.31320854,\n",
       "       109.49060089, 109.61190166, 112.17933257, 109.71027647,\n",
       "       112.09229652, 110.54588302, 108.65421587, 110.32530661,\n",
       "       109.75871536, 110.24481535, 109.27240233, 111.25430203,\n",
       "       108.59315233, 109.70054263])"
      ]
     },
     "execution_count": 6,
     "metadata": {},
     "output_type": "execute_result"
    }
   ],
   "source": [
    "data=(np.random.randn(50)+mean_iq)  "
   ]
  },
  {
   "cell_type": "code",
   "execution_count": 7,
   "metadata": {},
   "outputs": [
    {
     "data": {
      "text/plain": [
       "(np.float64(81.42220267819701), np.float64(0.0))"
      ]
     },
     "execution_count": 7,
     "metadata": {},
     "output_type": "execute_result"
    }
   ],
   "source": [
    "ztest(data,value=null_hypothesis,alternative='larger')"
   ]
  },
  {
   "cell_type": "code",
   "execution_count": 8,
   "metadata": {},
   "outputs": [
    {
     "name": "stdout",
     "output_type": "stream",
     "text": [
      "Reject null hypotheisi\n"
     ]
    }
   ],
   "source": [
    "pvalue=0.0\n",
    "if pvalue<=0.05:\n",
    "    print(\"Reject null hypotheisi\")\n",
    "else:\n",
    "    print(\"accept null hypothesis\")"
   ]
  },
  {
   "cell_type": "markdown",
   "metadata": {},
   "source": [
    "T-TEST"
   ]
  },
  {
   "cell_type": "markdown",
   "metadata": {},
   "source": [
    "One sample ttest( with respect to one independent sample),\n",
    "two sample ttest( with respect to two independent sample),\n",
    "paired ttest( two samples from the same pouplation on different time interval)"
   ]
  },
  {
   "cell_type": "markdown",
   "metadata": {},
   "source": [
    "One sample T-Test"
   ]
  },
  {
   "cell_type": "code",
   "execution_count": 9,
   "metadata": {},
   "outputs": [],
   "source": [
    "my_total_innings_in_cricket=np.random.randint(10,60,50)\n",
    "my_cricket_score_in_20_innings=np.random.choice(my_total_innings_in_cricket,20)\n",
    "null_hypothesis=np.mean(my_cricket_score_in_20_innings)"
   ]
  },
  {
   "cell_type": "code",
   "execution_count": 10,
   "metadata": {},
   "outputs": [
    {
     "data": {
      "text/plain": [
       "TtestResult(statistic=np.float64(0.0), pvalue=np.float64(1.0), df=np.int64(19))"
      ]
     },
     "execution_count": 10,
     "metadata": {},
     "output_type": "execute_result"
    }
   ],
   "source": [
    "from scipy import stats\n",
    "stats.ttest_1samp(my_cricket_score_in_20_innings,null_hypothesis)"
   ]
  },
  {
   "cell_type": "code",
   "execution_count": 11,
   "metadata": {},
   "outputs": [
    {
     "name": "stdout",
     "output_type": "stream",
     "text": [
      "accept null hypothesis\n"
     ]
    }
   ],
   "source": [
    "pvalue=1.0\n",
    "if pvalue<=0.05:\n",
    "    print(\"Reject null hypotheisi\")\n",
    "else:\n",
    "    print(\"accept null hypothesis\")"
   ]
  },
  {
   "cell_type": "markdown",
   "metadata": {},
   "source": [
    "Ttest Two Sample"
   ]
  },
  {
   "cell_type": "code",
   "execution_count": 13,
   "metadata": {},
   "outputs": [
    {
     "data": {
      "text/plain": [
       "TtestResult(statistic=np.float64(-4.994285178943364), pvalue=np.float64(1.3515513701956409e-05), df=np.float64(38.0))"
      ]
     },
     "execution_count": 13,
     "metadata": {},
     "output_type": "execute_result"
    }
   ],
   "source": [
    "my_total_inn_score=np.random.randint(10,60,50)\n",
    "virat_total_inn_score=np.random.randint(30,90,50)\n",
    "\n",
    "my_20_inn_score=np.random.choice(my_total_inn_score,20)\n",
    "virat_20_inn_score=np.random.choice(virat_total_inn_score,20)\n",
    "\n",
    "from scipy import stats\n",
    "stats.ttest_ind(my_20_inn_score,virat_20_inn_score)"
   ]
  },
  {
   "cell_type": "markdown",
   "metadata": {},
   "source": [
    "Pired T test means single popultaion and selct two samples from the single poplulation"
   ]
  },
  {
   "cell_type": "code",
   "execution_count": 15,
   "metadata": {},
   "outputs": [
    {
     "data": {
      "text/plain": [
       "TtestResult(statistic=np.float64(-0.6384579766442474), pvalue=np.float64(0.5292216059167946), df=np.int64(24))"
      ]
     },
     "execution_count": 15,
     "metadata": {},
     "output_type": "execute_result"
    }
   ],
   "source": [
    "my_total_innings_in_cricket=np.random.randint(10,60,50)\n",
    "sample1=np.random.choice(my_total_innings_in_cricket,25)\n",
    "sample2=np.random.choice(my_total_innings_in_cricket,25)\n",
    "mean_s1=np.mean(sample1)\n",
    "mean_s2=np.mean(sample2)\n",
    "\n",
    "from scipy import stats\n",
    "stats.ttest_rel(sample1,sample2)\n"
   ]
  },
  {
   "cell_type": "code",
   "execution_count": 16,
   "metadata": {},
   "outputs": [
    {
     "name": "stdout",
     "output_type": "stream",
     "text": [
      "accept null hypothesis\n"
     ]
    }
   ],
   "source": [
    "pvalue=0.52\n",
    "if pvalue<=0.05:\n",
    "    print(\"reject null hypotheis as mean of two is not equal and p value is proof\")\n",
    "else :\n",
    "    print(\"accept null hypothesis\")"
   ]
  }
 ],
 "metadata": {
  "kernelspec": {
   "display_name": "Python 3",
   "language": "python",
   "name": "python3"
  },
  "language_info": {
   "codemirror_mode": {
    "name": "ipython",
    "version": 3
   },
   "file_extension": ".py",
   "mimetype": "text/x-python",
   "name": "python",
   "nbconvert_exporter": "python",
   "pygments_lexer": "ipython3",
   "version": "3.13.1"
  }
 },
 "nbformat": 4,
 "nbformat_minor": 2
}
