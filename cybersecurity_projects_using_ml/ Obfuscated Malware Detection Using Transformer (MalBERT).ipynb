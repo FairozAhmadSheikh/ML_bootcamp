{
 "cells": [
  {
   "cell_type": "markdown",
   "id": "4ba37346",
   "metadata": {},
   "source": [
    "pip install transformers datasets scikit-learn"
   ]
  }
 ],
 "metadata": {
  "language_info": {
   "name": "python"
  }
 },
 "nbformat": 4,
 "nbformat_minor": 5
}
