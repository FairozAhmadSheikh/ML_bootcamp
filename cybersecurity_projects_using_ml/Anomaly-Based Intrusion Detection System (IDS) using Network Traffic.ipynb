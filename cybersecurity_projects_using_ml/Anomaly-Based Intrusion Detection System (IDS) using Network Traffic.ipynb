{
 "cells": [
  {
   "cell_type": "code",
   "execution_count": null,
   "id": "e9cc110c",
   "metadata": {
    "vscode": {
     "languageId": "plaintext"
    }
   },
   "outputs": [],
   "source": [
    "import pandas as pd\n",
    "import numpy as np\n",
    "from sklearn.ensemble import IsolationForest\n",
    "from sklearn.preprocessing import LabelEncoder, MinMaxScaler\n",
    "from sklearn.metrics import classification_report, confusion_matrix\n",
    "from sklearn.model_selection import train_test_split\n",
    "import seaborn as sns\n",
    "import matplotlib.pyplot as plt\n",
    "import joblib\n",
    "import os"
   ]
  },
  {
   "cell_type": "code",
   "execution_count": null,
   "id": "8d831a2a",
   "metadata": {
    "vscode": {
     "languageId": "plaintext"
    }
   },
   "outputs": [],
   "source": [
    "def load_dataset(path=\"nsl_kdd_sample.csv\"):\n",
    "    if not os.path.exists(path):\n",
    "        print(\"Dataset not found. Creating synthetic NSL-KDD-like data...\")\n",
    "\n",
    "        data = {\n",
    "            \"duration\": np.random.randint(0, 100, 1000),\n",
    "            \"protocol_type\": np.random.choice([\"tcp\", \"udp\", \"icmp\"], 1000),\n",
    "            \"service\": np.random.choice([\"http\", \"ftp\", \"smtp\", \"dns\"], 1000),\n",
    "            \"flag\": np.random.choice([\"SF\", \"REJ\", \"S0\"], 1000),\n",
    "            \"src_bytes\": np.random.randint(0, 5000, 1000),\n",
    "            \"dst_bytes\": np.random.randint(0, 10000, 1000),\n",
    "            \"land\": np.random.randint(0, 2, 1000),\n",
    "            \"wrong_fragment\": np.random.randint(0, 3, 1000),\n",
    "            \"urgent\": np.random.randint(0, 2, 1000),\n",
    "            \"label\": np.random.choice([\"normal\", \"dos\", \"probe\", \"r2l\", \"u2r\"], 1000)\n",
    "        }\n",
    "\n",
    "        df = pd.DataFrame(data)\n",
    "        df.to_csv(path, index=False)\n",
    "    else:\n",
    "        df = pd.read_csv(path)\n",
    "\n",
    "    print(f\"Dataset loaded: {df.shape}\")\n",
    "    return df"
   ]
  }
 ],
 "metadata": {
  "language_info": {
   "name": "python"
  }
 },
 "nbformat": 4,
 "nbformat_minor": 5
}
