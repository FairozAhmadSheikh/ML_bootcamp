{
 "cells": [
  {
   "cell_type": "code",
   "execution_count": null,
   "id": "e9cc110c",
   "metadata": {
    "vscode": {
     "languageId": "plaintext"
    }
   },
   "outputs": [],
   "source": [
    "import pandas as pd\n",
    "import numpy as np\n",
    "from sklearn.ensemble import IsolationForest\n",
    "from sklearn.preprocessing import LabelEncoder, MinMaxScaler\n",
    "from sklearn.metrics import classification_report, confusion_matrix\n",
    "from sklearn.model_selection import train_test_split\n",
    "import seaborn as sns\n",
    "import matplotlib.pyplot as plt\n",
    "import joblib\n",
    "import os"
   ]
  },
  {
   "cell_type": "code",
   "execution_count": null,
   "id": "8d831a2a",
   "metadata": {
    "vscode": {
     "languageId": "plaintext"
    }
   },
   "outputs": [],
   "source": [
    "def load_dataset(path=\"nsl_kdd_sample.csv\"):\n",
    "    if not os.path.exists(path):\n",
    "        print(\"Dataset not found. Creating synthetic NSL-KDD-like data...\")\n",
    "\n",
    "        data = {\n",
    "            \"duration\": np.random.randint(0, 100, 1000),\n",
    "            \"protocol_type\": np.random.choice([\"tcp\", \"udp\", \"icmp\"], 1000),\n",
    "            \"service\": np.random.choice([\"http\", \"ftp\", \"smtp\", \"dns\"], 1000),\n",
    "            \"flag\": np.random.choice([\"SF\", \"REJ\", \"S0\"], 1000),\n",
    "            \"src_bytes\": np.random.randint(0, 5000, 1000),\n",
    "            \"dst_bytes\": np.random.randint(0, 10000, 1000),\n",
    "            \"land\": np.random.randint(0, 2, 1000),\n",
    "            \"wrong_fragment\": np.random.randint(0, 3, 1000),\n",
    "            \"urgent\": np.random.randint(0, 2, 1000),\n",
    "            \"label\": np.random.choice([\"normal\", \"dos\", \"probe\", \"r2l\", \"u2r\"], 1000)\n",
    "        }\n",
    "\n",
    "        df = pd.DataFrame(data)\n",
    "        df.to_csv(path, index=False)\n",
    "    else:\n",
    "        df = pd.read_csv(path)\n",
    "\n",
    "    print(f\"Dataset loaded: {df.shape}\")\n",
    "    return df"
   ]
  },
  {
   "cell_type": "code",
   "execution_count": null,
   "id": "053f32d4",
   "metadata": {
    "vscode": {
     "languageId": "plaintext"
    }
   },
   "outputs": [],
   "source": [
    "def preprocess(df):\n",
    "    label_map = {\n",
    "        \"normal\": 0,\n",
    "        \"dos\": 1,\n",
    "        \"probe\": 1,\n",
    "        \"r2l\": 1,\n",
    "        \"u2r\": 1\n",
    "    }\n",
    "\n",
    "    df[\"label\"] = df[\"label\"].map(label_map)\n",
    "\n",
    "    cat_features = [\"protocol_type\", \"service\", \"flag\"]\n",
    "    for col in cat_features:\n",
    "        df[col] = LabelEncoder().fit_transform(df[col])\n",
    "\n",
    "    X = df.drop(\"label\", axis=1)\n",
    "    y = df[\"label\"]\n",
    "\n",
    "    scaler = MinMaxScaler()\n",
    "    X_scaled = scaler.fit_transform(X)\n",
    "\n",
    "    return X_scaled, y, scaler"
   ]
  },
  {
   "cell_type": "code",
   "execution_count": null,
   "id": "8df86472",
   "metadata": {
    "vscode": {
     "languageId": "plaintext"
    }
   },
   "outputs": [],
   "source": [
    "def train_model(X):\n",
    "    model = IsolationForest(contamination=0.2, random_state=42)\n",
    "    model.fit(X)\n",
    "    return model"
   ]
  },
  {
   "cell_type": "code",
   "execution_count": null,
   "id": "b0927add",
   "metadata": {
    "vscode": {
     "languageId": "plaintext"
    }
   },
   "outputs": [],
   "source": [
    "def evaluate(model, X, y):\n",
    "    y_pred = model.predict(X)\n",
    "    y_pred = [0 if p == 1 else 1 for p in y_pred]  # Invert prediction logic\n",
    "\n",
    "    print(\"\\nClassification Report:\\n\", classification_report(y, y_pred))\n",
    "    sns.heatmap(confusion_matrix(y, y_pred), annot=True, fmt=\"d\", cmap=\"Blues\")\n",
    "    plt.title(\"Confusion Matrix\")\n",
    "    plt.xlabel(\"Predicted\")\n",
    "    plt.ylabel(\"Actual\")\n",
    "    plt.show()"
   ]
  },
  {
   "cell_type": "code",
   "execution_count": null,
   "id": "b5b953ee",
   "metadata": {
    "vscode": {
     "languageId": "plaintext"
    }
   },
   "outputs": [],
   "source": [
    "def save(model, scaler):\n",
    "    os.makedirs(\"models\", exist_ok=True)\n",
    "    joblib.dump(model, \"models/ids_model.pkl\")\n",
    "    joblib.dump(scaler, \"models/ids_scaler.pkl\")\n",
    "    print(\"Model and scaler saved.\")\n"
   ]
  }
 ],
 "metadata": {
  "language_info": {
   "name": "python"
  }
 },
 "nbformat": 4,
 "nbformat_minor": 5
}
