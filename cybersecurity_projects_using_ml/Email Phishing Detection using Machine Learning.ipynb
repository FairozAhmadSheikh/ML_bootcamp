{
 "cells": [
  {
   "cell_type": "code",
   "execution_count": null,
   "id": "d0079a17",
   "metadata": {
    "vscode": {
     "languageId": "plaintext"
    }
   },
   "outputs": [],
   "source": [
    "import pandas as pd\n",
    "import numpy as np\n",
    "from sklearn.model_selection import train_test_split\n",
    "from sklearn.linear_model import LogisticRegression\n",
    "from sklearn.preprocessing import StandardScaler\n",
    "from sklearn.feature_extraction.text import TfidfVectorizer\n",
    "from sklearn.metrics import classification_report, confusion_matrix\n",
    "import seaborn as sns\n",
    "import matplotlib.pyplot as plt\n",
    "import joblib\n",
    "import os"
   ]
  },
  {
   "cell_type": "code",
   "execution_count": null,
   "id": "b4a1b266",
   "metadata": {
    "vscode": {
     "languageId": "plaintext"
    }
   },
   "outputs": [],
   "source": [
    "\n",
    "\n",
    "\n",
    "def load_dataset(path=\"phishing_emails.csv\"):\n",
    "    if not os.path.exists(path):\n",
    "        print(\"Dataset not found. Creating simulated email dataset...\")\n",
    "\n",
    "        texts = [\n",
    "            \"Click here to reset your password urgently!\",\n",
    "            \"Please verify your account login now.\",\n",
    "            \"You've won a prize. Provide your bank details.\",\n",
    "            \"Your invoice is attached. Thank you for your business.\",\n",
    "            \"Join our webinar today and learn more.\",\n",
    "            \"Limited time offer. Update your card now.\",\n",
    "            \"Monthly performance report attached.\",\n",
    "            \"Team meeting rescheduled to 3 PM.\"\n",
    "        ]\n",
    "\n",
    "        labels = [1, 1, 1, 0, 0, 1, 0, 0]  # 1 = phishing, 0 = safe\n",
    "\n",
    "        df = pd.DataFrame({\n",
    "            \"email_text\": np.random.choice(texts, 1000),\n",
    "            \"has_link\": np.random.randint(0, 2, 1000),\n",
    "            \"has_attachment\": np.random.randint(0, 2, 1000),\n",
    "            \"sender_reputation\": np.random.uniform(0, 1, 1000),\n",
    "            \"is_phishing\": np.random.randint(0, 2, 1000)\n",
    "        })\n",
    "\n",
    "        df.to_csv(path, index=False)\n",
    "    else:\n",
    "        df = pd.read_csv(path)\n",
    "\n",
    "    print(f\"Loaded dataset with shape: {df.shape}\")\n",
    "    return df\n",
    "\n",
    "\n",
    "def preprocess(df):\n",
    "    tfidf = TfidfVectorizer(max_features=100)\n",
    "    X_text = tfidf.fit_transform(df[\"email_text\"]).toarray()\n",
    "\n",
    "    X_meta = df[[\"has_link\", \"has_attachment\", \"sender_reputation\"]].values\n",
    "    X_combined = np.concatenate((X_text, X_meta), axis=1)\n",
    "\n",
    "    y = df[\"is_phishing\"]\n",
    "    scaler = StandardScaler()\n",
    "    X_scaled = scaler.fit_transform(X_combined)\n",
    "\n",
    "    return X_scaled, y, scaler, tfidf\n"
   ]
  }
 ],
 "metadata": {
  "language_info": {
   "name": "python"
  }
 },
 "nbformat": 4,
 "nbformat_minor": 5
}
