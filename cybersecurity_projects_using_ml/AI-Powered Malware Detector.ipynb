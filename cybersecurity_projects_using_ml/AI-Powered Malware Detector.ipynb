{
 "cells": [
  {
   "cell_type": "code",
   "execution_count": null,
   "id": "889f73ba",
   "metadata": {
    "vscode": {
     "languageId": "plaintext"
    }
   },
   "outputs": [],
   "source": [
    "import pandas as pd\n",
    "import numpy as np\n",
    "import os\n",
    "from sklearn.model_selection import train_test_split\n",
    "from sklearn.ensemble import RandomForestClassifier\n",
    "from sklearn.metrics import classification_report, confusion_matrix\n",
    "from sklearn.preprocessing import StandardScaler\n",
    "import joblib\n",
    "import seaborn as sns\n",
    "import matplotlib.pyplot as plt"
   ]
  },
  {
   "cell_type": "code",
   "execution_count": null,
   "id": "663a89a2",
   "metadata": {
    "vscode": {
     "languageId": "plaintext"
    }
   },
   "outputs": [],
   "source": [
    "def load_dataset(path=\"malware_dataset.csv\"):\n",
    "    if not os.path.exists(path):\n",
    "        # Generate mock data\n",
    "        print(\"Dataset not found, generating mock dataset...\")\n",
    "        data = {\n",
    "            'file_size': np.random.randint(10000, 500000, 1000),\n",
    "            'entropy': np.random.uniform(2.0, 8.0, 1000),\n",
    "            'has_net_import': np.random.randint(0, 2, 1000),\n",
    "            'suspicious_sections': np.random.randint(0, 5, 1000),\n",
    "            'label': np.random.randint(0, 2, 1000)  # 0 = Benign, 1 = Malware\n",
    "        }\n",
    "        df = pd.DataFrame(data)\n",
    "        df.to_csv(path, index=False)\n",
    "    else:\n",
    "        df = pd.read_csv(path)\n",
    "\n",
    "    print(f\"Dataset shape: {df.shape}\")\n",
    "    return df"
   ]
  },
  {
   "cell_type": "code",
   "execution_count": null,
   "id": "84999da8",
   "metadata": {
    "vscode": {
     "languageId": "plaintext"
    }
   },
   "outputs": [],
   "source": [
    "def preprocess(df):\n",
    "    X = df.drop('label', axis=1)\n",
    "    y = df['label']\n",
    "    \n",
    "    scaler = StandardScaler()\n",
    "    X_scaled = scaler.fit_transform(X)\n",
    "    \n",
    "    return X_scaled, y, scaler\n"
   ]
  },
  {
   "cell_type": "code",
   "execution_count": null,
   "id": "8abf698c",
   "metadata": {
    "vscode": {
     "languageId": "plaintext"
    }
   },
   "outputs": [],
   "source": [
    "def train_model(X_train, y_train):\n",
    "    model = RandomForestClassifier(n_estimators=100, random_state=42)\n",
    "    model.fit(X_train, y_train)\n",
    "    return model"
   ]
  }
 ],
 "metadata": {
  "language_info": {
   "name": "python"
  }
 },
 "nbformat": 4,
 "nbformat_minor": 5
}
