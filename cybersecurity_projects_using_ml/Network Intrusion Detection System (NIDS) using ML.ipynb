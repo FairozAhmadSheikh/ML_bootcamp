{
 "cells": [
  {
   "cell_type": "code",
   "execution_count": null,
   "id": "66b07326",
   "metadata": {
    "vscode": {
     "languageId": "plaintext"
    }
   },
   "outputs": [],
   "source": [
    "import pandas as pd\n",
    "import numpy as np\n",
    "from sklearn.model_selection import train_test_split\n",
    "from sklearn.ensemble import GradientBoostingClassifier\n",
    "from sklearn.metrics import classification_report, confusion_matrix\n",
    "from sklearn.preprocessing import StandardScaler\n",
    "import seaborn as sns\n",
    "import matplotlib.pyplot as plt\n",
    "import joblib\n",
    "import os\n",
    "\n",
    "\n",
    "#  Simulate or Load Network Dataset\n",
    "\n",
    "def load_dataset(path=\"nids_dataset.csv\"):\n",
    "    if not os.path.exists(path):\n",
    "        print(\"Dataset not found. Generating mock NIDS data...\")\n",
    "\n",
    "        data = {\n",
    "            \"duration\": np.random.randint(0, 5000, 1000),\n",
    "            \"src_bytes\": np.random.randint(0, 50000, 1000),\n",
    "            \"dst_bytes\": np.random.randint(0, 30000, 1000),\n",
    "            \"wrong_fragment\": np.random.randint(0, 3, 1000),\n",
    "            \"urgent\": np.random.randint(0, 2, 1000),\n",
    "            \"count\": np.random.randint(1, 100, 1000),\n",
    "            \"srv_count\": np.random.randint(1, 100, 1000),\n",
    "            \"label\": np.random.randint(0, 2, 1000)  # 0 = Normal, 1 = Attack\n",
    "        }\n",
    "\n",
    "        df = pd.DataFrame(data)\n",
    "        df.to_csv(path, index=False)\n",
    "    else:\n",
    "        df = pd.read_csv(path)\n",
    "\n",
    "    print(f\"Loaded dataset with shape: {df.shape}\")\n",
    "    return df\n",
    "\n",
    "\n",
    "#Preprocess Features\n",
    "\n",
    "def preprocess(df):\n",
    "    X = df.drop(\"label\", axis=1)\n",
    "    y = df[\"label\"]\n",
    "    scaler = StandardScaler()\n",
    "    X_scaled = scaler.fit_transform(X)\n",
    "    return X_scaled, y, scaler\n"
   ]
  },
  {
   "cell_type": "code",
   "execution_count": null,
   "id": "75bc726f",
   "metadata": {
    "vscode": {
     "languageId": "plaintext"
    }
   },
   "outputs": [],
   "source": [
    "\n",
    "#  Train the ML Model\n",
    "\n",
    "def train_model(X_train, y_train):\n",
    "    model = GradientBoostingClassifier(n_estimators=100)\n",
    "    model.fit(X_train, y_train)\n",
    "    return model\n",
    "\n",
    "\n",
    "#  Evaluate Performance\n",
    "\n",
    "def evaluate(model, X_test, y_test):\n",
    "    y_pred = model.predict(X_test)\n",
    "    print(\"\\nClassification Report:\\n\", classification_report(y_test, y_pred))\n",
    "    cm = confusion_matrix(y_test, y_pred)\n",
    "    sns.heatmap(cm, annot=True, fmt='d', cmap=\"YlGnBu\")\n",
    "    plt.xlabel(\"Predicted\")\n",
    "    plt.ylabel(\"Actual\")\n",
    "    plt.title(\"Confusion Matrix\")\n",
    "    plt.show()"
   ]
  }
 ],
 "metadata": {
  "language_info": {
   "name": "python"
  }
 },
 "nbformat": 4,
 "nbformat_minor": 5
}
