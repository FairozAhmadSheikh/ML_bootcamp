{
 "cells": [
  {
   "cell_type": "code",
   "execution_count": null,
   "id": "0e547d35",
   "metadata": {
    "vscode": {
     "languageId": "plaintext"
    }
   },
   "outputs": [],
   "source": [
    "import pandas as pd\n",
    "import numpy as np\n",
    "from sklearn.model_selection import train_test_split\n",
    "from sklearn.tree import DecisionTreeClassifier\n",
    "from sklearn.preprocessing import StandardScaler\n",
    "from sklearn.metrics import classification_report, confusion_matrix\n",
    "import seaborn as sns\n",
    "import matplotlib.pyplot as plt\n",
    "import joblib\n",
    "import os"
   ]
  },
  {
   "cell_type": "code",
   "execution_count": null,
   "id": "88ba67a5",
   "metadata": {
    "vscode": {
     "languageId": "plaintext"
    }
   },
   "outputs": [],
   "source": [
    "\n",
    "# 1. Simulate or Load APK Dataset\n",
    "\n",
    "def load_dataset(path=\"android_apk_dataset.csv\"):\n",
    "    if not os.path.exists(path):\n",
    "        print(\"Dataset not found. Generating synthetic APK data...\")\n",
    "\n",
    "        data = {\n",
    "            \"permissions_count\": np.random.randint(5, 100, 1000),\n",
    "            \"uses_location\": np.random.randint(0, 2, 1000),\n",
    "            \"uses_sms\": np.random.randint(0, 2, 1000),\n",
    "            \"uses_camera\": np.random.randint(0, 2, 1000),\n",
    "            \"uses_contacts\": np.random.randint(0, 2, 1000),\n",
    "            \"apk_size_kb\": np.random.randint(100, 50000, 1000),\n",
    "            \"is_malicious\": np.random.randint(0, 2, 1000)\n",
    "        }\n",
    "\n",
    "        df = pd.DataFrame(data)\n",
    "        df.to_csv(path, index=False)\n",
    "    else:\n",
    "        df = pd.read_csv(path)\n",
    "\n",
    "    print(f\"Loaded dataset with shape: {df.shape}\")\n",
    "    return df"
   ]
  },
  {
   "cell_type": "code",
   "execution_count": null,
   "id": "c23184c8",
   "metadata": {
    "vscode": {
     "languageId": "plaintext"
    }
   },
   "outputs": [],
   "source": [
    "def preprocess(df):\n",
    "    X = df.drop(\"is_malicious\", axis=1)\n",
    "    y = df[\"is_malicious\"]\n",
    "    scaler = StandardScaler()\n",
    "    X_scaled = scaler.fit_transform(X)\n",
    "    return X_scaled, y, scaler"
   ]
  },
  {
   "cell_type": "code",
   "execution_count": null,
   "id": "df974ed1",
   "metadata": {
    "vscode": {
     "languageId": "plaintext"
    }
   },
   "outputs": [],
   "source": [
    "\n",
    "# 3. Train the Model\n",
    "\n",
    "def train_model(X_train, y_train):\n",
    "    model = DecisionTreeClassifier(max_depth=10)\n",
    "    model.fit(X_train, y_train)\n",
    "    return model"
   ]
  }
 ],
 "metadata": {
  "language_info": {
   "name": "python"
  }
 },
 "nbformat": 4,
 "nbformat_minor": 5
}
