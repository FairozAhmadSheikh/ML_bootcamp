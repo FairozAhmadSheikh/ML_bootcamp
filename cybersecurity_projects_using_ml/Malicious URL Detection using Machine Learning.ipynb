{
 "cells": [
  {
   "cell_type": "code",
   "execution_count": null,
   "id": "3d847dc6",
   "metadata": {
    "vscode": {
     "languageId": "plaintext"
    }
   },
   "outputs": [],
   "source": [
    "import pandas as pd\n",
    "import numpy as np\n",
    "import re\n",
    "import joblib\n",
    "import os\n",
    "from sklearn.ensemble import GradientBoostingClassifier\n",
    "from sklearn.model_selection import train_test_split\n",
    "from sklearn.metrics import classification_report, confusion_matrix\n",
    "from sklearn.preprocessing import StandardScaler\n",
    "import seaborn as sns\n",
    "import matplotlib.pyplot as plt"
   ]
  },
  {
   "cell_type": "code",
   "execution_count": null,
   "id": "a65d6b85",
   "metadata": {
    "vscode": {
     "languageId": "plaintext"
    }
   },
   "outputs": [],
   "source": [
    "def extract_features(url):\n",
    "    features = {\n",
    "        \"url_length\": len(url),\n",
    "        \"has_ip\": 1 if re.search(r'http[s]?://\\d+\\.\\d+\\.\\d+\\.\\d+', url) else 0,\n",
    "        \"count_dots\": url.count('.'),\n",
    "        \"count_hyphens\": url.count('-'),\n",
    "        \"count_at\": url.count('@'),\n",
    "        \"count_digits\": sum(c.isdigit() for c in url),\n",
    "        \"has_https\": 1 if url.startswith(\"https://\") else 0,\n",
    "        \"count_special\": len(re.findall(r'[^\\w\\s]', url)),\n",
    "    }\n",
    "    return list(features.values())\n"
   ]
  }
 ],
 "metadata": {
  "language_info": {
   "name": "python"
  }
 },
 "nbformat": 4,
 "nbformat_minor": 5
}
