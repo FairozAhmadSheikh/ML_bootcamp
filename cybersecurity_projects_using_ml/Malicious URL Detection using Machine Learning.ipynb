{
 "cells": [
  {
   "cell_type": "code",
   "execution_count": null,
   "id": "3d847dc6",
   "metadata": {
    "vscode": {
     "languageId": "plaintext"
    }
   },
   "outputs": [],
   "source": [
    "import pandas as pd\n",
    "import numpy as np\n",
    "import re\n",
    "import joblib\n",
    "import os\n",
    "from sklearn.ensemble import GradientBoostingClassifier\n",
    "from sklearn.model_selection import train_test_split\n",
    "from sklearn.metrics import classification_report, confusion_matrix\n",
    "from sklearn.preprocessing import StandardScaler\n",
    "import seaborn as sns\n",
    "import matplotlib.pyplot as plt"
   ]
  },
  {
   "cell_type": "code",
   "execution_count": null,
   "id": "a65d6b85",
   "metadata": {
    "vscode": {
     "languageId": "plaintext"
    }
   },
   "outputs": [],
   "source": [
    "def extract_features(url):\n",
    "    features = {\n",
    "        \"url_length\": len(url),\n",
    "        \"has_ip\": 1 if re.search(r'http[s]?://\\d+\\.\\d+\\.\\d+\\.\\d+', url) else 0,\n",
    "        \"count_dots\": url.count('.'),\n",
    "        \"count_hyphens\": url.count('-'),\n",
    "        \"count_at\": url.count('@'),\n",
    "        \"count_digits\": sum(c.isdigit() for c in url),\n",
    "        \"has_https\": 1 if url.startswith(\"https://\") else 0,\n",
    "        \"count_special\": len(re.findall(r'[^\\w\\s]', url)),\n",
    "    }\n",
    "    return list(features.values())\n"
   ]
  },
  {
   "cell_type": "code",
   "execution_count": null,
   "id": "80020945",
   "metadata": {
    "vscode": {
     "languageId": "plaintext"
    }
   },
   "outputs": [],
   "source": [
    "def load_dataset(path=\"malicious_urls.csv\"):\n",
    "    if not os.path.exists(path):\n",
    "        print(\"No dataset found. Generating sample data...\")\n",
    "\n",
    "        urls = [\n",
    "            \"http://192.168.0.1/malware.exe\",\n",
    "            \"https://secure-login.com/login\",\n",
    "            \"http://phishingsite.ru/update\",\n",
    "            \"https://accounts.google.com/session\",\n",
    "            \"http://randomsite.xyz/?cmd=inject\",\n",
    "            \"https://example.com\",\n",
    "            \"http://bad-domain.net/index.php?cmd=exec\",\n",
    "            \"https://mybank.com/reset\"\n",
    "        ]\n",
    "        labels = [1, 0, 1, 0, 1, 0, 1, 0]  # 1 = malicious, 0 = safe\n",
    "\n",
    "        data = [extract_features(url) + [label] for url, label in zip(urls * 125, labels * 125)]\n",
    "        columns = [\n",
    "            \"url_length\", \"has_ip\", \"count_dots\", \"count_hyphens\",\n",
    "            \"count_at\", \"count_digits\", \"has_https\", \"count_special\", \"is_malicious\"\n",
    "        ]\n",
    "        df = pd.DataFrame(data, columns=columns)\n",
    "        df.to_csv(path, index=False)\n",
    "    else:\n",
    "        df = pd.read_csv(path)\n",
    "\n",
    "    print(f\"Loaded dataset: {df.shape}\")\n",
    "    return df"
   ]
  },
  {
   "cell_type": "code",
   "execution_count": null,
   "id": "21138e06",
   "metadata": {
    "vscode": {
     "languageId": "plaintext"
    }
   },
   "outputs": [],
   "source": [
    "def preprocess(df):\n",
    "    X = df.drop(\"is_malicious\", axis=1)\n",
    "    y = df[\"is_malicious\"]\n",
    "    scaler = StandardScaler()\n",
    "    X_scaled = scaler.fit_transform(X)\n",
    "    return X_scaled, y, scaler\n"
   ]
  },
  {
   "cell_type": "code",
   "execution_count": null,
   "id": "2849471e",
   "metadata": {
    "vscode": {
     "languageId": "plaintext"
    }
   },
   "outputs": [],
   "source": [
    "def train_model(X_train, y_train):\n",
    "    model = GradientBoostingClassifier()\n",
    "    model.fit(X_train, y_train)\n",
    "    return model\n",
    "\n",
    "def evaluate(model, X_test, y_test):\n",
    "    y_pred = model.predict(X_test)\n",
    "    print(\"\\nClassification Report:\\n\", classification_report(y_test, y_pred))\n",
    "    sns.heatmap(confusion_matrix(y_test, y_pred), annot=True, fmt=\"d\", cmap=\"Reds\")\n",
    "    plt.title(\"Confusion Matrix\")\n",
    "    plt.xlabel(\"Predicted\")\n",
    "    plt.ylabel(\"Actual\")\n",
    "    plt.show()\n",
    "\n",
    "\n",
    "\n"
   ]
  },
  {
   "cell_type": "code",
   "execution_count": null,
   "id": "9072e5c3",
   "metadata": {
    "vscode": {
     "languageId": "plaintext"
    }
   },
   "outputs": [],
   "source": []
  }
 ],
 "metadata": {
  "language_info": {
   "name": "python"
  }
 },
 "nbformat": 4,
 "nbformat_minor": 5
}
