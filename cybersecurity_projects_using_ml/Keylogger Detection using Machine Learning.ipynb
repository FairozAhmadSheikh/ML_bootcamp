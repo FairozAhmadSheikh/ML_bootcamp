{
 "cells": [
  {
   "cell_type": "code",
   "execution_count": null,
   "id": "755d139f",
   "metadata": {
    "vscode": {
     "languageId": "plaintext"
    }
   },
   "outputs": [],
   "source": [
    "import pandas as pd\n",
    "import numpy as np\n",
    "from sklearn.model_selection import train_test_split\n",
    "from sklearn.ensemble import AdaBoostClassifier\n",
    "from sklearn.preprocessing import StandardScaler\n",
    "from sklearn.metrics import classification_report, confusion_matrix\n",
    "import seaborn as sns\n",
    "import matplotlib.pyplot as plt\n",
    "import joblib\n",
    "import os"
   ]
  },
  {
   "cell_type": "code",
   "execution_count": null,
   "id": "45124a5c",
   "metadata": {
    "vscode": {
     "languageId": "plaintext"
    }
   },
   "outputs": [],
   "source": [
    "\n",
    "# 1. Simulate Keylogger Behavior Data\n",
    "def load_dataset(path=\"keylogger_data.csv\"):\n",
    "    if not os.path.exists(path):\n",
    "        print(\"Dataset not found. Creating synthetic keylogger detection dataset...\")\n",
    "\n",
    "        data = {\n",
    "            \"keystroke_rate\": np.random.uniform(0, 20, 1000),          # keys/sec\n",
    "            \"screenshot_freq\": np.random.randint(0, 2, 1000),          # 0/1\n",
    "            \"file_access_rate\": np.random.uniform(0, 30, 1000),        # files/min\n",
    "            \"network_bytes_sent\": np.random.randint(0, 50000, 1000),\n",
    "            \"is_hidden_process\": np.random.randint(0, 2, 1000),\n",
    "            \"process_duration\": np.random.uniform(1, 300, 1000),       # seconds\n",
    "            \"is_keylogger\": np.random.randint(0, 2, 1000)\n",
    "        }\n",
    "\n",
    "        df = pd.DataFrame(data)\n",
    "        df.to_csv(path, index=False)\n",
    "    else:\n",
    "        df = pd.read_csv(path)\n",
    "\n",
    "    print(f\"Loaded dataset with shape: {df.shape}\")\n",
    "    return df\n"
   ]
  }
 ],
 "metadata": {
  "language_info": {
   "name": "python"
  }
 },
 "nbformat": 4,
 "nbformat_minor": 5
}
