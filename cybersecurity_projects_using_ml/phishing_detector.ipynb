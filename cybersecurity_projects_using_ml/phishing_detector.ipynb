{
 "cells": [
  {
   "cell_type": "code",
   "execution_count": null,
   "id": "80cf6823",
   "metadata": {
    "vscode": {
     "languageId": "plaintext"
    }
   },
   "outputs": [],
   "source": [
    "import pandas as pd\n",
    "import numpy as np\n",
    "from sklearn.model_selection import train_test_split\n",
    "from sklearn.ensemble import RandomForestClassifier\n",
    "from sklearn.metrics import classification_report, confusion_matrix\n",
    "from sklearn.preprocessing import StandardScaler\n",
    "import seaborn as sns\n",
    "import matplotlib.pyplot as plt\n",
    "import joblib\n",
    "import os"
   ]
  },
  {
   "cell_type": "code",
   "execution_count": null,
   "id": "807ef170",
   "metadata": {
    "vscode": {
     "languageId": "plaintext"
    }
   },
   "outputs": [],
   "source": [
    "# Load or Simulate Dataset\n",
    "def load_data(path=\"phishing_dataset.csv\"):\n",
    "    if not os.path.exists(path):\n",
    "        print(\"Dataset not found. Generating mock data...\")\n",
    "\n",
    "        # Simulated features\n",
    "        data = {\n",
    "            \"url_length\": np.random.randint(10, 150, 1000),\n",
    "            \"has_ip\": np.random.randint(0, 2, 1000),\n",
    "            \"num_dots\": np.random.randint(1, 5, 1000),\n",
    "            \"has_https\": np.random.randint(0, 2, 1000),\n",
    "            \"suspicious_words\": np.random.randint(0, 2, 1000),\n",
    "            \"domain_age\": np.random.randint(0, 10, 1000),\n",
    "            \"is_phishing\": np.random.randint(0, 2, 1000)\n",
    "        }\n",
    "\n",
    "        df = pd.DataFrame(data)\n",
    "        df.to_csv(path, index=False)\n",
    "    else:\n",
    "        df = pd.read_csv(path)\n",
    "\n",
    "    print(f\"Loaded dataset with shape: {df.shape}\")\n",
    "    return df"
   ]
  },
  {
   "cell_type": "code",
   "execution_count": null,
   "id": "b6a67d16",
   "metadata": {
    "vscode": {
     "languageId": "plaintext"
    }
   },
   "outputs": [],
   "source": [
    "#  Preprocess\n",
    "\n",
    "def preprocess(df):\n",
    "    X = df.drop(\"is_phishing\", axis=1)\n",
    "    y = df[\"is_phishing\"]\n",
    "    scaler = StandardScaler()\n",
    "    X_scaled = scaler.fit_transform(X)\n",
    "    return X_scaled, y, scaler\n"
   ]
  },
  {
   "cell_type": "code",
   "execution_count": null,
   "id": "488ccf16",
   "metadata": {
    "vscode": {
     "languageId": "plaintext"
    }
   },
   "outputs": [],
   "source": [
    "#Train\n",
    "def train_model(X_train, y_train):\n",
    "    model = RandomForestClassifier(n_estimators=100, random_state=42)\n",
    "    model.fit(X_train, y_train)\n",
    "    return model"
   ]
  },
  {
   "cell_type": "code",
   "execution_count": null,
   "id": "29a2aa9a",
   "metadata": {
    "vscode": {
     "languageId": "plaintext"
    }
   },
   "outputs": [],
   "source": [
    "#  Evaluate\n",
    "\n",
    "def evaluate(model, X_test, y_test):\n",
    "    y_pred = model.predict(X_test)\n",
    "    print(\"\\nClassification Report:\\n\", classification_report(y_test, y_pred))\n",
    "    cm = confusion_matrix(y_test, y_pred)\n",
    "    sns.heatmap(cm, annot=True, fmt=\"d\", cmap=\"Purples\")\n",
    "    plt.title(\"Confusion Matrix\")\n",
    "    plt.xlabel(\"Predicted\")\n",
    "    plt.ylabel(\"Actual\")\n",
    "    plt.show()"
   ]
  },
  {
   "cell_type": "code",
   "execution_count": null,
   "id": "35e72812",
   "metadata": {
    "vscode": {
     "languageId": "plaintext"
    }
   },
   "outputs": [],
   "source": [
    "#  Save Model\n",
    "\n",
    "def save(model, scaler):\n",
    "    os.makedirs(\"models\", exist_ok=True)\n",
    "    joblib.dump(model, \"models/phishing_model.pkl\")\n",
    "    joblib.dump(scaler, \"models/phishing_scaler.pkl\")\n",
    "    print(\"Model and scaler saved in 'models/'\")\n"
   ]
  },
  {
   "cell_type": "code",
   "execution_count": null,
   "id": "c341e638",
   "metadata": {
    "vscode": {
     "languageId": "plaintext"
    }
   },
   "outputs": [],
   "source": [
    "#  Run All\n",
    "\n",
    "if __name__ == \"__main__\":\n",
    "    df = load_data()\n",
    "    X, y, scaler = preprocess(df)\n",
    "    X_train, X_test, y_train, y_test = train_test_split(X, y, test_size=0.2, random_state=42)\n",
    "    model = train_model(X_train, y_train)\n",
    "    evaluate(model, X_test, y_test)\n",
    "    save(model, scaler)"
   ]
  }
 ],
 "metadata": {
  "language_info": {
   "name": "python"
  }
 },
 "nbformat": 4,
 "nbformat_minor": 5
}
