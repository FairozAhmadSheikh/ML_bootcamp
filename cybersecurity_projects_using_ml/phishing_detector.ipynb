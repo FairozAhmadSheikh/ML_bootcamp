{
 "cells": [
  {
   "cell_type": "code",
   "execution_count": null,
   "id": "80cf6823",
   "metadata": {
    "vscode": {
     "languageId": "plaintext"
    }
   },
   "outputs": [],
   "source": [
    "import pandas as pd\n",
    "import numpy as np\n",
    "from sklearn.model_selection import train_test_split\n",
    "from sklearn.ensemble import RandomForestClassifier\n",
    "from sklearn.metrics import classification_report, confusion_matrix\n",
    "from sklearn.preprocessing import StandardScaler\n",
    "import seaborn as sns\n",
    "import matplotlib.pyplot as plt\n",
    "import joblib\n",
    "import os"
   ]
  },
  {
   "cell_type": "code",
   "execution_count": null,
   "id": "807ef170",
   "metadata": {
    "vscode": {
     "languageId": "plaintext"
    }
   },
   "outputs": [],
   "source": [
    "# Load or Simulate Dataset\n",
    "def load_data(path=\"phishing_dataset.csv\"):\n",
    "    if not os.path.exists(path):\n",
    "        print(\"Dataset not found. Generating mock data...\")\n",
    "\n",
    "        # Simulated features\n",
    "        data = {\n",
    "            \"url_length\": np.random.randint(10, 150, 1000),\n",
    "            \"has_ip\": np.random.randint(0, 2, 1000),\n",
    "            \"num_dots\": np.random.randint(1, 5, 1000),\n",
    "            \"has_https\": np.random.randint(0, 2, 1000),\n",
    "            \"suspicious_words\": np.random.randint(0, 2, 1000),\n",
    "            \"domain_age\": np.random.randint(0, 10, 1000),\n",
    "            \"is_phishing\": np.random.randint(0, 2, 1000)\n",
    "        }\n",
    "\n",
    "        df = pd.DataFrame(data)\n",
    "        df.to_csv(path, index=False)\n",
    "    else:\n",
    "        df = pd.read_csv(path)\n",
    "\n",
    "    print(f\"Loaded dataset with shape: {df.shape}\")\n",
    "    return df"
   ]
  },
  {
   "cell_type": "code",
   "execution_count": null,
   "id": "b6a67d16",
   "metadata": {
    "vscode": {
     "languageId": "plaintext"
    }
   },
   "outputs": [],
   "source": [
    "#  Preprocess\n",
    "\n",
    "def preprocess(df):\n",
    "    X = df.drop(\"is_phishing\", axis=1)\n",
    "    y = df[\"is_phishing\"]\n",
    "    scaler = StandardScaler()\n",
    "    X_scaled = scaler.fit_transform(X)\n",
    "    return X_scaled, y, scaler\n"
   ]
  }
 ],
 "metadata": {
  "language_info": {
   "name": "python"
  }
 },
 "nbformat": 4,
 "nbformat_minor": 5
}
